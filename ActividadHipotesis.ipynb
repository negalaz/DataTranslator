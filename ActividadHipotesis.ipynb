{
 "cells": [
  {
   "cell_type": "code",
   "execution_count": 1,
   "id": "a019990f",
   "metadata": {},
   "outputs": [],
   "source": [
    "import numpy as np\n",
    "import scipy as sp\n",
    "import scipy.stats as stats\n",
    "import matplotlib.pyplot as plt\n",
    "import pandas as pd \n"
   ]
  },
  {
   "cell_type": "code",
   "execution_count": 118,
   "id": "c255fbf2",
   "metadata": {},
   "outputs": [
    {
     "name": "stdout",
     "output_type": "stream",
     "text": [
      "4.242640687119285\n"
     ]
    },
    {
     "data": {
      "text/plain": [
       "(1.1785113019775793, 1.6448536269514722, 0.11929641465821783)"
      ]
     },
     "execution_count": 118,
     "metadata": {},
     "output_type": "execute_result"
    }
   ],
   "source": [
    "sig=0.05\n",
    "t=300\n",
    "n=50\n",
    "m=305\n",
    "s=30\n",
    "denominador = s/(n**0.5)\n",
    "\n",
    "\n",
    "z_score = (m-t)/denominador\n",
    "ppf=stats.norm(0,1).ppf(1-sig)\n",
    "p_value = 1 - stats.norm(0,1).cdf(z_score)\n",
    "\n",
    "\n",
    "\n",
    "z_score, ppf, p_value"
   ]
  },
  {
   "cell_type": "code",
   "execution_count": 60,
   "id": "234336b3",
   "metadata": {},
   "outputs": [
    {
     "name": "stdout",
     "output_type": "stream",
     "text": [
      "0.0050000000000000044\n"
     ]
    },
    {
     "data": {
      "text/plain": [
       "(-17.74823934929882, -2.5758293035489004, 8.892133025881668e-71)"
      ]
     },
     "execution_count": 60,
     "metadata": {},
     "output_type": "execute_result"
    }
   ],
   "source": [
    "#Ejercicio 2 aderezos\n",
    "\n",
    "#8oz\n",
    "cantidad = 8\n",
    "media = 7.91\n",
    "varianza = .03 ** 2\n",
    "muestra = 35\n",
    "sig = (1 - .99)/2\n",
    "des = .03\n",
    "print(sig)\n",
    "#H0= las botellas están bien llenadas\n",
    "\n",
    "#la maquina debe detenerse y la proudccion debe continuar hasta que se repare la maquina? \n",
    "\n",
    "#significancia del 99% \n",
    "\n",
    "denominador = des / (muestra**.5)\n",
    "\n",
    "z_score = (media - cantidad) / denominador\n",
    "\n",
    "ppf = stats.norm(0,1).ppf(sig)\n",
    "\n",
    "p_value =  stats.norm(0,1).cdf(z_score)\n",
    "\n",
    "z_score,ppf,p_value\n",
    "\n",
    "\n",
    "\n",
    "\n",
    "\n"
   ]
  },
  {
   "cell_type": "code",
   "execution_count": 125,
   "id": "4405a841",
   "metadata": {},
   "outputs": [
    {
     "name": "stdout",
     "output_type": "stream",
     "text": [
      "15.914423065819395 0.9944448381951315 850\n",
      "puntuacion z: -2.5089123466169267, ppf= -2.575829303548901,valor p: 0.006055176555648026 , Conclucion:Se rechaza H0\n"
     ]
    }
   ],
   "source": [
    "#Ejercicio 3\n",
    "#H0 =  Tienen 16 onzas\n",
    "\n",
    "df_bebidas = pd.read_csv('./data/water.csv')\n",
    "significancia = .005  # 1% \n",
    "\n",
    "media = df_bebidas['0'].mean()\n",
    "desviacion = df_bebidas['0'].std()\n",
    "muestra = df_bebidas['0'].count()\n",
    "H0 = 16\n",
    "print(media,desviacion,muestra)\n",
    "denominador = desviacion / (muestra**.5)\n",
    "\n",
    "z_score = (media - H0) / denominador\n",
    "\n",
    "ppf = stats.norm(0,1).ppf(significancia)\n",
    "\n",
    "p_value =  stats.norm(0,1).cdf(z_score)\n",
    "\n",
    "print(f'puntuacion z: {z_score}, ppf= {ppf},valor p: {p_value} , Conclucion:Se rechaza H0')\n",
    "\n"
   ]
  },
  {
   "cell_type": "code",
   "execution_count": 108,
   "id": "09572ed8",
   "metadata": {},
   "outputs": [
    {
     "data": {
      "text/plain": [
       "(2.1920465567410328,\n",
       " 2.796939504772804,\n",
       " 0.0383135642841681,\n",
       " 'Dado que P es mayor a alpha entonces se acepta la hipotesis')"
      ]
     },
     "execution_count": 108,
     "metadata": {},
     "output_type": "execute_result"
    }
   ],
   "source": [
    "#Ejercicio 4\n",
    "significancia = .005  # 1% \n",
    "\n",
    "media = 174.52\n",
    "desviacion = 10.31\n",
    "muestra = 25\n",
    "Mu = 170\n",
    "\n",
    "#Tamaño de la muestra menor a 30 entonces usare una prueba T\n",
    "t = (media - Mu) / (desviacion/(muestra)**.5)\n",
    "\n",
    "t_crit = stats.t.ppf(q=1-significancia, df=24)\n",
    "p_value = 2*(1-stats.t.cdf(x=t,df=24))\n",
    "\n",
    "t,t_crit,p_value,'Dado que P es mayor a alpha entonces se acepta la hipotesis'\n"
   ]
  },
  {
   "cell_type": "code",
   "execution_count": 113,
   "id": "73e19ce1",
   "metadata": {},
   "outputs": [
    {
     "data": {
      "text/plain": [
       "(2.081728548586485,\n",
       " 1.7613101357748562,\n",
       " 0.028099370183143346,\n",
       " 'Dado que P es menor a alpha entonces se rechaza la hipotesis')"
      ]
     },
     "execution_count": 113,
     "metadata": {},
     "output_type": "execute_result"
    }
   ],
   "source": [
    "#Ejercicio 5\n",
    "\n",
    "significancia = .05  # 5% \n",
    "\n",
    "media = 16.43\n",
    "desviacion = .8 #de la muestra\n",
    "muestra = 15\n",
    "Mu = 16 #media de la muestra\n",
    "\n",
    "#Tamaño de la muestra menor a 30 entonces usare una prueba T\n",
    "\n",
    "t = (media - Mu) / (desviacion/(muestra)**.5)\n",
    "\n",
    "t_crit = stats.t.ppf(q=1-significancia, df=14)\n",
    "p_value = (1-stats.t.cdf(x=t,df=14))\n",
    "\n",
    "#H0 = los googles reducen el tiempo ?\n",
    "\n",
    "t,t_crit,p_value,'Dado que P es menor a alpha entonces se rechaza la hipotesis'\n"
   ]
  },
  {
   "cell_type": "code",
   "execution_count": 117,
   "id": "ed4b4fce",
   "metadata": {},
   "outputs": [
    {
     "data": {
      "text/plain": [
       "0.049999999999999975"
      ]
     },
     "execution_count": 117,
     "metadata": {},
     "output_type": "execute_result"
    }
   ],
   "source": [
    "#Ejercicio 6\n",
    "significancia = .05  \n",
    "\n",
    "ppf = stats.norm(0,1).ppf(significancia)\n",
    "\n",
    "p_value =  stats.norm(0,1).cdf(ppf)\n",
    "\n",
    "p_value\n"
   ]
  },
  {
   "cell_type": "code",
   "execution_count": null,
   "id": "77d701d5",
   "metadata": {},
   "outputs": [],
   "source": [
    "\n"
   ]
  }
 ],
 "metadata": {
  "kernelspec": {
   "display_name": "Python 3 (ipykernel)",
   "language": "python",
   "name": "python3"
  },
  "language_info": {
   "codemirror_mode": {
    "name": "ipython",
    "version": 3
   },
   "file_extension": ".py",
   "mimetype": "text/x-python",
   "name": "python",
   "nbconvert_exporter": "python",
   "pygments_lexer": "ipython3",
   "version": "3.9.12"
  }
 },
 "nbformat": 4,
 "nbformat_minor": 5
}
