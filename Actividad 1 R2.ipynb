{
 "cells": [
  {
   "cell_type": "markdown",
   "metadata": {
    "tags": []
   },
   "source": [
    "# Pandas: Práctica"
   ]
  },
  {
   "cell_type": "markdown",
   "metadata": {},
   "source": [
    "## Objetivos\n",
    "\n",
    "* Crear objetos de tipo `Series` y `DataFrame` a partir de datos de Python. \n",
    "* Crear objetos de tipo `DataFrame` a partir de archivos.\n",
    "* Indexar y cortar objetos con `pandas`.\n",
    "* Agregar datos en el `DataFrame`s.\n",
    "* Unir múltiples objetos de tipo `DataFrame`."
   ]
  },
  {
   "cell_type": "markdown",
   "metadata": {},
   "source": [
    "## ¿Qué es Pandas?\n",
    "\n",
    "Una biblioteca de Python que proporciona estructuras de datos y herramientas de análisis de datos para datos tabulares de muchos tipos. Piensa en un `DataFrame` como una tabla en SQL. \n",
    "\n",
    "Usaremos esto prácticamente todos los días de aquí en adelante. Así que asegúrate de completar la tarea, e incluso hacerla de nuevo si no te sientes cómodo."
   ]
  },
  {
   "cell_type": "markdown",
   "metadata": {},
   "source": [
    "## Beneficios\n",
    "\n",
    "  * Almacenamiento y procesamiento eficiente de los datos.\n",
    "  * Incluye muchas funciones incorporadas para la transformación de datos, agregaciones y gráficos.\n",
    "  * Excelente para el trabajo exploratorio.\n",
    "\n",
    "## No tan buenas\n",
    "\n",
    "  * No se adapta muy bien a conjuntos de datos muy grandes.\n",
    "\n",
    "## Documentación:\n",
    "\n",
    "Documentación de pandas:\n",
    "\n",
    "  * http://pandas.pydata.org/pandas-docs/stable/index.html\n",
    "  \n",
    "  \n",
    "Cheatsheet de utilidad:\n",
    "\n",
    "  * https://pandas.pydata.org/Pandas_Cheat_Sheet.pdf\n",
    "\n",
    "\n",
    "Lectura extra:\n",
    "\n",
    "\n",
    "  * [Indexing and Selecting](https://pandas.pydata.org/pandas-docs/stable/indexing.html)\n",
    "  * [Advanced Indexing](http://pandas.pydata.org/pandas-docs/stable/advanced.html#advanced-mi-slicers)\n",
    "  * [Group-by](https://pandas.pydata.org/pandas-docs/stable/groupby.html)"
   ]
  },
  {
   "cell_type": "markdown",
   "metadata": {
    "tags": []
   },
   "source": [
    "## Imports"
   ]
  },
  {
   "cell_type": "code",
   "execution_count": 1,
   "metadata": {},
   "outputs": [],
   "source": [
    "%matplotlib inline\n",
    "\n",
    "import pandas as pd\n",
    "import numpy as np\n",
    "import matplotlib.pyplot as plt\n",
    "\n",
    "plt.style.use('ggplot')"
   ]
  },
  {
   "cell_type": "markdown",
   "metadata": {},
   "source": [
    "## Numpy"
   ]
  },
  {
   "cell_type": "markdown",
   "metadata": {},
   "source": [
    "`pandas` se construye a partir de los tipos de datos de `numpy` una biblioteca de nivel inferior.\n",
    "\n",
    "El objeto básico de `numpy` es un `array`."
   ]
  },
  {
   "cell_type": "code",
   "execution_count": 2,
   "metadata": {},
   "outputs": [
    {
     "data": {
      "text/plain": [
       "array([0, 1, 2, 3, 4, 5])"
      ]
     },
     "execution_count": 2,
     "metadata": {},
     "output_type": "execute_result"
    }
   ],
   "source": [
    "x = np.array([0, 1, 2, 3, 4, 5])\n",
    "x"
   ]
  },
  {
   "cell_type": "markdown",
   "metadata": {},
   "source": [
    "Los arrays cuentan con operaciones muy útiles."
   ]
  },
  {
   "cell_type": "code",
   "execution_count": 3,
   "metadata": {},
   "outputs": [
    {
     "data": {
      "text/plain": [
       "15"
      ]
     },
     "execution_count": 3,
     "metadata": {},
     "output_type": "execute_result"
    }
   ],
   "source": [
    "x.sum()  # <-- Suma de números"
   ]
  },
  {
   "cell_type": "markdown",
   "metadata": {},
   "source": [
    "Los arrays pueden ser multidimensionales. Un array **bidimensional** es una matriz."
   ]
  },
  {
   "cell_type": "code",
   "execution_count": 4,
   "metadata": {},
   "outputs": [
    {
     "data": {
      "text/plain": [
       "array([[0, 1, 2],\n",
       "       [1, 2, 3],\n",
       "       [2, 3, 4],\n",
       "       [5, 6, 7]])"
      ]
     },
     "execution_count": 4,
     "metadata": {},
     "output_type": "execute_result"
    }
   ],
   "source": [
    "M = np.array([\n",
    "    [0, 1, 2],\n",
    "    [1, 2, 3],\n",
    "    [2, 3, 4],\n",
    "    [5, 6, 7]\n",
    "])\n",
    "\n",
    "M"
   ]
  },
  {
   "cell_type": "code",
   "execution_count": 5,
   "metadata": {},
   "outputs": [
    {
     "name": "stdout",
     "output_type": "stream",
     "text": [
      "(6,)\n",
      "(4, 3)\n"
     ]
    }
   ],
   "source": [
    "print(x.shape)\n",
    "print(M.shape)"
   ]
  },
  {
   "cell_type": "markdown",
   "metadata": {},
   "source": [
    "## Serie"
   ]
  },
  {
   "cell_type": "code",
   "execution_count": 6,
   "metadata": {},
   "outputs": [
    {
     "data": {
      "text/plain": [
       "0    34\n",
       "1    35\n",
       "2    36\n",
       "3    37\n",
       "4    38\n",
       "dtype: int32"
      ]
     },
     "execution_count": 6,
     "metadata": {},
     "output_type": "execute_result"
    }
   ],
   "source": [
    "heights = np.array([34, 35, 36, 37, 38])\n",
    "student_heights = pd.Series(heights)\n",
    "student_heights"
   ]
  },
  {
   "cell_type": "markdown",
   "metadata": {},
   "source": [
    "Para acceder al array debe ser a través de '.values'."
   ]
  },
  {
   "cell_type": "code",
   "execution_count": 7,
   "metadata": {},
   "outputs": [
    {
     "data": {
      "text/plain": [
       "array([34, 35, 36, 37, 38])"
      ]
     },
     "execution_count": 7,
     "metadata": {},
     "output_type": "execute_result"
    }
   ],
   "source": [
    "student_heights.values"
   ]
  },
  {
   "cell_type": "markdown",
   "metadata": {},
   "source": [
    "Losnúmeros '0,1,2,3,4' son el índice por defecto. \n",
    "\n",
    "Se puede acceder al índice a través de '.index'"
   ]
  },
  {
   "cell_type": "code",
   "execution_count": 8,
   "metadata": {},
   "outputs": [
    {
     "data": {
      "text/plain": [
       "RangeIndex(start=0, stop=5, step=1)"
      ]
     },
     "execution_count": 8,
     "metadata": {},
     "output_type": "execute_result"
    }
   ],
   "source": [
    "student_heights.index"
   ]
  },
  {
   "cell_type": "markdown",
   "metadata": {},
   "source": [
    "El índice es un [iterable](https://www.programiz.com/python-programming/iterator)."
   ]
  },
  {
   "cell_type": "code",
   "execution_count": 9,
   "metadata": {},
   "outputs": [
    {
     "data": {
      "text/plain": [
       "pandas.core.indexes.range.RangeIndex"
      ]
     },
     "execution_count": 9,
     "metadata": {},
     "output_type": "execute_result"
    }
   ],
   "source": [
    "type(student_heights.index)"
   ]
  },
  {
   "cell_type": "code",
   "execution_count": 10,
   "metadata": {},
   "outputs": [
    {
     "data": {
      "text/plain": [
       "[0, 1, 2, 3, 4]"
      ]
     },
     "execution_count": 10,
     "metadata": {},
     "output_type": "execute_result"
    }
   ],
   "source": [
    "list(student_heights.index)"
   ]
  },
  {
   "cell_type": "markdown",
   "metadata": {},
   "source": [
    "Es posible cambiar el índice manualmente"
   ]
  },
  {
   "cell_type": "code",
   "execution_count": 11,
   "metadata": {},
   "outputs": [],
   "source": [
    "student_heights.index = [\"Tomas\", \"Angel\", \"Stacy\", \"Michaela\", \"Haden\"]"
   ]
  },
  {
   "cell_type": "code",
   "execution_count": 12,
   "metadata": {},
   "outputs": [
    {
     "data": {
      "text/plain": [
       "Tomas       34\n",
       "Angel       35\n",
       "Stacy       36\n",
       "Michaela    37\n",
       "Haden       38\n",
       "dtype: int32"
      ]
     },
     "execution_count": 12,
     "metadata": {},
     "output_type": "execute_result"
    }
   ],
   "source": [
    "student_heights"
   ]
  },
  {
   "cell_type": "markdown",
   "metadata": {},
   "source": [
    "Ahora es posible utilizar palabras para acceder a los ítems de la Serie."
   ]
  },
  {
   "cell_type": "code",
   "execution_count": 13,
   "metadata": {},
   "outputs": [
    {
     "data": {
      "text/plain": [
       "37"
      ]
     },
     "execution_count": 13,
     "metadata": {},
     "output_type": "execute_result"
    }
   ],
   "source": [
    "student_heights['Michaela']"
   ]
  },
  {
   "cell_type": "markdown",
   "metadata": {},
   "source": [
    "También se puede acceder a un ítem por su orden."
   ]
  },
  {
   "cell_type": "code",
   "execution_count": 14,
   "metadata": {},
   "outputs": [
    {
     "data": {
      "text/plain": [
       "36"
      ]
     },
     "execution_count": 14,
     "metadata": {},
     "output_type": "execute_result"
    }
   ],
   "source": [
    "student_heights[2]"
   ]
  },
  {
   "cell_type": "markdown",
   "metadata": {},
   "source": [
    "Utilizar métodos de numpy."
   ]
  },
  {
   "cell_type": "code",
   "execution_count": 15,
   "metadata": {},
   "outputs": [
    {
     "data": {
      "text/plain": [
       "36.0"
      ]
     },
     "execution_count": 15,
     "metadata": {},
     "output_type": "execute_result"
    }
   ],
   "source": [
    "student_heights.mean()"
   ]
  },
  {
   "cell_type": "markdown",
   "metadata": {},
   "source": [
    "Se pueden ver los parámetros de una función escribiendo\n",
    "```python\n",
    "pd.Series()\n",
    "```\n",
    "colocando el cursor dentro del paréntesis y presionando 'shift+tab'."
   ]
  },
  {
   "cell_type": "code",
   "execution_count": 17,
   "metadata": {
    "scrolled": true
   },
   "outputs": [],
   "source": [
    "#Código:\n",
    "pd.Series()"
   ]
  },
  {
   "cell_type": "markdown",
   "metadata": {},
   "source": [
    "### 1.- Cuáles son los parámetros de pd.Series()?"
   ]
  },
  {
   "cell_type": "code",
   "execution_count": null,
   "metadata": {},
   "outputs": [],
   "source": [
    "#Código:\n",
    "\n",
    "#data,index,dtype,name,copy,fastpath\n"
   ]
  },
  {
   "cell_type": "markdown",
   "metadata": {},
   "source": [
    "> POR FAVOR, NUNCA JAMÁS COPIE Y PEGUE MIENTRAS HACE ESTAS PREGUNTAS. No aprenderás a codificar de memoria. Y en tres semanas te darás cuenta de que no lo sabes. Lo hemos visto una y otra vez. Vale la pena. Abre una segunda ventana si necesitas copiar código.\n",
    "\n",
    "> Para las variables que has definido o cargado utiliza el 'tabulador'. Por ejemplo:\n",
    ">\n",
    ">\n",
    "> Abajo escribe 'bra' + tabulador y observa cómo se rellena el resto. Puede ser difícil de recordar, pero realmente ayuda.\n",
    "\n",
    "\n",
    "## 2.- Hacer una serie 'brag_vow' con índice 'i am a numpy champ'. And values 'So Pandas here I come\".\n",
    "\n",
    "```python \n",
    "\n",
    "print(brag_vow)\n",
    "\n",
    "I            So\n",
    "am       Pandas\n",
    "a          here\n",
    "numpy         I\n",
    "champ      come\n",
    "dtype: object\n",
    "```"
   ]
  },
  {
   "cell_type": "code",
   "execution_count": 21,
   "metadata": {},
   "outputs": [
    {
     "data": {
      "text/plain": [
       "I            So\n",
       "am       Pandas\n",
       "a          here\n",
       "numpy         I\n",
       "champ      come\n",
       "dtype: object"
      ]
     },
     "execution_count": 21,
     "metadata": {},
     "output_type": "execute_result"
    }
   ],
   "source": [
    "#Código:\n",
    "\n",
    "brag_vow = pd.Series(data=['So','Pandas','here','I','come'],index=[\"I\",\"am\",\"a\",\"numpy\",\"champ\"]);\n",
    "brag_vow"
   ]
  },
  {
   "cell_type": "markdown",
   "metadata": {},
   "source": [
    "### 3.- Imprimir los últimos tres elementos de 'brag_vow'\n",
    "\n",
    "```python \n",
    "a          here\n",
    "numpy         I\n",
    "champ      come\n",
    "dtype: object\n",
    "```"
   ]
  },
  {
   "cell_type": "code",
   "execution_count": 27,
   "metadata": {},
   "outputs": [
    {
     "name": "stdout",
     "output_type": "stream",
     "text": [
      "a        here\n",
      "numpy       I\n",
      "champ    come\n",
      "dtype: object\n"
     ]
    }
   ],
   "source": [
    "#Código:\n",
    "print(brag_vow.tail(3));"
   ]
  },
  {
   "cell_type": "markdown",
   "metadata": {},
   "source": [
    "### 4.- Imprimir los elementos relacionados al index 'I a champ' (No utilizar índice numérico)\n",
    "\n",
    "```python \n",
    "I          So\n",
    "a        here\n",
    "champ    come\n",
    "dtype: object\n",
    "```"
   ]
  },
  {
   "cell_type": "code",
   "execution_count": 37,
   "metadata": {},
   "outputs": [
    {
     "name": "stdout",
     "output_type": "stream",
     "text": [
      "I          So\n",
      "a        here\n",
      "champ    come\n",
      "dtype: object\n"
     ]
    }
   ],
   "source": [
    "#Código:\n",
    "print(brag_vow.loc[[\"I\",\"a\",\"champ\"]]);"
   ]
  },
  {
   "cell_type": "markdown",
   "metadata": {},
   "source": [
    "### 5.- De \"student_heights\", imprimir los estudiantes cuya estatura es un numero par por medio de un índice booleano.\n",
    "\n",
    "```python \n",
    "Tomas    34\n",
    "Stacy    36\n",
    "Haden    38\n",
    "dtype: int64\n",
    "```"
   ]
  },
  {
   "cell_type": "code",
   "execution_count": 42,
   "metadata": {},
   "outputs": [
    {
     "name": "stdout",
     "output_type": "stream",
     "text": [
      "Tomas    34\n",
      "Stacy    36\n",
      "Haden    38\n",
      "dtype: int32\n"
     ]
    }
   ],
   "source": [
    "#Código:\n",
    "print(student_heights.loc[student_heights.values % 2 == 0]);\n"
   ]
  },
  {
   "cell_type": "markdown",
   "metadata": {},
   "source": [
    "### 6.- Imprimir los valores de brag_vow:\n",
    "\n",
    "```python \n",
    "array(['So', 'Pandas', 'here', 'I', 'come'], dtype=object)\n",
    "```"
   ]
  },
  {
   "cell_type": "code",
   "execution_count": 324,
   "metadata": {},
   "outputs": [
    {
     "data": {
      "text/plain": [
       "array(['So', 'Pandas', 'here', 'I', 'come'], dtype=object)"
      ]
     },
     "execution_count": 324,
     "metadata": {},
     "output_type": "execute_result"
    }
   ],
   "source": [
    "#Código:\n",
    "\n",
    "brag_vow.values"
   ]
  },
  {
   "cell_type": "markdown",
   "metadata": {},
   "source": [
    "### 7.- Imprimir el index de brag_vow:\n",
    "\n",
    "```python \n",
    "Index(['I', 'am', 'a', 'numpy', 'champ'], dtype='object')\n",
    "```"
   ]
  },
  {
   "cell_type": "code",
   "execution_count": 44,
   "metadata": {},
   "outputs": [
    {
     "name": "stdout",
     "output_type": "stream",
     "text": [
      "Index(['I', 'am', 'a', 'numpy', 'champ'], dtype='object')\n"
     ]
    }
   ],
   "source": [
    "#Código:\n",
    "\n",
    "print(brag_vow.index);\n"
   ]
  },
  {
   "cell_type": "markdown",
   "metadata": {},
   "source": [
    "# Nombre de una Serie"
   ]
  },
  {
   "cell_type": "markdown",
   "metadata": {},
   "source": [
    "Las Series pueden tener un nombre"
   ]
  },
  {
   "cell_type": "code",
   "execution_count": 47,
   "metadata": {},
   "outputs": [],
   "source": [
    "student_grades = pd.Series([45,56,78,89,90], \n",
    "                           index=['Tomas', 'Angel', 'Stacy', 'Michaela', 'Haden'], \n",
    "                           name='grades')"
   ]
  },
  {
   "cell_type": "code",
   "execution_count": 48,
   "metadata": {},
   "outputs": [
    {
     "data": {
      "text/plain": [
       "Tomas       45\n",
       "Angel       56\n",
       "Stacy       78\n",
       "Michaela    89\n",
       "Haden       90\n",
       "Name: grades, dtype: int64"
      ]
     },
     "execution_count": 48,
     "metadata": {},
     "output_type": "execute_result"
    }
   ],
   "source": [
    "student_grades"
   ]
  },
  {
   "cell_type": "markdown",
   "metadata": {},
   "source": [
    "Observe el Name:"
   ]
  },
  {
   "cell_type": "markdown",
   "metadata": {},
   "source": [
    "### Crear Dataframes a partir de objetos"
   ]
  },
  {
   "cell_type": "markdown",
   "metadata": {},
   "source": [
    "Tenemos dos series: student_heights y student_grades. Cada una tiene los mismos estudiantes en el índice. ¿No sería genial si pudiéramos acceder a todos los datos de los estudiantes a la vez?\n",
    "\n",
    "Para ello, utilizaremos un dataframe."
   ]
  },
  {
   "cell_type": "code",
   "execution_count": 49,
   "metadata": {},
   "outputs": [
    {
     "data": {
      "text/html": [
       "<div>\n",
       "<style scoped>\n",
       "    .dataframe tbody tr th:only-of-type {\n",
       "        vertical-align: middle;\n",
       "    }\n",
       "\n",
       "    .dataframe tbody tr th {\n",
       "        vertical-align: top;\n",
       "    }\n",
       "\n",
       "    .dataframe thead th {\n",
       "        text-align: right;\n",
       "    }\n",
       "</style>\n",
       "<table border=\"1\" class=\"dataframe\">\n",
       "  <thead>\n",
       "    <tr style=\"text-align: right;\">\n",
       "      <th></th>\n",
       "      <th>grade</th>\n",
       "      <th>height</th>\n",
       "    </tr>\n",
       "  </thead>\n",
       "  <tbody>\n",
       "    <tr>\n",
       "      <th>Tomas</th>\n",
       "      <td>45</td>\n",
       "      <td>34</td>\n",
       "    </tr>\n",
       "    <tr>\n",
       "      <th>Angel</th>\n",
       "      <td>56</td>\n",
       "      <td>35</td>\n",
       "    </tr>\n",
       "    <tr>\n",
       "      <th>Stacy</th>\n",
       "      <td>78</td>\n",
       "      <td>36</td>\n",
       "    </tr>\n",
       "    <tr>\n",
       "      <th>Michaela</th>\n",
       "      <td>89</td>\n",
       "      <td>37</td>\n",
       "    </tr>\n",
       "    <tr>\n",
       "      <th>Haden</th>\n",
       "      <td>90</td>\n",
       "      <td>38</td>\n",
       "    </tr>\n",
       "  </tbody>\n",
       "</table>\n",
       "</div>"
      ],
      "text/plain": [
       "          grade  height\n",
       "Tomas        45      34\n",
       "Angel        56      35\n",
       "Stacy        78      36\n",
       "Michaela     89      37\n",
       "Haden        90      38"
      ]
     },
     "execution_count": 49,
     "metadata": {},
     "output_type": "execute_result"
    }
   ],
   "source": [
    "students = pd.DataFrame({'grade':student_grades, 'height':student_heights})\n",
    "students"
   ]
  },
  {
   "cell_type": "markdown",
   "metadata": {},
   "source": [
    "Hay al menos dos maneras de pensar en un dataframe.\n",
    "\n",
    "Una es como una serie múltiple con índice coincidente. La otra es como un array de numpy con columnas y filas explícitamente etiquetadas.\n",
    "\n",
    "La verdad es que un dataframe es AMBAS."
   ]
  },
  {
   "cell_type": "code",
   "execution_count": 50,
   "metadata": {},
   "outputs": [
    {
     "data": {
      "text/plain": [
       "array([[45, 34],\n",
       "       [56, 35],\n",
       "       [78, 36],\n",
       "       [89, 37],\n",
       "       [90, 38]], dtype=int64)"
      ]
     },
     "execution_count": 50,
     "metadata": {},
     "output_type": "execute_result"
    }
   ],
   "source": [
    "# numpy array:\n",
    "students.values"
   ]
  },
  {
   "cell_type": "code",
   "execution_count": 51,
   "metadata": {},
   "outputs": [
    {
     "data": {
      "text/plain": [
       "Tomas       45\n",
       "Angel       56\n",
       "Stacy       78\n",
       "Michaela    89\n",
       "Haden       90\n",
       "Name: grade, dtype: int64"
      ]
     },
     "execution_count": 51,
     "metadata": {},
     "output_type": "execute_result"
    }
   ],
   "source": [
    "# pandas series:\n",
    "students['grade']"
   ]
  },
  {
   "cell_type": "markdown",
   "metadata": {},
   "source": [
    "También podemos crear DataFrames a partir de arrays de numpy o listas con etiquetas e índices proporcionados. El parámetro `columns=` especifica los nombres de las columnas; el `index=` especifica los nombres de las filas."
   ]
  },
  {
   "cell_type": "code",
   "execution_count": null,
   "metadata": {
    "scrolled": true
   },
   "outputs": [],
   "source": [
    "pd.DataFrame(\n",
    "    data = [[1, 2, 3], \n",
    "            [4, 5, 6]], \n",
    "    columns=['a', 'b', 'c'], \n",
    "    index=['foo', 'bar'])"
   ]
  },
  {
   "cell_type": "markdown",
   "metadata": {},
   "source": [
    "Hay MUCHAS maneras de hacer cualquier cosa. Esto hace que el aprendizaje sea más difícil. Pero aquí vamos de todos modos."
   ]
  },
  {
   "cell_type": "markdown",
   "metadata": {},
   "source": [
    "### 8.- Hacer un DataFrame 'classrooms' que contenga:\n",
    "\n",
    "```python \n",
    "> print(classrooms)\n",
    "\n",
    "         chairs  projectors\n",
    "gym           0           1\n",
    "history       2           3\n",
    "math          4           5\n",
    "english       6           7\n",
    "```"
   ]
  },
  {
   "cell_type": "code",
   "execution_count": 53,
   "metadata": {},
   "outputs": [
    {
     "data": {
      "text/html": [
       "<div>\n",
       "<style scoped>\n",
       "    .dataframe tbody tr th:only-of-type {\n",
       "        vertical-align: middle;\n",
       "    }\n",
       "\n",
       "    .dataframe tbody tr th {\n",
       "        vertical-align: top;\n",
       "    }\n",
       "\n",
       "    .dataframe thead th {\n",
       "        text-align: right;\n",
       "    }\n",
       "</style>\n",
       "<table border=\"1\" class=\"dataframe\">\n",
       "  <thead>\n",
       "    <tr style=\"text-align: right;\">\n",
       "      <th></th>\n",
       "      <th>chairs</th>\n",
       "      <th>projectors</th>\n",
       "    </tr>\n",
       "  </thead>\n",
       "  <tbody>\n",
       "    <tr>\n",
       "      <th>gym</th>\n",
       "      <td>0</td>\n",
       "      <td>1</td>\n",
       "    </tr>\n",
       "    <tr>\n",
       "      <th>history</th>\n",
       "      <td>2</td>\n",
       "      <td>3</td>\n",
       "    </tr>\n",
       "    <tr>\n",
       "      <th>math</th>\n",
       "      <td>4</td>\n",
       "      <td>5</td>\n",
       "    </tr>\n",
       "    <tr>\n",
       "      <th>english</th>\n",
       "      <td>6</td>\n",
       "      <td>7</td>\n",
       "    </tr>\n",
       "  </tbody>\n",
       "</table>\n",
       "</div>"
      ],
      "text/plain": [
       "         chairs  projectors\n",
       "gym           0           1\n",
       "history       2           3\n",
       "math          4           5\n",
       "english       6           7"
      ]
     },
     "execution_count": 53,
     "metadata": {},
     "output_type": "execute_result"
    }
   ],
   "source": [
    "#Código:\n",
    "classrooms = pd.DataFrame(data=[[0,1],[2,3],[4,5],[6,7]],columns=[\"chairs\",\"projectors\"],index=[\"gym\",\"history\",\"math\",\"english\"]);\n",
    "\n",
    "classrooms"
   ]
  },
  {
   "cell_type": "markdown",
   "metadata": {},
   "source": [
    "### 9.- Hacer la Serie 'Chairs':\n",
    "\n",
    "```python \n",
    "gym        0\n",
    "history    2\n",
    "math       4\n",
    "english    6\n",
    "Name: chairs, dtype: int64\n",
    "```"
   ]
  },
  {
   "cell_type": "code",
   "execution_count": 56,
   "metadata": {},
   "outputs": [
    {
     "data": {
      "text/plain": [
       "gym        0\n",
       "history    2\n",
       "math       4\n",
       "english    6\n",
       "dtype: int64"
      ]
     },
     "execution_count": 56,
     "metadata": {},
     "output_type": "execute_result"
    }
   ],
   "source": [
    "#Código:\n",
    "chairs = pd.Series({\"gym\":0,\"history\":2,\"math\":4,\"english\":6});\n",
    "chairs\n"
   ]
  },
  {
   "cell_type": "markdown",
   "metadata": {},
   "source": [
    "### 10.- Hacer la serie 'projectors' \n",
    "\n",
    "```python \n",
    "gym        1\n",
    "history    3\n",
    "math       5\n",
    "english    7\n",
    "Name: projectors, dtype: int64\n",
    "```"
   ]
  },
  {
   "cell_type": "code",
   "execution_count": 65,
   "metadata": {},
   "outputs": [
    {
     "data": {
      "text/plain": [
       "gym        1\n",
       "history    3\n",
       "math       5\n",
       "english    7\n",
       "dtype: int64"
      ]
     },
     "execution_count": 65,
     "metadata": {},
     "output_type": "execute_result"
    }
   ],
   "source": [
    "#Código:\n",
    "\n",
    "projectors = pd.Series({\"gym\":1,\"history\":3,\"math\":5,\"english\":7})\n",
    "projectors"
   ]
  },
  {
   "cell_type": "markdown",
   "metadata": {},
   "source": [
    "### 11.- Hacer de nuevo el DataFrame 'classrooms' , pero esta vez utilizando las series 'chairs' y 'projectors'\n",
    "\n",
    "```python \n",
    "> print(classrooms)\n",
    "\n",
    "         chairs  projectors\n",
    "gym           0           1\n",
    "history       2           3\n",
    "math          4           5\n",
    "english       6           7\n",
    "```"
   ]
  },
  {
   "cell_type": "code",
   "execution_count": 66,
   "metadata": {},
   "outputs": [
    {
     "name": "stdout",
     "output_type": "stream",
     "text": [
      "         chairs  projectors\n",
      "gym           0           1\n",
      "history       2           3\n",
      "math          4           5\n",
      "english       6           7\n"
     ]
    }
   ],
   "source": [
    "#Código:\n",
    "classrooms = pd.DataFrame({\"chairs\":chairs,\"projectors\": projectors});\n",
    "print(classrooms)"
   ]
  },
  {
   "cell_type": "markdown",
   "metadata": {},
   "source": [
    "### 12.- Crear el DataFrame 'down_up' con dos columnas: 'decreasing' e 'increasing' con los números 1-10 en cada orden\n",
    "\n",
    "\n",
    "```python\n",
    "> print(down_up)\n",
    "\n",
    "   decreasing  increasing\n",
    "0          10           1\n",
    "1           9           2\n",
    "2           8           3\n",
    "3           7           4\n",
    "4           6           5\n",
    "5           5           6\n",
    "6           4           7\n",
    "7           3           8\n",
    "8           2           9\n",
    "9           1          10\n",
    "```"
   ]
  },
  {
   "cell_type": "code",
   "execution_count": 85,
   "metadata": {},
   "outputs": [
    {
     "data": {
      "text/html": [
       "<div>\n",
       "<style scoped>\n",
       "    .dataframe tbody tr th:only-of-type {\n",
       "        vertical-align: middle;\n",
       "    }\n",
       "\n",
       "    .dataframe tbody tr th {\n",
       "        vertical-align: top;\n",
       "    }\n",
       "\n",
       "    .dataframe thead th {\n",
       "        text-align: right;\n",
       "    }\n",
       "</style>\n",
       "<table border=\"1\" class=\"dataframe\">\n",
       "  <thead>\n",
       "    <tr style=\"text-align: right;\">\n",
       "      <th></th>\n",
       "      <th>decresing</th>\n",
       "      <th>incresing</th>\n",
       "    </tr>\n",
       "  </thead>\n",
       "  <tbody>\n",
       "    <tr>\n",
       "      <th>0</th>\n",
       "      <td>10</td>\n",
       "      <td>1</td>\n",
       "    </tr>\n",
       "    <tr>\n",
       "      <th>1</th>\n",
       "      <td>9</td>\n",
       "      <td>2</td>\n",
       "    </tr>\n",
       "    <tr>\n",
       "      <th>2</th>\n",
       "      <td>8</td>\n",
       "      <td>3</td>\n",
       "    </tr>\n",
       "    <tr>\n",
       "      <th>3</th>\n",
       "      <td>7</td>\n",
       "      <td>4</td>\n",
       "    </tr>\n",
       "    <tr>\n",
       "      <th>4</th>\n",
       "      <td>6</td>\n",
       "      <td>5</td>\n",
       "    </tr>\n",
       "    <tr>\n",
       "      <th>5</th>\n",
       "      <td>5</td>\n",
       "      <td>6</td>\n",
       "    </tr>\n",
       "    <tr>\n",
       "      <th>6</th>\n",
       "      <td>4</td>\n",
       "      <td>7</td>\n",
       "    </tr>\n",
       "    <tr>\n",
       "      <th>7</th>\n",
       "      <td>3</td>\n",
       "      <td>8</td>\n",
       "    </tr>\n",
       "    <tr>\n",
       "      <th>8</th>\n",
       "      <td>2</td>\n",
       "      <td>9</td>\n",
       "    </tr>\n",
       "    <tr>\n",
       "      <th>9</th>\n",
       "      <td>1</td>\n",
       "      <td>10</td>\n",
       "    </tr>\n",
       "  </tbody>\n",
       "</table>\n",
       "</div>"
      ],
      "text/plain": [
       "   decresing  incresing\n",
       "0         10          1\n",
       "1          9          2\n",
       "2          8          3\n",
       "3          7          4\n",
       "4          6          5\n",
       "5          5          6\n",
       "6          4          7\n",
       "7          3          8\n",
       "8          2          9\n",
       "9          1         10"
      ]
     },
     "execution_count": 85,
     "metadata": {},
     "output_type": "execute_result"
    }
   ],
   "source": [
    "#Código:\n",
    "arr = np.arange(1,11) \n",
    "down_up = pd.DataFrame({\"decresing\":arr[11::-1],\"incresing\":arr[:11:1]})\n",
    "down_up\n"
   ]
  },
  {
   "cell_type": "markdown",
   "metadata": {},
   "source": [
    "También puede poner una Serie en un DataFrame siempre que tenga un índice que coincida."
   ]
  },
  {
   "cell_type": "markdown",
   "metadata": {},
   "source": [
    "## Modificar DataFrames"
   ]
  },
  {
   "cell_type": "markdown",
   "metadata": {},
   "source": [
    "Los dataframes son MUY parecidos a los arrays de numpy con columnas e índices añadidos.\n",
    "\n",
    "Pero a diferencia de los arrays (que tienen un tamaño fijo), ¡podemos añadir columnas a un dataframe!"
   ]
  },
  {
   "cell_type": "code",
   "execution_count": 86,
   "metadata": {
    "scrolled": true
   },
   "outputs": [
    {
     "data": {
      "text/html": [
       "<div>\n",
       "<style scoped>\n",
       "    .dataframe tbody tr th:only-of-type {\n",
       "        vertical-align: middle;\n",
       "    }\n",
       "\n",
       "    .dataframe tbody tr th {\n",
       "        vertical-align: top;\n",
       "    }\n",
       "\n",
       "    .dataframe thead th {\n",
       "        text-align: right;\n",
       "    }\n",
       "</style>\n",
       "<table border=\"1\" class=\"dataframe\">\n",
       "  <thead>\n",
       "    <tr style=\"text-align: right;\">\n",
       "      <th></th>\n",
       "      <th>grade</th>\n",
       "      <th>height</th>\n",
       "      <th>was_late</th>\n",
       "    </tr>\n",
       "  </thead>\n",
       "  <tbody>\n",
       "    <tr>\n",
       "      <th>Tomas</th>\n",
       "      <td>45</td>\n",
       "      <td>34</td>\n",
       "      <td>True</td>\n",
       "    </tr>\n",
       "    <tr>\n",
       "      <th>Angel</th>\n",
       "      <td>56</td>\n",
       "      <td>35</td>\n",
       "      <td>False</td>\n",
       "    </tr>\n",
       "    <tr>\n",
       "      <th>Stacy</th>\n",
       "      <td>78</td>\n",
       "      <td>36</td>\n",
       "      <td>True</td>\n",
       "    </tr>\n",
       "    <tr>\n",
       "      <th>Michaela</th>\n",
       "      <td>89</td>\n",
       "      <td>37</td>\n",
       "      <td>False</td>\n",
       "    </tr>\n",
       "    <tr>\n",
       "      <th>Haden</th>\n",
       "      <td>90</td>\n",
       "      <td>38</td>\n",
       "      <td>False</td>\n",
       "    </tr>\n",
       "  </tbody>\n",
       "</table>\n",
       "</div>"
      ],
      "text/plain": [
       "          grade  height  was_late\n",
       "Tomas        45      34      True\n",
       "Angel        56      35     False\n",
       "Stacy        78      36      True\n",
       "Michaela     89      37     False\n",
       "Haden        90      38     False"
      ]
     },
     "execution_count": 86,
     "metadata": {},
     "output_type": "execute_result"
    }
   ],
   "source": [
    "students['was_late'] = [True, False, True, False, False]\n",
    "students"
   ]
  },
  {
   "cell_type": "markdown",
   "metadata": {},
   "source": [
    "Tambien es posible a través de un array"
   ]
  },
  {
   "cell_type": "code",
   "execution_count": null,
   "metadata": {},
   "outputs": [],
   "source": [
    "students['was_late'] = np.array([True, False, True, False, False])\n",
    "students"
   ]
  },
  {
   "cell_type": "markdown",
   "metadata": {},
   "source": [
    "Pero el arry debe tener una forma de (n, ) o (1, n). No (n, 1). Lo que tiene un poco de sentido, porque eso es tratar de encajar una fila en una columna."
   ]
  },
  {
   "cell_type": "code",
   "execution_count": 89,
   "metadata": {},
   "outputs": [
    {
     "data": {
      "text/html": [
       "<div>\n",
       "<style scoped>\n",
       "    .dataframe tbody tr th:only-of-type {\n",
       "        vertical-align: middle;\n",
       "    }\n",
       "\n",
       "    .dataframe tbody tr th {\n",
       "        vertical-align: top;\n",
       "    }\n",
       "\n",
       "    .dataframe thead th {\n",
       "        text-align: right;\n",
       "    }\n",
       "</style>\n",
       "<table border=\"1\" class=\"dataframe\">\n",
       "  <thead>\n",
       "    <tr style=\"text-align: right;\">\n",
       "      <th></th>\n",
       "      <th>grade</th>\n",
       "      <th>height</th>\n",
       "      <th>was_late</th>\n",
       "    </tr>\n",
       "  </thead>\n",
       "  <tbody>\n",
       "    <tr>\n",
       "      <th>Tomas</th>\n",
       "      <td>45</td>\n",
       "      <td>34</td>\n",
       "      <td>True</td>\n",
       "    </tr>\n",
       "    <tr>\n",
       "      <th>Angel</th>\n",
       "      <td>56</td>\n",
       "      <td>35</td>\n",
       "      <td>False</td>\n",
       "    </tr>\n",
       "    <tr>\n",
       "      <th>Stacy</th>\n",
       "      <td>78</td>\n",
       "      <td>36</td>\n",
       "      <td>True</td>\n",
       "    </tr>\n",
       "    <tr>\n",
       "      <th>Michaela</th>\n",
       "      <td>89</td>\n",
       "      <td>37</td>\n",
       "      <td>False</td>\n",
       "    </tr>\n",
       "    <tr>\n",
       "      <th>Haden</th>\n",
       "      <td>90</td>\n",
       "      <td>38</td>\n",
       "      <td>False</td>\n",
       "    </tr>\n",
       "  </tbody>\n",
       "</table>\n",
       "</div>"
      ],
      "text/plain": [
       "          grade  height  was_late\n",
       "Tomas        45      34      True\n",
       "Angel        56      35     False\n",
       "Stacy        78      36      True\n",
       "Michaela     89      37     False\n",
       "Haden        90      38     False"
      ]
     },
     "execution_count": 89,
     "metadata": {},
     "output_type": "execute_result"
    }
   ],
   "source": [
    "students['was_late'] = np.array([True, False, True, False, False]).reshape(-1,1)\n",
    "students"
   ]
  },
  {
   "cell_type": "markdown",
   "metadata": {},
   "source": [
    "```python\n",
    "# Esto debe dar un error\n",
    "students['was_late'] = np.array([True, False, True, False, False]).reshape(1,-1)\n",
    "students\n",
    "```"
   ]
  },
  {
   "cell_type": "markdown",
   "metadata": {},
   "source": [
    "### 13.- Agregar la columna 'top_crush' a 'students'. El cual es el nombre del crush de cada estudiante\n",
    "\n",
    "```python\n",
    "> print(students)\n",
    "\n",
    "          grade  height  was_late     top_crush\n",
    "Tomas        45      34      True         Angel\n",
    "Angel        56      35     False         Haden\n",
    "Stacy        78      36      True      Michaela\n",
    "Michaela     89      37     False         Tomas\n",
    "Haden        90      38     False  Edgar A. Poe\n",
    "```"
   ]
  },
  {
   "cell_type": "code",
   "execution_count": 90,
   "metadata": {},
   "outputs": [
    {
     "data": {
      "text/html": [
       "<div>\n",
       "<style scoped>\n",
       "    .dataframe tbody tr th:only-of-type {\n",
       "        vertical-align: middle;\n",
       "    }\n",
       "\n",
       "    .dataframe tbody tr th {\n",
       "        vertical-align: top;\n",
       "    }\n",
       "\n",
       "    .dataframe thead th {\n",
       "        text-align: right;\n",
       "    }\n",
       "</style>\n",
       "<table border=\"1\" class=\"dataframe\">\n",
       "  <thead>\n",
       "    <tr style=\"text-align: right;\">\n",
       "      <th></th>\n",
       "      <th>grade</th>\n",
       "      <th>height</th>\n",
       "      <th>was_late</th>\n",
       "      <th>top_crush</th>\n",
       "    </tr>\n",
       "  </thead>\n",
       "  <tbody>\n",
       "    <tr>\n",
       "      <th>Tomas</th>\n",
       "      <td>45</td>\n",
       "      <td>34</td>\n",
       "      <td>True</td>\n",
       "      <td>Angel</td>\n",
       "    </tr>\n",
       "    <tr>\n",
       "      <th>Angel</th>\n",
       "      <td>56</td>\n",
       "      <td>35</td>\n",
       "      <td>False</td>\n",
       "      <td>Haden</td>\n",
       "    </tr>\n",
       "    <tr>\n",
       "      <th>Stacy</th>\n",
       "      <td>78</td>\n",
       "      <td>36</td>\n",
       "      <td>True</td>\n",
       "      <td>Michaela</td>\n",
       "    </tr>\n",
       "    <tr>\n",
       "      <th>Michaela</th>\n",
       "      <td>89</td>\n",
       "      <td>37</td>\n",
       "      <td>False</td>\n",
       "      <td>Tomas</td>\n",
       "    </tr>\n",
       "    <tr>\n",
       "      <th>Haden</th>\n",
       "      <td>90</td>\n",
       "      <td>38</td>\n",
       "      <td>False</td>\n",
       "      <td>Edgar A. Poe</td>\n",
       "    </tr>\n",
       "  </tbody>\n",
       "</table>\n",
       "</div>"
      ],
      "text/plain": [
       "          grade  height  was_late     top_crush\n",
       "Tomas        45      34      True         Angel\n",
       "Angel        56      35     False         Haden\n",
       "Stacy        78      36      True      Michaela\n",
       "Michaela     89      37     False         Tomas\n",
       "Haden        90      38     False  Edgar A. Poe"
      ]
     },
     "execution_count": 90,
     "metadata": {},
     "output_type": "execute_result"
    }
   ],
   "source": [
    "#Código:\n",
    "students['top_crush'] = np.array([\"Angel\",\"Haden\",\"Michaela\",\"Tomas\",\"Edgar A. Poe\"]).reshape(-1,1);\n",
    "\n",
    "students\n"
   ]
  },
  {
   "cell_type": "markdown",
   "metadata": {},
   "source": [
    "## Proyección"
   ]
  },
  {
   "cell_type": "markdown",
   "metadata": {},
   "source": [
    "Al igual que en numpy, es posible hacer una proyección de una serie"
   ]
  },
  {
   "cell_type": "code",
   "execution_count": 91,
   "metadata": {},
   "outputs": [
    {
     "data": {
      "text/plain": [
       "Tomas       False\n",
       "Angel       False\n",
       "Stacy        True\n",
       "Michaela     True\n",
       "Haden        True\n",
       "Name: grade, dtype: bool"
      ]
     },
     "execution_count": 91,
     "metadata": {},
     "output_type": "execute_result"
    }
   ],
   "source": [
    "students['grade']>75"
   ]
  },
  {
   "cell_type": "markdown",
   "metadata": {},
   "source": [
    "Para crear la columna 'above_75_percent'"
   ]
  },
  {
   "cell_type": "code",
   "execution_count": 95,
   "metadata": {},
   "outputs": [
    {
     "data": {
      "text/html": [
       "<div>\n",
       "<style scoped>\n",
       "    .dataframe tbody tr th:only-of-type {\n",
       "        vertical-align: middle;\n",
       "    }\n",
       "\n",
       "    .dataframe tbody tr th {\n",
       "        vertical-align: top;\n",
       "    }\n",
       "\n",
       "    .dataframe thead th {\n",
       "        text-align: right;\n",
       "    }\n",
       "</style>\n",
       "<table border=\"1\" class=\"dataframe\">\n",
       "  <thead>\n",
       "    <tr style=\"text-align: right;\">\n",
       "      <th></th>\n",
       "      <th>grade</th>\n",
       "      <th>height</th>\n",
       "      <th>was_late</th>\n",
       "      <th>top_crush</th>\n",
       "      <th>above_75_percent</th>\n",
       "      <th>taller_than_35</th>\n",
       "    </tr>\n",
       "  </thead>\n",
       "  <tbody>\n",
       "    <tr>\n",
       "      <th>Tomas</th>\n",
       "      <td>45</td>\n",
       "      <td>34</td>\n",
       "      <td>True</td>\n",
       "      <td>Angel</td>\n",
       "      <td>False</td>\n",
       "      <td>False</td>\n",
       "    </tr>\n",
       "    <tr>\n",
       "      <th>Angel</th>\n",
       "      <td>56</td>\n",
       "      <td>35</td>\n",
       "      <td>False</td>\n",
       "      <td>Haden</td>\n",
       "      <td>False</td>\n",
       "      <td>False</td>\n",
       "    </tr>\n",
       "    <tr>\n",
       "      <th>Stacy</th>\n",
       "      <td>78</td>\n",
       "      <td>36</td>\n",
       "      <td>True</td>\n",
       "      <td>Michaela</td>\n",
       "      <td>True</td>\n",
       "      <td>True</td>\n",
       "    </tr>\n",
       "    <tr>\n",
       "      <th>Michaela</th>\n",
       "      <td>89</td>\n",
       "      <td>37</td>\n",
       "      <td>False</td>\n",
       "      <td>Tomas</td>\n",
       "      <td>True</td>\n",
       "      <td>True</td>\n",
       "    </tr>\n",
       "    <tr>\n",
       "      <th>Haden</th>\n",
       "      <td>90</td>\n",
       "      <td>38</td>\n",
       "      <td>False</td>\n",
       "      <td>Edgar A. Poe</td>\n",
       "      <td>True</td>\n",
       "      <td>True</td>\n",
       "    </tr>\n",
       "  </tbody>\n",
       "</table>\n",
       "</div>"
      ],
      "text/plain": [
       "          grade  height  was_late     top_crush  above_75_percent  \\\n",
       "Tomas        45      34      True         Angel             False   \n",
       "Angel        56      35     False         Haden             False   \n",
       "Stacy        78      36      True      Michaela              True   \n",
       "Michaela     89      37     False         Tomas              True   \n",
       "Haden        90      38     False  Edgar A. Poe              True   \n",
       "\n",
       "          taller_than_35  \n",
       "Tomas              False  \n",
       "Angel              False  \n",
       "Stacy               True  \n",
       "Michaela            True  \n",
       "Haden               True  "
      ]
     },
     "execution_count": 95,
     "metadata": {},
     "output_type": "execute_result"
    }
   ],
   "source": [
    "students['above_75_percent'] = students['grade']>75\n",
    "students"
   ]
  },
  {
   "cell_type": "markdown",
   "metadata": {},
   "source": [
    "Este tipo de proyecciones resultan de gran utilidad."
   ]
  },
  {
   "cell_type": "markdown",
   "metadata": {},
   "source": [
    "### 14.- Agregar la columna 'taller_than_35' a students\n",
    "\n",
    "```python\n",
    "> print(students[['grade', 'height', 'taller_than_35']])\n",
    "\n",
    "          grade  height  taller_than_35\n",
    "Tomas        45      34           False\n",
    "Angel        56      35           False\n",
    "Stacy        78      36            True\n",
    "Michaela     89      37            True\n",
    "Haden        90      38            True\n",
    "```"
   ]
  },
  {
   "cell_type": "code",
   "execution_count": 97,
   "metadata": {},
   "outputs": [
    {
     "data": {
      "text/html": [
       "<div>\n",
       "<style scoped>\n",
       "    .dataframe tbody tr th:only-of-type {\n",
       "        vertical-align: middle;\n",
       "    }\n",
       "\n",
       "    .dataframe tbody tr th {\n",
       "        vertical-align: top;\n",
       "    }\n",
       "\n",
       "    .dataframe thead th {\n",
       "        text-align: right;\n",
       "    }\n",
       "</style>\n",
       "<table border=\"1\" class=\"dataframe\">\n",
       "  <thead>\n",
       "    <tr style=\"text-align: right;\">\n",
       "      <th></th>\n",
       "      <th>grade</th>\n",
       "      <th>height</th>\n",
       "      <th>taller_than_35</th>\n",
       "    </tr>\n",
       "  </thead>\n",
       "  <tbody>\n",
       "    <tr>\n",
       "      <th>Tomas</th>\n",
       "      <td>45</td>\n",
       "      <td>34</td>\n",
       "      <td>False</td>\n",
       "    </tr>\n",
       "    <tr>\n",
       "      <th>Angel</th>\n",
       "      <td>56</td>\n",
       "      <td>35</td>\n",
       "      <td>False</td>\n",
       "    </tr>\n",
       "    <tr>\n",
       "      <th>Stacy</th>\n",
       "      <td>78</td>\n",
       "      <td>36</td>\n",
       "      <td>True</td>\n",
       "    </tr>\n",
       "    <tr>\n",
       "      <th>Michaela</th>\n",
       "      <td>89</td>\n",
       "      <td>37</td>\n",
       "      <td>True</td>\n",
       "    </tr>\n",
       "    <tr>\n",
       "      <th>Haden</th>\n",
       "      <td>90</td>\n",
       "      <td>38</td>\n",
       "      <td>True</td>\n",
       "    </tr>\n",
       "  </tbody>\n",
       "</table>\n",
       "</div>"
      ],
      "text/plain": [
       "          grade  height  taller_than_35\n",
       "Tomas        45      34           False\n",
       "Angel        56      35           False\n",
       "Stacy        78      36            True\n",
       "Michaela     89      37            True\n",
       "Haden        90      38            True"
      ]
     },
     "execution_count": 97,
     "metadata": {},
     "output_type": "execute_result"
    }
   ],
   "source": [
    "#Código:\n",
    "students[\"taller_than_35\"] = students['height'] > 35\n",
    "students[['grade', 'height', 'taller_than_35']]\n"
   ]
  },
  {
   "cell_type": "markdown",
   "metadata": {},
   "source": [
    "Los elementos se emparejan por **index**."
   ]
  },
  {
   "cell_type": "markdown",
   "metadata": {},
   "source": [
    "## Índices"
   ]
  },
  {
   "cell_type": "code",
   "execution_count": 98,
   "metadata": {},
   "outputs": [],
   "source": [
    "df = pd.DataFrame(\n",
    "    [[1, 2, 3], [4, 5, 6]], \n",
    "    columns=['a', 'b', 'c'], \n",
    "    index=['foo', 'bar'])"
   ]
  },
  {
   "cell_type": "code",
   "execution_count": 99,
   "metadata": {},
   "outputs": [
    {
     "data": {
      "text/html": [
       "<div>\n",
       "<style scoped>\n",
       "    .dataframe tbody tr th:only-of-type {\n",
       "        vertical-align: middle;\n",
       "    }\n",
       "\n",
       "    .dataframe tbody tr th {\n",
       "        vertical-align: top;\n",
       "    }\n",
       "\n",
       "    .dataframe thead th {\n",
       "        text-align: right;\n",
       "    }\n",
       "</style>\n",
       "<table border=\"1\" class=\"dataframe\">\n",
       "  <thead>\n",
       "    <tr style=\"text-align: right;\">\n",
       "      <th></th>\n",
       "      <th>a</th>\n",
       "      <th>b</th>\n",
       "      <th>c</th>\n",
       "      <th>d</th>\n",
       "    </tr>\n",
       "  </thead>\n",
       "  <tbody>\n",
       "    <tr>\n",
       "      <th>foo</th>\n",
       "      <td>1</td>\n",
       "      <td>2</td>\n",
       "      <td>3</td>\n",
       "      <td>5</td>\n",
       "    </tr>\n",
       "    <tr>\n",
       "      <th>bar</th>\n",
       "      <td>4</td>\n",
       "      <td>5</td>\n",
       "      <td>6</td>\n",
       "      <td>4</td>\n",
       "    </tr>\n",
       "  </tbody>\n",
       "</table>\n",
       "</div>"
      ],
      "text/plain": [
       "     a  b  c  d\n",
       "foo  1  2  3  5\n",
       "bar  4  5  6  4"
      ]
     },
     "execution_count": 99,
     "metadata": {},
     "output_type": "execute_result"
    }
   ],
   "source": [
    "# El índice está invertido\n",
    "df['d'] = pd.Series([4, 5], index=['bar', 'foo'])\n",
    "df"
   ]
  },
  {
   "cell_type": "markdown",
   "metadata": {},
   "source": [
    "Si el índice no coincide el valor se convierte en NaN"
   ]
  },
  {
   "cell_type": "code",
   "execution_count": 100,
   "metadata": {},
   "outputs": [
    {
     "data": {
      "text/html": [
       "<div>\n",
       "<style scoped>\n",
       "    .dataframe tbody tr th:only-of-type {\n",
       "        vertical-align: middle;\n",
       "    }\n",
       "\n",
       "    .dataframe tbody tr th {\n",
       "        vertical-align: top;\n",
       "    }\n",
       "\n",
       "    .dataframe thead th {\n",
       "        text-align: right;\n",
       "    }\n",
       "</style>\n",
       "<table border=\"1\" class=\"dataframe\">\n",
       "  <thead>\n",
       "    <tr style=\"text-align: right;\">\n",
       "      <th></th>\n",
       "      <th>a</th>\n",
       "      <th>b</th>\n",
       "      <th>c</th>\n",
       "      <th>d</th>\n",
       "    </tr>\n",
       "  </thead>\n",
       "  <tbody>\n",
       "    <tr>\n",
       "      <th>foo</th>\n",
       "      <td>1</td>\n",
       "      <td>2</td>\n",
       "      <td>3</td>\n",
       "      <td>NaN</td>\n",
       "    </tr>\n",
       "    <tr>\n",
       "      <th>bar</th>\n",
       "      <td>4</td>\n",
       "      <td>5</td>\n",
       "      <td>6</td>\n",
       "      <td>4.0</td>\n",
       "    </tr>\n",
       "  </tbody>\n",
       "</table>\n",
       "</div>"
      ],
      "text/plain": [
       "     a  b  c    d\n",
       "foo  1  2  3  NaN\n",
       "bar  4  5  6  4.0"
      ]
     },
     "execution_count": 100,
     "metadata": {},
     "output_type": "execute_result"
    }
   ],
   "source": [
    "df['d'] = pd.Series([4, 5], index=['bar', 'baz'])\n",
    "df"
   ]
  },
  {
   "cell_type": "markdown",
   "metadata": {},
   "source": [
    "Al agregar una lista o vector en un DataFrame sin índice la columna se inserta en orden"
   ]
  },
  {
   "cell_type": "code",
   "execution_count": 101,
   "metadata": {},
   "outputs": [
    {
     "data": {
      "text/html": [
       "<div>\n",
       "<style scoped>\n",
       "    .dataframe tbody tr th:only-of-type {\n",
       "        vertical-align: middle;\n",
       "    }\n",
       "\n",
       "    .dataframe tbody tr th {\n",
       "        vertical-align: top;\n",
       "    }\n",
       "\n",
       "    .dataframe thead th {\n",
       "        text-align: right;\n",
       "    }\n",
       "</style>\n",
       "<table border=\"1\" class=\"dataframe\">\n",
       "  <thead>\n",
       "    <tr style=\"text-align: right;\">\n",
       "      <th></th>\n",
       "      <th>a</th>\n",
       "      <th>b</th>\n",
       "      <th>c</th>\n",
       "      <th>d</th>\n",
       "      <th>e</th>\n",
       "    </tr>\n",
       "  </thead>\n",
       "  <tbody>\n",
       "    <tr>\n",
       "      <th>foo</th>\n",
       "      <td>1</td>\n",
       "      <td>2</td>\n",
       "      <td>3</td>\n",
       "      <td>NaN</td>\n",
       "      <td>1</td>\n",
       "    </tr>\n",
       "    <tr>\n",
       "      <th>bar</th>\n",
       "      <td>4</td>\n",
       "      <td>5</td>\n",
       "      <td>6</td>\n",
       "      <td>4.0</td>\n",
       "      <td>2</td>\n",
       "    </tr>\n",
       "  </tbody>\n",
       "</table>\n",
       "</div>"
      ],
      "text/plain": [
       "     a  b  c    d  e\n",
       "foo  1  2  3  NaN  1\n",
       "bar  4  5  6  4.0  2"
      ]
     },
     "execution_count": 101,
     "metadata": {},
     "output_type": "execute_result"
    }
   ],
   "source": [
    "df['e'] = [1, 2]\n",
    "df"
   ]
  },
  {
   "cell_type": "markdown",
   "metadata": {},
   "source": [
    "Utilizando una Serie se debe tener cuidado ya que si no existe un índice, todos los valores se convierten a NaN"
   ]
  },
  {
   "cell_type": "code",
   "execution_count": 102,
   "metadata": {
    "scrolled": true
   },
   "outputs": [
    {
     "data": {
      "text/html": [
       "<div>\n",
       "<style scoped>\n",
       "    .dataframe tbody tr th:only-of-type {\n",
       "        vertical-align: middle;\n",
       "    }\n",
       "\n",
       "    .dataframe tbody tr th {\n",
       "        vertical-align: top;\n",
       "    }\n",
       "\n",
       "    .dataframe thead th {\n",
       "        text-align: right;\n",
       "    }\n",
       "</style>\n",
       "<table border=\"1\" class=\"dataframe\">\n",
       "  <thead>\n",
       "    <tr style=\"text-align: right;\">\n",
       "      <th></th>\n",
       "      <th>grade</th>\n",
       "      <th>height</th>\n",
       "      <th>was_late</th>\n",
       "      <th>top_crush</th>\n",
       "      <th>above_75_percent</th>\n",
       "      <th>taller_than_35</th>\n",
       "    </tr>\n",
       "  </thead>\n",
       "  <tbody>\n",
       "    <tr>\n",
       "      <th>Tomas</th>\n",
       "      <td>45</td>\n",
       "      <td>34</td>\n",
       "      <td>NaN</td>\n",
       "      <td>Angel</td>\n",
       "      <td>False</td>\n",
       "      <td>False</td>\n",
       "    </tr>\n",
       "    <tr>\n",
       "      <th>Angel</th>\n",
       "      <td>56</td>\n",
       "      <td>35</td>\n",
       "      <td>NaN</td>\n",
       "      <td>Haden</td>\n",
       "      <td>False</td>\n",
       "      <td>False</td>\n",
       "    </tr>\n",
       "    <tr>\n",
       "      <th>Stacy</th>\n",
       "      <td>78</td>\n",
       "      <td>36</td>\n",
       "      <td>NaN</td>\n",
       "      <td>Michaela</td>\n",
       "      <td>True</td>\n",
       "      <td>True</td>\n",
       "    </tr>\n",
       "    <tr>\n",
       "      <th>Michaela</th>\n",
       "      <td>89</td>\n",
       "      <td>37</td>\n",
       "      <td>NaN</td>\n",
       "      <td>Tomas</td>\n",
       "      <td>True</td>\n",
       "      <td>True</td>\n",
       "    </tr>\n",
       "    <tr>\n",
       "      <th>Haden</th>\n",
       "      <td>90</td>\n",
       "      <td>38</td>\n",
       "      <td>NaN</td>\n",
       "      <td>Edgar A. Poe</td>\n",
       "      <td>True</td>\n",
       "      <td>True</td>\n",
       "    </tr>\n",
       "  </tbody>\n",
       "</table>\n",
       "</div>"
      ],
      "text/plain": [
       "          grade  height was_late     top_crush  above_75_percent  \\\n",
       "Tomas        45      34      NaN         Angel             False   \n",
       "Angel        56      35      NaN         Haden             False   \n",
       "Stacy        78      36      NaN      Michaela              True   \n",
       "Michaela     89      37      NaN         Tomas              True   \n",
       "Haden        90      38      NaN  Edgar A. Poe              True   \n",
       "\n",
       "          taller_than_35  \n",
       "Tomas              False  \n",
       "Angel              False  \n",
       "Stacy               True  \n",
       "Michaela            True  \n",
       "Haden               True  "
      ]
     },
     "execution_count": 102,
     "metadata": {},
     "output_type": "execute_result"
    }
   ],
   "source": [
    "students['was_late'] = pd.Series([True, False, True, False, False])\n",
    "students"
   ]
  },
  {
   "cell_type": "markdown",
   "metadata": {},
   "source": [
    "Agregar el índice:"
   ]
  },
  {
   "cell_type": "code",
   "execution_count": 106,
   "metadata": {},
   "outputs": [
    {
     "data": {
      "text/html": [
       "<div>\n",
       "<style scoped>\n",
       "    .dataframe tbody tr th:only-of-type {\n",
       "        vertical-align: middle;\n",
       "    }\n",
       "\n",
       "    .dataframe tbody tr th {\n",
       "        vertical-align: top;\n",
       "    }\n",
       "\n",
       "    .dataframe thead th {\n",
       "        text-align: right;\n",
       "    }\n",
       "</style>\n",
       "<table border=\"1\" class=\"dataframe\">\n",
       "  <thead>\n",
       "    <tr style=\"text-align: right;\">\n",
       "      <th></th>\n",
       "      <th>grade</th>\n",
       "      <th>height</th>\n",
       "      <th>was_late</th>\n",
       "      <th>top_crush</th>\n",
       "      <th>above_75_percent</th>\n",
       "      <th>taller_than_35</th>\n",
       "    </tr>\n",
       "  </thead>\n",
       "  <tbody>\n",
       "    <tr>\n",
       "      <th>Tomas</th>\n",
       "      <td>45</td>\n",
       "      <td>34</td>\n",
       "      <td>True</td>\n",
       "      <td>Angel</td>\n",
       "      <td>False</td>\n",
       "      <td>False</td>\n",
       "    </tr>\n",
       "    <tr>\n",
       "      <th>Angel</th>\n",
       "      <td>56</td>\n",
       "      <td>35</td>\n",
       "      <td>False</td>\n",
       "      <td>Haden</td>\n",
       "      <td>False</td>\n",
       "      <td>False</td>\n",
       "    </tr>\n",
       "    <tr>\n",
       "      <th>Stacy</th>\n",
       "      <td>78</td>\n",
       "      <td>36</td>\n",
       "      <td>True</td>\n",
       "      <td>Michaela</td>\n",
       "      <td>True</td>\n",
       "      <td>True</td>\n",
       "    </tr>\n",
       "    <tr>\n",
       "      <th>Michaela</th>\n",
       "      <td>89</td>\n",
       "      <td>37</td>\n",
       "      <td>False</td>\n",
       "      <td>Tomas</td>\n",
       "      <td>True</td>\n",
       "      <td>True</td>\n",
       "    </tr>\n",
       "    <tr>\n",
       "      <th>Haden</th>\n",
       "      <td>90</td>\n",
       "      <td>38</td>\n",
       "      <td>False</td>\n",
       "      <td>Edgar A. Poe</td>\n",
       "      <td>True</td>\n",
       "      <td>True</td>\n",
       "    </tr>\n",
       "  </tbody>\n",
       "</table>\n",
       "</div>"
      ],
      "text/plain": [
       "          grade  height  was_late     top_crush  above_75_percent  \\\n",
       "Tomas        45      34      True         Angel             False   \n",
       "Angel        56      35     False         Haden             False   \n",
       "Stacy        78      36      True      Michaela              True   \n",
       "Michaela     89      37     False         Tomas              True   \n",
       "Haden        90      38     False  Edgar A. Poe              True   \n",
       "\n",
       "          taller_than_35  \n",
       "Tomas              False  \n",
       "Angel              False  \n",
       "Stacy               True  \n",
       "Michaela            True  \n",
       "Haden               True  "
      ]
     },
     "execution_count": 106,
     "metadata": {},
     "output_type": "execute_result"
    }
   ],
   "source": [
    "students['was_late'] = pd.Series([True, False, True, False, False], index=students.index)\n",
    "students"
   ]
  },
  {
   "cell_type": "markdown",
   "metadata": {},
   "source": [
    "### 15.- Crear el  dataframe 'numbers' con la columna `increasing`, la cual contenga numeros de 1-50 en este orden. Después, insertar una columna `evens`, que contenga solo números pares si el número es par en `increasing` \n",
    "\n",
    "```python\n",
    "> print(numbers)\n",
    "\n",
    "    increasing  evens\n",
    "0            0    0.0\n",
    "1            1    NaN\n",
    "2            2    2.0\n",
    "3            3    NaN\n",
    "4            4    4.0\n",
    "5            5    NaN\n",
    "6            6    6.0\n",
    "7            7    NaN\n",
    "8            8    8.0\n",
    "9            9    NaN\n",
    "10          10   10.0\n",
    ".            .      .\n",
    ".            .      .\n",
    ".            .      .\n",
    "\n",
    "```"
   ]
  },
  {
   "cell_type": "code",
   "execution_count": 114,
   "metadata": {},
   "outputs": [
    {
     "name": "stdout",
     "output_type": "stream",
     "text": [
      "[ 0  2  4  6  8 10 12 14 16 18 20 22 24 26 28 30 32 34 36 38 40 42 44 46\n",
      " 48 50]\n",
      "Int64Index([ 0,  2,  4,  6,  8, 10, 12, 14, 16, 18, 20, 22, 24, 26, 28, 30, 32,\n",
      "            34, 36, 38, 40, 42, 44, 46, 48, 50],\n",
      "           dtype='int64')\n"
     ]
    },
    {
     "data": {
      "text/html": [
       "<div>\n",
       "<style scoped>\n",
       "    .dataframe tbody tr th:only-of-type {\n",
       "        vertical-align: middle;\n",
       "    }\n",
       "\n",
       "    .dataframe tbody tr th {\n",
       "        vertical-align: top;\n",
       "    }\n",
       "\n",
       "    .dataframe thead th {\n",
       "        text-align: right;\n",
       "    }\n",
       "</style>\n",
       "<table border=\"1\" class=\"dataframe\">\n",
       "  <thead>\n",
       "    <tr style=\"text-align: right;\">\n",
       "      <th></th>\n",
       "      <th>incresing</th>\n",
       "      <th>evens</th>\n",
       "    </tr>\n",
       "  </thead>\n",
       "  <tbody>\n",
       "    <tr>\n",
       "      <th>0</th>\n",
       "      <td>0</td>\n",
       "      <td>0.0</td>\n",
       "    </tr>\n",
       "    <tr>\n",
       "      <th>1</th>\n",
       "      <td>1</td>\n",
       "      <td>NaN</td>\n",
       "    </tr>\n",
       "    <tr>\n",
       "      <th>2</th>\n",
       "      <td>2</td>\n",
       "      <td>2.0</td>\n",
       "    </tr>\n",
       "    <tr>\n",
       "      <th>3</th>\n",
       "      <td>3</td>\n",
       "      <td>NaN</td>\n",
       "    </tr>\n",
       "    <tr>\n",
       "      <th>4</th>\n",
       "      <td>4</td>\n",
       "      <td>4.0</td>\n",
       "    </tr>\n",
       "    <tr>\n",
       "      <th>5</th>\n",
       "      <td>5</td>\n",
       "      <td>NaN</td>\n",
       "    </tr>\n",
       "    <tr>\n",
       "      <th>6</th>\n",
       "      <td>6</td>\n",
       "      <td>6.0</td>\n",
       "    </tr>\n",
       "    <tr>\n",
       "      <th>7</th>\n",
       "      <td>7</td>\n",
       "      <td>NaN</td>\n",
       "    </tr>\n",
       "    <tr>\n",
       "      <th>8</th>\n",
       "      <td>8</td>\n",
       "      <td>8.0</td>\n",
       "    </tr>\n",
       "    <tr>\n",
       "      <th>9</th>\n",
       "      <td>9</td>\n",
       "      <td>NaN</td>\n",
       "    </tr>\n",
       "    <tr>\n",
       "      <th>10</th>\n",
       "      <td>10</td>\n",
       "      <td>10.0</td>\n",
       "    </tr>\n",
       "    <tr>\n",
       "      <th>11</th>\n",
       "      <td>11</td>\n",
       "      <td>NaN</td>\n",
       "    </tr>\n",
       "    <tr>\n",
       "      <th>12</th>\n",
       "      <td>12</td>\n",
       "      <td>12.0</td>\n",
       "    </tr>\n",
       "    <tr>\n",
       "      <th>13</th>\n",
       "      <td>13</td>\n",
       "      <td>NaN</td>\n",
       "    </tr>\n",
       "    <tr>\n",
       "      <th>14</th>\n",
       "      <td>14</td>\n",
       "      <td>14.0</td>\n",
       "    </tr>\n",
       "    <tr>\n",
       "      <th>15</th>\n",
       "      <td>15</td>\n",
       "      <td>NaN</td>\n",
       "    </tr>\n",
       "    <tr>\n",
       "      <th>16</th>\n",
       "      <td>16</td>\n",
       "      <td>16.0</td>\n",
       "    </tr>\n",
       "    <tr>\n",
       "      <th>17</th>\n",
       "      <td>17</td>\n",
       "      <td>NaN</td>\n",
       "    </tr>\n",
       "    <tr>\n",
       "      <th>18</th>\n",
       "      <td>18</td>\n",
       "      <td>18.0</td>\n",
       "    </tr>\n",
       "    <tr>\n",
       "      <th>19</th>\n",
       "      <td>19</td>\n",
       "      <td>NaN</td>\n",
       "    </tr>\n",
       "    <tr>\n",
       "      <th>20</th>\n",
       "      <td>20</td>\n",
       "      <td>20.0</td>\n",
       "    </tr>\n",
       "    <tr>\n",
       "      <th>21</th>\n",
       "      <td>21</td>\n",
       "      <td>NaN</td>\n",
       "    </tr>\n",
       "    <tr>\n",
       "      <th>22</th>\n",
       "      <td>22</td>\n",
       "      <td>22.0</td>\n",
       "    </tr>\n",
       "    <tr>\n",
       "      <th>23</th>\n",
       "      <td>23</td>\n",
       "      <td>NaN</td>\n",
       "    </tr>\n",
       "    <tr>\n",
       "      <th>24</th>\n",
       "      <td>24</td>\n",
       "      <td>24.0</td>\n",
       "    </tr>\n",
       "    <tr>\n",
       "      <th>25</th>\n",
       "      <td>25</td>\n",
       "      <td>NaN</td>\n",
       "    </tr>\n",
       "    <tr>\n",
       "      <th>26</th>\n",
       "      <td>26</td>\n",
       "      <td>26.0</td>\n",
       "    </tr>\n",
       "    <tr>\n",
       "      <th>27</th>\n",
       "      <td>27</td>\n",
       "      <td>NaN</td>\n",
       "    </tr>\n",
       "    <tr>\n",
       "      <th>28</th>\n",
       "      <td>28</td>\n",
       "      <td>28.0</td>\n",
       "    </tr>\n",
       "    <tr>\n",
       "      <th>29</th>\n",
       "      <td>29</td>\n",
       "      <td>NaN</td>\n",
       "    </tr>\n",
       "    <tr>\n",
       "      <th>30</th>\n",
       "      <td>30</td>\n",
       "      <td>30.0</td>\n",
       "    </tr>\n",
       "    <tr>\n",
       "      <th>31</th>\n",
       "      <td>31</td>\n",
       "      <td>NaN</td>\n",
       "    </tr>\n",
       "    <tr>\n",
       "      <th>32</th>\n",
       "      <td>32</td>\n",
       "      <td>32.0</td>\n",
       "    </tr>\n",
       "    <tr>\n",
       "      <th>33</th>\n",
       "      <td>33</td>\n",
       "      <td>NaN</td>\n",
       "    </tr>\n",
       "    <tr>\n",
       "      <th>34</th>\n",
       "      <td>34</td>\n",
       "      <td>34.0</td>\n",
       "    </tr>\n",
       "    <tr>\n",
       "      <th>35</th>\n",
       "      <td>35</td>\n",
       "      <td>NaN</td>\n",
       "    </tr>\n",
       "    <tr>\n",
       "      <th>36</th>\n",
       "      <td>36</td>\n",
       "      <td>36.0</td>\n",
       "    </tr>\n",
       "    <tr>\n",
       "      <th>37</th>\n",
       "      <td>37</td>\n",
       "      <td>NaN</td>\n",
       "    </tr>\n",
       "    <tr>\n",
       "      <th>38</th>\n",
       "      <td>38</td>\n",
       "      <td>38.0</td>\n",
       "    </tr>\n",
       "    <tr>\n",
       "      <th>39</th>\n",
       "      <td>39</td>\n",
       "      <td>NaN</td>\n",
       "    </tr>\n",
       "    <tr>\n",
       "      <th>40</th>\n",
       "      <td>40</td>\n",
       "      <td>40.0</td>\n",
       "    </tr>\n",
       "    <tr>\n",
       "      <th>41</th>\n",
       "      <td>41</td>\n",
       "      <td>NaN</td>\n",
       "    </tr>\n",
       "    <tr>\n",
       "      <th>42</th>\n",
       "      <td>42</td>\n",
       "      <td>42.0</td>\n",
       "    </tr>\n",
       "    <tr>\n",
       "      <th>43</th>\n",
       "      <td>43</td>\n",
       "      <td>NaN</td>\n",
       "    </tr>\n",
       "    <tr>\n",
       "      <th>44</th>\n",
       "      <td>44</td>\n",
       "      <td>44.0</td>\n",
       "    </tr>\n",
       "    <tr>\n",
       "      <th>45</th>\n",
       "      <td>45</td>\n",
       "      <td>NaN</td>\n",
       "    </tr>\n",
       "    <tr>\n",
       "      <th>46</th>\n",
       "      <td>46</td>\n",
       "      <td>46.0</td>\n",
       "    </tr>\n",
       "    <tr>\n",
       "      <th>47</th>\n",
       "      <td>47</td>\n",
       "      <td>NaN</td>\n",
       "    </tr>\n",
       "    <tr>\n",
       "      <th>48</th>\n",
       "      <td>48</td>\n",
       "      <td>48.0</td>\n",
       "    </tr>\n",
       "    <tr>\n",
       "      <th>49</th>\n",
       "      <td>49</td>\n",
       "      <td>NaN</td>\n",
       "    </tr>\n",
       "    <tr>\n",
       "      <th>50</th>\n",
       "      <td>50</td>\n",
       "      <td>50.0</td>\n",
       "    </tr>\n",
       "  </tbody>\n",
       "</table>\n",
       "</div>"
      ],
      "text/plain": [
       "    incresing  evens\n",
       "0           0    0.0\n",
       "1           1    NaN\n",
       "2           2    2.0\n",
       "3           3    NaN\n",
       "4           4    4.0\n",
       "5           5    NaN\n",
       "6           6    6.0\n",
       "7           7    NaN\n",
       "8           8    8.0\n",
       "9           9    NaN\n",
       "10         10   10.0\n",
       "11         11    NaN\n",
       "12         12   12.0\n",
       "13         13    NaN\n",
       "14         14   14.0\n",
       "15         15    NaN\n",
       "16         16   16.0\n",
       "17         17    NaN\n",
       "18         18   18.0\n",
       "19         19    NaN\n",
       "20         20   20.0\n",
       "21         21    NaN\n",
       "22         22   22.0\n",
       "23         23    NaN\n",
       "24         24   24.0\n",
       "25         25    NaN\n",
       "26         26   26.0\n",
       "27         27    NaN\n",
       "28         28   28.0\n",
       "29         29    NaN\n",
       "30         30   30.0\n",
       "31         31    NaN\n",
       "32         32   32.0\n",
       "33         33    NaN\n",
       "34         34   34.0\n",
       "35         35    NaN\n",
       "36         36   36.0\n",
       "37         37    NaN\n",
       "38         38   38.0\n",
       "39         39    NaN\n",
       "40         40   40.0\n",
       "41         41    NaN\n",
       "42         42   42.0\n",
       "43         43    NaN\n",
       "44         44   44.0\n",
       "45         45    NaN\n",
       "46         46   46.0\n",
       "47         47    NaN\n",
       "48         48   48.0\n",
       "49         49    NaN\n",
       "50         50   50.0"
      ]
     },
     "execution_count": 114,
     "metadata": {},
     "output_type": "execute_result"
    }
   ],
   "source": [
    "#Código:\n",
    "arr = np.arange(51)\n",
    "numbers = pd.DataFrame({\"incresing\":arr});\n",
    "print(arr[arr % 2 == 0])\n",
    "print(numbers.index[numbers.index % 2 == 0])\n",
    "numbers[\"evens\"] = pd.Series(arr[arr % 2 == 0],index=arr[arr % 2 == 0])\n",
    "\n",
    "numbers"
   ]
  },
  {
   "cell_type": "markdown",
   "metadata": {},
   "source": [
    "### 16.- Agregar la siguiente información en una columna 'pickup_time'\n",
    "\n",
    "Haden = 4,\n",
    "Tomas = 5,\n",
    "Stacy = 3\n",
    "\n",
    "\n",
    "```python\n",
    "> print(students[['grade', 'height', 'pickup_time']])\n",
    "\n",
    "          grade  height  pickup_time\n",
    "Tomas        45      34          5.0\n",
    "Angel        56      35          NaN\n",
    "Stacy        78      36          3.0\n",
    "Michaela     89      37          NaN\n",
    "Haden        90      38          4.0\n",
    "\n",
    "```"
   ]
  },
  {
   "cell_type": "code",
   "execution_count": 116,
   "metadata": {},
   "outputs": [
    {
     "data": {
      "text/html": [
       "<div>\n",
       "<style scoped>\n",
       "    .dataframe tbody tr th:only-of-type {\n",
       "        vertical-align: middle;\n",
       "    }\n",
       "\n",
       "    .dataframe tbody tr th {\n",
       "        vertical-align: top;\n",
       "    }\n",
       "\n",
       "    .dataframe thead th {\n",
       "        text-align: right;\n",
       "    }\n",
       "</style>\n",
       "<table border=\"1\" class=\"dataframe\">\n",
       "  <thead>\n",
       "    <tr style=\"text-align: right;\">\n",
       "      <th></th>\n",
       "      <th>grade</th>\n",
       "      <th>height</th>\n",
       "      <th>was_late</th>\n",
       "      <th>top_crush</th>\n",
       "      <th>above_75_percent</th>\n",
       "      <th>taller_than_35</th>\n",
       "      <th>pickup_time</th>\n",
       "    </tr>\n",
       "  </thead>\n",
       "  <tbody>\n",
       "    <tr>\n",
       "      <th>Tomas</th>\n",
       "      <td>45</td>\n",
       "      <td>34</td>\n",
       "      <td>True</td>\n",
       "      <td>Angel</td>\n",
       "      <td>False</td>\n",
       "      <td>False</td>\n",
       "      <td>5.0</td>\n",
       "    </tr>\n",
       "    <tr>\n",
       "      <th>Angel</th>\n",
       "      <td>56</td>\n",
       "      <td>35</td>\n",
       "      <td>False</td>\n",
       "      <td>Haden</td>\n",
       "      <td>False</td>\n",
       "      <td>False</td>\n",
       "      <td>NaN</td>\n",
       "    </tr>\n",
       "    <tr>\n",
       "      <th>Stacy</th>\n",
       "      <td>78</td>\n",
       "      <td>36</td>\n",
       "      <td>True</td>\n",
       "      <td>Michaela</td>\n",
       "      <td>True</td>\n",
       "      <td>True</td>\n",
       "      <td>3.0</td>\n",
       "    </tr>\n",
       "    <tr>\n",
       "      <th>Michaela</th>\n",
       "      <td>89</td>\n",
       "      <td>37</td>\n",
       "      <td>False</td>\n",
       "      <td>Tomas</td>\n",
       "      <td>True</td>\n",
       "      <td>True</td>\n",
       "      <td>NaN</td>\n",
       "    </tr>\n",
       "    <tr>\n",
       "      <th>Haden</th>\n",
       "      <td>90</td>\n",
       "      <td>38</td>\n",
       "      <td>False</td>\n",
       "      <td>Edgar A. Poe</td>\n",
       "      <td>True</td>\n",
       "      <td>True</td>\n",
       "      <td>4.0</td>\n",
       "    </tr>\n",
       "  </tbody>\n",
       "</table>\n",
       "</div>"
      ],
      "text/plain": [
       "          grade  height  was_late     top_crush  above_75_percent  \\\n",
       "Tomas        45      34      True         Angel             False   \n",
       "Angel        56      35     False         Haden             False   \n",
       "Stacy        78      36      True      Michaela              True   \n",
       "Michaela     89      37     False         Tomas              True   \n",
       "Haden        90      38     False  Edgar A. Poe              True   \n",
       "\n",
       "          taller_than_35  pickup_time  \n",
       "Tomas              False          5.0  \n",
       "Angel              False          NaN  \n",
       "Stacy               True          3.0  \n",
       "Michaela            True          NaN  \n",
       "Haden               True          4.0  "
      ]
     },
     "execution_count": 116,
     "metadata": {},
     "output_type": "execute_result"
    }
   ],
   "source": [
    "#Código:\n",
    "students[\"pickup_time\"] = pd.Series({\"Haden\":4,\"Tomas\":5,\"Stacy\":3});\n",
    "students"
   ]
  },
  {
   "cell_type": "markdown",
   "metadata": {},
   "source": [
    "### 17.- Agregar la siguiente informaión para los primeros tres estudiantes, el resto puede ser NaN\n",
    "\n",
    "4,5,3\n",
    "\n",
    "\n",
    "```python\n",
    "> print(students[['grade', 'height', 'pickup_time']])\n",
    "\n",
    "          grade  height  pickup_time\n",
    "Tomas        45      34          4.0\n",
    "Angel        56      35          5.0\n",
    "Stacy        78      36          2.0\n",
    "Michaela     89      37          NaN\n",
    "Haden        90      38          NaN\n",
    "\n",
    "```\n",
    "\n",
    "(NaN is input as np.NaN)"
   ]
  },
  {
   "cell_type": "code",
   "execution_count": 127,
   "metadata": {},
   "outputs": [
    {
     "data": {
      "text/html": [
       "<div>\n",
       "<style scoped>\n",
       "    .dataframe tbody tr th:only-of-type {\n",
       "        vertical-align: middle;\n",
       "    }\n",
       "\n",
       "    .dataframe tbody tr th {\n",
       "        vertical-align: top;\n",
       "    }\n",
       "\n",
       "    .dataframe thead th {\n",
       "        text-align: right;\n",
       "    }\n",
       "</style>\n",
       "<table border=\"1\" class=\"dataframe\">\n",
       "  <thead>\n",
       "    <tr style=\"text-align: right;\">\n",
       "      <th></th>\n",
       "      <th>grade</th>\n",
       "      <th>height</th>\n",
       "      <th>was_late</th>\n",
       "      <th>top_crush</th>\n",
       "      <th>above_75_percent</th>\n",
       "      <th>taller_than_35</th>\n",
       "      <th>pickup_time</th>\n",
       "    </tr>\n",
       "  </thead>\n",
       "  <tbody>\n",
       "    <tr>\n",
       "      <th>Tomas</th>\n",
       "      <td>45</td>\n",
       "      <td>34</td>\n",
       "      <td>True</td>\n",
       "      <td>Angel</td>\n",
       "      <td>False</td>\n",
       "      <td>False</td>\n",
       "      <td>4.0</td>\n",
       "    </tr>\n",
       "    <tr>\n",
       "      <th>Angel</th>\n",
       "      <td>56</td>\n",
       "      <td>35</td>\n",
       "      <td>False</td>\n",
       "      <td>Haden</td>\n",
       "      <td>False</td>\n",
       "      <td>False</td>\n",
       "      <td>5.0</td>\n",
       "    </tr>\n",
       "    <tr>\n",
       "      <th>Stacy</th>\n",
       "      <td>78</td>\n",
       "      <td>36</td>\n",
       "      <td>True</td>\n",
       "      <td>Michaela</td>\n",
       "      <td>True</td>\n",
       "      <td>True</td>\n",
       "      <td>3.0</td>\n",
       "    </tr>\n",
       "    <tr>\n",
       "      <th>Michaela</th>\n",
       "      <td>89</td>\n",
       "      <td>37</td>\n",
       "      <td>False</td>\n",
       "      <td>Tomas</td>\n",
       "      <td>True</td>\n",
       "      <td>True</td>\n",
       "      <td>NaN</td>\n",
       "    </tr>\n",
       "    <tr>\n",
       "      <th>Haden</th>\n",
       "      <td>90</td>\n",
       "      <td>38</td>\n",
       "      <td>False</td>\n",
       "      <td>Edgar A. Poe</td>\n",
       "      <td>True</td>\n",
       "      <td>True</td>\n",
       "      <td>NaN</td>\n",
       "    </tr>\n",
       "  </tbody>\n",
       "</table>\n",
       "</div>"
      ],
      "text/plain": [
       "          grade  height  was_late     top_crush  above_75_percent  \\\n",
       "Tomas        45      34      True         Angel             False   \n",
       "Angel        56      35     False         Haden             False   \n",
       "Stacy        78      36      True      Michaela              True   \n",
       "Michaela     89      37     False         Tomas              True   \n",
       "Haden        90      38     False  Edgar A. Poe              True   \n",
       "\n",
       "          taller_than_35  pickup_time  \n",
       "Tomas              False          4.0  \n",
       "Angel              False          5.0  \n",
       "Stacy               True          3.0  \n",
       "Michaela            True          NaN  \n",
       "Haden               True          NaN  "
      ]
     },
     "execution_count": 127,
     "metadata": {},
     "output_type": "execute_result"
    }
   ],
   "source": [
    "#Código:\n",
    "students[\"pickup_time\"] = pd.Series([4,5,3],index = students.index[:3]);\n",
    "students\n",
    "\n"
   ]
  },
  {
   "cell_type": "markdown",
   "metadata": {},
   "source": [
    "## Carga de información"
   ]
  },
  {
   "cell_type": "markdown",
   "metadata": {},
   "source": [
    "Para cargar información externa en Pandas primero debemos localizarla"
   ]
  },
  {
   "cell_type": "markdown",
   "metadata": {},
   "source": [
    "El comando 'ls' es de ayuda para esto"
   ]
  },
  {
   "cell_type": "code",
   "execution_count": 128,
   "metadata": {},
   "outputs": [
    {
     "name": "stdout",
     "output_type": "stream",
     "text": [
      " El volumen de la unidad C es OS\n",
      " El n£mero de serie del volumen es: AC96-7F87\n",
      "\n",
      " Directorio de C:\\Users\\NGALAZ\n",
      "\n",
      "14/10/2022  06:27 p. m.    <DIR>          .\n",
      "14/10/2022  06:27 p. m.    <DIR>          ..\n",
      "05/09/2020  11:13 p. m.    <DIR>          .android\n",
      "31/05/2021  01:19 p. m.    <DIR>          .azuredatastudio\n",
      "28/09/2022  01:41 p. m.               406 .bash_history\n",
      "26/09/2022  10:54 p. m.               201 .bash_profile\n",
      "29/05/2021  02:21 p. m.    <DIR>          .cache\n",
      "26/09/2022  11:08 p. m.    <DIR>          .conda\n",
      "21/04/2020  10:29 a. m.    <DIR>          .config\n",
      "13/09/2021  12:53 p. m.    <DIR>          .dbus-keyrings\n",
      "04/03/2022  01:07 p. m.    <DIR>          .electron-gyp\n",
      "06/09/2020  05:42 p. m.    <DIR>          .expo\n",
      "04/06/2021  05:29 p. m.               200 .gitconfig\n",
      "22/07/2021  04:20 p. m.    <DIR>          .InstallAnywhere\n",
      "14/10/2022  04:19 p. m.    <DIR>          .ipynb_checkpoints\n",
      "12/10/2022  04:09 p. m.    <DIR>          .ipython\n",
      "12/10/2022  04:05 p. m.    <DIR>          .jupyter\n",
      "07/10/2021  12:00 p. m.                20 .lesshst\n",
      "22/07/2021  04:18 p. m.    <DIR>          .LOGOComfort7.0\n",
      "22/07/2021  04:53 p. m.    <DIR>          .LOGOComfort8.3\n",
      "22/07/2021  04:27 p. m.    <DIR>          .lwe\n",
      "22/07/2021  04:27 p. m.    <DIR>          .lwe-installer\n",
      "14/10/2022  04:21 p. m.    <DIR>          .matplotlib\n",
      "21/07/2022  09:59 a. m.    <DIR>          .ms-ad\n",
      "10/06/2021  09:38 a. m.                49 .node_repl_history\n",
      "14/10/2022  12:59 p. m.    <DIR>          .node-red\n",
      "14/07/2021  04:43 p. m.    <DIR>          .pm2\n",
      "05/09/2020  11:13 p. m.    <DIR>          .react-native-cli\n",
      "03/08/2022  05:36 p. m.    <DIR>          .ssh\n",
      "21/04/2020  11:52 a. m.    <DIR>          .vscode\n",
      "04/03/2022  01:21 p. m.    <DIR>          .windows-build-tools\n",
      "02/07/2020  12:01 a. m.               121 .yarnrc\n",
      "29/08/2022  10:18 a. m.    <DIR>          3D Objects\n",
      "14/10/2022  06:27 p. m.           118,418 Actividad 1 R2.ipynb\n",
      "12/10/2022  05:55 p. m.             4,349 Actividad1.ipynb\n",
      "26/09/2022  10:39 p. m.    <DIR>          Anaconda3\n",
      "29/08/2022  10:18 a. m.    <DIR>          Contacts\n",
      "11/10/2022  08:37 a. m.    <DIR>          deacero.com\n",
      "12/10/2022  06:01 p. m.    <DIR>          Desktop\n",
      "26/09/2022  10:38 p. m.    <DIR>          Documents\n",
      "14/10/2022  04:47 p. m.    <DIR>          Downloads\n",
      "29/08/2022  10:18 a. m.    <DIR>          Favorites\n",
      "29/08/2022  10:18 a. m.    <DIR>          Links\n",
      "29/08/2022  10:18 a. m.    <DIR>          Music\n",
      "13/10/2022  05:02 p. m.             3,513 numpy.ipynb\n",
      "02/06/2021  11:26 a. m.    <DIR>          OneDrive\n",
      "13/10/2022  06:18 p. m.    <DIR>          OneDrive - deacero.com\n",
      "13/10/2022  05:53 p. m.             1,841 Pandas.ipynb\n",
      "29/09/2022  04:07 p. m.    <DIR>          Pictures\n",
      "28/04/2020  07:17 p. m.    <DIR>          Postman\n",
      "07/04/2021  06:25 p. m.                13 query\n",
      "15/04/2020  10:56 a. m.    <DIR>          Roaming\n",
      "14/09/2021  06:43 p. m.             3,028 sample.pdf\n",
      "29/08/2022  10:18 a. m.    <DIR>          Saved Games\n",
      "29/08/2022  10:18 a. m.    <DIR>          Searches\n",
      "14/10/2022  04:20 p. m.               589 Untitled.ipynb\n",
      "11/10/2022  01:25 p. m.    <DIR>          Videos\n",
      "              13 archivos        132,748 bytes\n",
      "              44 dirs  177,314,844,672 bytes libres\n"
     ]
    }
   ],
   "source": [
    "ls"
   ]
  },
  {
   "cell_type": "markdown",
   "metadata": {},
   "source": [
    "probablemente se encuentre en 'data/'"
   ]
  },
  {
   "cell_type": "code",
   "execution_count": 129,
   "metadata": {},
   "outputs": [
    {
     "name": "stdout",
     "output_type": "stream",
     "text": [
      " El volumen de la unidad C es OS\n",
      " El n£mero de serie del volumen es: AC96-7F87\n",
      "\n",
      " Directorio de C:\\Users\\NGALAZ\n",
      "\n"
     ]
    },
    {
     "name": "stderr",
     "output_type": "stream",
     "text": [
      "No se encuentra el archivo\n"
     ]
    }
   ],
   "source": [
    "ls data"
   ]
  },
  {
   "cell_type": "markdown",
   "metadata": {},
   "source": [
    "Pandas puede cargar csv, aunque algunas veces el csv no está separado por comas. Revisemos lo que está dentro de playgolf.csv"
   ]
  },
  {
   "cell_type": "code",
   "execution_count": 132,
   "metadata": {},
   "outputs": [
    {
     "name": "stdout",
     "output_type": "stream",
     "text": [
      "Date,Outlook,Temperature,Humidity,Windy,Result\n",
      "7/1/14,sunny,85,85,FALSE,Don't Play\n",
      "7/2/14,sunny,80,90,TRUE,Don't Play\n",
      "7/3/14,overcast,83,78,FALSE,Play\n",
      "7/4/14,rain,70,96,FALSE,Play\n",
      "7/5/14,rain,68,80,FALSE,Play\n",
      "7/6/14,rain,65,70,TRUE,Don't Play\n",
      "7/7/14,overcast,64,65,TRUE,Play\n",
      "7/8/14,sunny,72,95,FALSE,Don't Play\n",
      "7/9/14,sunny,69,70,FALSE,Play\n",
      "7/10/14,rain,75,80,FALSE,Play\n",
      "7/11/14,sunny,75,70,TRUE,Play\n",
      "7/12/14,overcast,72,90,TRUE,Play\n",
      "7/13/14,overcast,81,75,FALSE,Play\n",
      "7/14/14,rain,71,80,TRUE,Don't Play\n"
     ]
    }
   ],
   "source": [
    "# '!' significa que estamos ejecutando un comando de bash\n",
    "!type C:\\Users\\NGALAZ\\Documents\\Repositorios\\Review2-Files\\playgolf.csv"
   ]
  },
  {
   "cell_type": "code",
   "execution_count": 134,
   "metadata": {},
   "outputs": [
    {
     "name": "stderr",
     "output_type": "stream",
     "text": [
      "\"head\" no se reconoce como un comando interno o externo,\n",
      "programa o archivo por lotes ejecutable.\n"
     ]
    }
   ],
   "source": [
    "!head -1 data/playgolf.csv"
   ]
  },
  {
   "cell_type": "markdown",
   "metadata": {},
   "source": [
    "###  Cargar datos desde csv\n",
    "\n",
    "Un csv (valores separados por comas) es un formato de archivo utilizado para almacenar datos separados por un **delimitador**.\n",
    "\n",
    "Un delimitador es el **carácter único** que divide los elementos de datos en un archivo.  La coma es una opción tradicional de delimitador, pero relativamente pobre porque a menudo forma parte de los propios elementos.  Las mejores opciones son el pipe (`|`) y el tabulador (`\\t`)."
   ]
  },
  {
   "cell_type": "markdown",
   "metadata": {},
   "source": [
    "En un extraño giro de la historia, los archivos separados por comas a menudo se separan con caracteres diferentes a las comas.  No hay una convención consistente de usar una extensión de archivo diferente, pero algunas personas usan `.psv` o `.tsv`.\n",
    "\n",
    "Pandas tiene una función `read_csv` que carga un fichero delimitado en un `DataFrame`.  "
   ]
  },
  {
   "cell_type": "code",
   "execution_count": 136,
   "metadata": {},
   "outputs": [],
   "source": [
    "golf_df = pd.read_csv('C:/Users/NGALAZ/Documents/Repositorios/Review2-Files/playgolf.csv', delimiter=',')"
   ]
  },
  {
   "cell_type": "code",
   "execution_count": 137,
   "metadata": {},
   "outputs": [
    {
     "data": {
      "text/html": [
       "<div>\n",
       "<style scoped>\n",
       "    .dataframe tbody tr th:only-of-type {\n",
       "        vertical-align: middle;\n",
       "    }\n",
       "\n",
       "    .dataframe tbody tr th {\n",
       "        vertical-align: top;\n",
       "    }\n",
       "\n",
       "    .dataframe thead th {\n",
       "        text-align: right;\n",
       "    }\n",
       "</style>\n",
       "<table border=\"1\" class=\"dataframe\">\n",
       "  <thead>\n",
       "    <tr style=\"text-align: right;\">\n",
       "      <th></th>\n",
       "      <th>Date</th>\n",
       "      <th>Outlook</th>\n",
       "      <th>Temperature</th>\n",
       "      <th>Humidity</th>\n",
       "      <th>Windy</th>\n",
       "      <th>Result</th>\n",
       "    </tr>\n",
       "  </thead>\n",
       "  <tbody>\n",
       "    <tr>\n",
       "      <th>0</th>\n",
       "      <td>7/1/14</td>\n",
       "      <td>sunny</td>\n",
       "      <td>85</td>\n",
       "      <td>85</td>\n",
       "      <td>False</td>\n",
       "      <td>Don't Play</td>\n",
       "    </tr>\n",
       "    <tr>\n",
       "      <th>1</th>\n",
       "      <td>7/2/14</td>\n",
       "      <td>sunny</td>\n",
       "      <td>80</td>\n",
       "      <td>90</td>\n",
       "      <td>True</td>\n",
       "      <td>Don't Play</td>\n",
       "    </tr>\n",
       "    <tr>\n",
       "      <th>2</th>\n",
       "      <td>7/3/14</td>\n",
       "      <td>overcast</td>\n",
       "      <td>83</td>\n",
       "      <td>78</td>\n",
       "      <td>False</td>\n",
       "      <td>Play</td>\n",
       "    </tr>\n",
       "    <tr>\n",
       "      <th>3</th>\n",
       "      <td>7/4/14</td>\n",
       "      <td>rain</td>\n",
       "      <td>70</td>\n",
       "      <td>96</td>\n",
       "      <td>False</td>\n",
       "      <td>Play</td>\n",
       "    </tr>\n",
       "    <tr>\n",
       "      <th>4</th>\n",
       "      <td>7/5/14</td>\n",
       "      <td>rain</td>\n",
       "      <td>68</td>\n",
       "      <td>80</td>\n",
       "      <td>False</td>\n",
       "      <td>Play</td>\n",
       "    </tr>\n",
       "    <tr>\n",
       "      <th>5</th>\n",
       "      <td>7/6/14</td>\n",
       "      <td>rain</td>\n",
       "      <td>65</td>\n",
       "      <td>70</td>\n",
       "      <td>True</td>\n",
       "      <td>Don't Play</td>\n",
       "    </tr>\n",
       "    <tr>\n",
       "      <th>6</th>\n",
       "      <td>7/7/14</td>\n",
       "      <td>overcast</td>\n",
       "      <td>64</td>\n",
       "      <td>65</td>\n",
       "      <td>True</td>\n",
       "      <td>Play</td>\n",
       "    </tr>\n",
       "    <tr>\n",
       "      <th>7</th>\n",
       "      <td>7/8/14</td>\n",
       "      <td>sunny</td>\n",
       "      <td>72</td>\n",
       "      <td>95</td>\n",
       "      <td>False</td>\n",
       "      <td>Don't Play</td>\n",
       "    </tr>\n",
       "    <tr>\n",
       "      <th>8</th>\n",
       "      <td>7/9/14</td>\n",
       "      <td>sunny</td>\n",
       "      <td>69</td>\n",
       "      <td>70</td>\n",
       "      <td>False</td>\n",
       "      <td>Play</td>\n",
       "    </tr>\n",
       "    <tr>\n",
       "      <th>9</th>\n",
       "      <td>7/10/14</td>\n",
       "      <td>rain</td>\n",
       "      <td>75</td>\n",
       "      <td>80</td>\n",
       "      <td>False</td>\n",
       "      <td>Play</td>\n",
       "    </tr>\n",
       "    <tr>\n",
       "      <th>10</th>\n",
       "      <td>7/11/14</td>\n",
       "      <td>sunny</td>\n",
       "      <td>75</td>\n",
       "      <td>70</td>\n",
       "      <td>True</td>\n",
       "      <td>Play</td>\n",
       "    </tr>\n",
       "    <tr>\n",
       "      <th>11</th>\n",
       "      <td>7/12/14</td>\n",
       "      <td>overcast</td>\n",
       "      <td>72</td>\n",
       "      <td>90</td>\n",
       "      <td>True</td>\n",
       "      <td>Play</td>\n",
       "    </tr>\n",
       "    <tr>\n",
       "      <th>12</th>\n",
       "      <td>7/13/14</td>\n",
       "      <td>overcast</td>\n",
       "      <td>81</td>\n",
       "      <td>75</td>\n",
       "      <td>False</td>\n",
       "      <td>Play</td>\n",
       "    </tr>\n",
       "    <tr>\n",
       "      <th>13</th>\n",
       "      <td>7/14/14</td>\n",
       "      <td>rain</td>\n",
       "      <td>71</td>\n",
       "      <td>80</td>\n",
       "      <td>True</td>\n",
       "      <td>Don't Play</td>\n",
       "    </tr>\n",
       "  </tbody>\n",
       "</table>\n",
       "</div>"
      ],
      "text/plain": [
       "       Date   Outlook  Temperature  Humidity  Windy      Result\n",
       "0    7/1/14     sunny           85        85  False  Don't Play\n",
       "1    7/2/14     sunny           80        90   True  Don't Play\n",
       "2    7/3/14  overcast           83        78  False        Play\n",
       "3    7/4/14      rain           70        96  False        Play\n",
       "4    7/5/14      rain           68        80  False        Play\n",
       "5    7/6/14      rain           65        70   True  Don't Play\n",
       "6    7/7/14  overcast           64        65   True        Play\n",
       "7    7/8/14     sunny           72        95  False  Don't Play\n",
       "8    7/9/14     sunny           69        70  False        Play\n",
       "9   7/10/14      rain           75        80  False        Play\n",
       "10  7/11/14     sunny           75        70   True        Play\n",
       "11  7/12/14  overcast           72        90   True        Play\n",
       "12  7/13/14  overcast           81        75  False        Play\n",
       "13  7/14/14      rain           71        80   True  Don't Play"
      ]
     },
     "execution_count": 137,
     "metadata": {},
     "output_type": "execute_result"
    }
   ],
   "source": [
    "golf_df"
   ]
  },
  {
   "cell_type": "markdown",
   "metadata": {},
   "source": [
    "### 18.- Cargar hospital-costs.csv como 'hospital_costs'.\n"
   ]
  },
  {
   "cell_type": "code",
   "execution_count": 140,
   "metadata": {},
   "outputs": [
    {
     "data": {
      "text/html": [
       "<div>\n",
       "<style scoped>\n",
       "    .dataframe tbody tr th:only-of-type {\n",
       "        vertical-align: middle;\n",
       "    }\n",
       "\n",
       "    .dataframe tbody tr th {\n",
       "        vertical-align: top;\n",
       "    }\n",
       "\n",
       "    .dataframe thead th {\n",
       "        text-align: right;\n",
       "    }\n",
       "</style>\n",
       "<table border=\"1\" class=\"dataframe\">\n",
       "  <thead>\n",
       "    <tr style=\"text-align: right;\">\n",
       "      <th></th>\n",
       "      <th>Year</th>\n",
       "      <th>Facility Id</th>\n",
       "      <th>Facility Name</th>\n",
       "      <th>APR DRG Code</th>\n",
       "      <th>APR Severity of Illness Code</th>\n",
       "      <th>APR DRG Description</th>\n",
       "      <th>APR Severity of Illness Description</th>\n",
       "      <th>APR Medical Surgical Code</th>\n",
       "      <th>APR Medical Surgical Description</th>\n",
       "      <th>Discharges</th>\n",
       "      <th>Mean Charge</th>\n",
       "      <th>Median Charge</th>\n",
       "      <th>Mean Cost</th>\n",
       "      <th>Median Cost</th>\n",
       "    </tr>\n",
       "  </thead>\n",
       "  <tbody>\n",
       "    <tr>\n",
       "      <th>0</th>\n",
       "      <td>2011</td>\n",
       "      <td>324</td>\n",
       "      <td>Adirondack Medical Center-Saranac Lake Site</td>\n",
       "      <td>4</td>\n",
       "      <td>4</td>\n",
       "      <td>Tracheostomy W MV 96+ Hours W Extensive Proced...</td>\n",
       "      <td>Extreme</td>\n",
       "      <td>P</td>\n",
       "      <td>Surgical</td>\n",
       "      <td>3</td>\n",
       "      <td>361289.0</td>\n",
       "      <td>210882.0</td>\n",
       "      <td>196080.0</td>\n",
       "      <td>123347.0</td>\n",
       "    </tr>\n",
       "    <tr>\n",
       "      <th>1</th>\n",
       "      <td>2011</td>\n",
       "      <td>324</td>\n",
       "      <td>Adirondack Medical Center-Saranac Lake Site</td>\n",
       "      <td>5</td>\n",
       "      <td>4</td>\n",
       "      <td>Tracheostomy W MV 96+ Hours W/O Extensive Proc...</td>\n",
       "      <td>Extreme</td>\n",
       "      <td>P</td>\n",
       "      <td>Surgical</td>\n",
       "      <td>1</td>\n",
       "      <td>102190.0</td>\n",
       "      <td>102190.0</td>\n",
       "      <td>59641.0</td>\n",
       "      <td>59641.0</td>\n",
       "    </tr>\n",
       "    <tr>\n",
       "      <th>2</th>\n",
       "      <td>2011</td>\n",
       "      <td>324</td>\n",
       "      <td>Adirondack Medical Center-Saranac Lake Site</td>\n",
       "      <td>24</td>\n",
       "      <td>2</td>\n",
       "      <td>Extracranial Vascular Procedures</td>\n",
       "      <td>Moderate</td>\n",
       "      <td>P</td>\n",
       "      <td>Surgical</td>\n",
       "      <td>6</td>\n",
       "      <td>14172.0</td>\n",
       "      <td>13506.0</td>\n",
       "      <td>6888.0</td>\n",
       "      <td>6445.0</td>\n",
       "    </tr>\n",
       "    <tr>\n",
       "      <th>3</th>\n",
       "      <td>2011</td>\n",
       "      <td>324</td>\n",
       "      <td>Adirondack Medical Center-Saranac Lake Site</td>\n",
       "      <td>26</td>\n",
       "      <td>1</td>\n",
       "      <td>Other Nervous System &amp; Related Procedures</td>\n",
       "      <td>Minor</td>\n",
       "      <td>P</td>\n",
       "      <td>Surgical</td>\n",
       "      <td>1</td>\n",
       "      <td>8833.0</td>\n",
       "      <td>8833.0</td>\n",
       "      <td>4259.0</td>\n",
       "      <td>4259.0</td>\n",
       "    </tr>\n",
       "    <tr>\n",
       "      <th>4</th>\n",
       "      <td>2011</td>\n",
       "      <td>324</td>\n",
       "      <td>Adirondack Medical Center-Saranac Lake Site</td>\n",
       "      <td>41</td>\n",
       "      <td>1</td>\n",
       "      <td>Nervous System Malignancy</td>\n",
       "      <td>Minor</td>\n",
       "      <td>M</td>\n",
       "      <td>Medical</td>\n",
       "      <td>1</td>\n",
       "      <td>5264.0</td>\n",
       "      <td>5264.0</td>\n",
       "      <td>1727.0</td>\n",
       "      <td>1727.0</td>\n",
       "    </tr>\n",
       "    <tr>\n",
       "      <th>...</th>\n",
       "      <td>...</td>\n",
       "      <td>...</td>\n",
       "      <td>...</td>\n",
       "      <td>...</td>\n",
       "      <td>...</td>\n",
       "      <td>...</td>\n",
       "      <td>...</td>\n",
       "      <td>...</td>\n",
       "      <td>...</td>\n",
       "      <td>...</td>\n",
       "      <td>...</td>\n",
       "      <td>...</td>\n",
       "      <td>...</td>\n",
       "      <td>...</td>\n",
       "    </tr>\n",
       "    <tr>\n",
       "      <th>383488</th>\n",
       "      <td>2009</td>\n",
       "      <td>1153</td>\n",
       "      <td>Wyoming County Community Hospital</td>\n",
       "      <td>951</td>\n",
       "      <td>3</td>\n",
       "      <td>Moderately Extensive Procedure Unrelated To Pr...</td>\n",
       "      <td>Major</td>\n",
       "      <td>P</td>\n",
       "      <td>Surgical</td>\n",
       "      <td>5</td>\n",
       "      <td>13572.0</td>\n",
       "      <td>12615.0</td>\n",
       "      <td>14433.0</td>\n",
       "      <td>15835.0</td>\n",
       "    </tr>\n",
       "    <tr>\n",
       "      <th>383489</th>\n",
       "      <td>2009</td>\n",
       "      <td>1153</td>\n",
       "      <td>Wyoming County Community Hospital</td>\n",
       "      <td>952</td>\n",
       "      <td>3</td>\n",
       "      <td>Nonextensive Procedure Unrelated To Principal ...</td>\n",
       "      <td>Major</td>\n",
       "      <td>P</td>\n",
       "      <td>Surgical</td>\n",
       "      <td>4</td>\n",
       "      <td>8323.0</td>\n",
       "      <td>8179.0</td>\n",
       "      <td>9520.0</td>\n",
       "      <td>8674.0</td>\n",
       "    </tr>\n",
       "    <tr>\n",
       "      <th>383490</th>\n",
       "      <td>2009</td>\n",
       "      <td>1153</td>\n",
       "      <td>Wyoming County Community Hospital</td>\n",
       "      <td>952</td>\n",
       "      <td>2</td>\n",
       "      <td>Nonextensive Procedure Unrelated To Principal ...</td>\n",
       "      <td>Moderate</td>\n",
       "      <td>P</td>\n",
       "      <td>Surgical</td>\n",
       "      <td>5</td>\n",
       "      <td>7746.0</td>\n",
       "      <td>5120.0</td>\n",
       "      <td>7257.0</td>\n",
       "      <td>5321.0</td>\n",
       "    </tr>\n",
       "    <tr>\n",
       "      <th>383491</th>\n",
       "      <td>2009</td>\n",
       "      <td>1153</td>\n",
       "      <td>Wyoming County Community Hospital</td>\n",
       "      <td>952</td>\n",
       "      <td>1</td>\n",
       "      <td>Nonextensive Procedure Unrelated To Principal ...</td>\n",
       "      <td>Minor</td>\n",
       "      <td>P</td>\n",
       "      <td>Surgical</td>\n",
       "      <td>1</td>\n",
       "      <td>7892.0</td>\n",
       "      <td>7892.0</td>\n",
       "      <td>6528.0</td>\n",
       "      <td>6528.0</td>\n",
       "    </tr>\n",
       "    <tr>\n",
       "      <th>383492</th>\n",
       "      <td>2009</td>\n",
       "      <td>1153</td>\n",
       "      <td>Wyoming County Community Hospital</td>\n",
       "      <td>956</td>\n",
       "      <td>0</td>\n",
       "      <td>Ungroupable</td>\n",
       "      <td>NaN</td>\n",
       "      <td>NaN</td>\n",
       "      <td>Other</td>\n",
       "      <td>3</td>\n",
       "      <td>1069.0</td>\n",
       "      <td>1309.0</td>\n",
       "      <td>1719.0</td>\n",
       "      <td>1756.0</td>\n",
       "    </tr>\n",
       "  </tbody>\n",
       "</table>\n",
       "<p>383493 rows × 14 columns</p>\n",
       "</div>"
      ],
      "text/plain": [
       "        Year  Facility Id                                Facility Name  \\\n",
       "0       2011          324  Adirondack Medical Center-Saranac Lake Site   \n",
       "1       2011          324  Adirondack Medical Center-Saranac Lake Site   \n",
       "2       2011          324  Adirondack Medical Center-Saranac Lake Site   \n",
       "3       2011          324  Adirondack Medical Center-Saranac Lake Site   \n",
       "4       2011          324  Adirondack Medical Center-Saranac Lake Site   \n",
       "...      ...          ...                                          ...   \n",
       "383488  2009         1153            Wyoming County Community Hospital   \n",
       "383489  2009         1153            Wyoming County Community Hospital   \n",
       "383490  2009         1153            Wyoming County Community Hospital   \n",
       "383491  2009         1153            Wyoming County Community Hospital   \n",
       "383492  2009         1153            Wyoming County Community Hospital   \n",
       "\n",
       "        APR DRG Code  APR Severity of Illness Code  \\\n",
       "0                  4                             4   \n",
       "1                  5                             4   \n",
       "2                 24                             2   \n",
       "3                 26                             1   \n",
       "4                 41                             1   \n",
       "...              ...                           ...   \n",
       "383488           951                             3   \n",
       "383489           952                             3   \n",
       "383490           952                             2   \n",
       "383491           952                             1   \n",
       "383492           956                             0   \n",
       "\n",
       "                                      APR DRG Description  \\\n",
       "0       Tracheostomy W MV 96+ Hours W Extensive Proced...   \n",
       "1       Tracheostomy W MV 96+ Hours W/O Extensive Proc...   \n",
       "2                        Extracranial Vascular Procedures   \n",
       "3               Other Nervous System & Related Procedures   \n",
       "4                               Nervous System Malignancy   \n",
       "...                                                   ...   \n",
       "383488  Moderately Extensive Procedure Unrelated To Pr...   \n",
       "383489  Nonextensive Procedure Unrelated To Principal ...   \n",
       "383490  Nonextensive Procedure Unrelated To Principal ...   \n",
       "383491  Nonextensive Procedure Unrelated To Principal ...   \n",
       "383492                                        Ungroupable   \n",
       "\n",
       "       APR Severity of Illness Description APR Medical Surgical Code  \\\n",
       "0                                  Extreme                         P   \n",
       "1                                  Extreme                         P   \n",
       "2                                 Moderate                         P   \n",
       "3                                    Minor                         P   \n",
       "4                                    Minor                         M   \n",
       "...                                    ...                       ...   \n",
       "383488                               Major                         P   \n",
       "383489                               Major                         P   \n",
       "383490                            Moderate                         P   \n",
       "383491                               Minor                         P   \n",
       "383492                                 NaN                       NaN   \n",
       "\n",
       "       APR Medical Surgical Description  Discharges  Mean Charge  \\\n",
       "0                              Surgical           3     361289.0   \n",
       "1                              Surgical           1     102190.0   \n",
       "2                              Surgical           6      14172.0   \n",
       "3                              Surgical           1       8833.0   \n",
       "4                               Medical           1       5264.0   \n",
       "...                                 ...         ...          ...   \n",
       "383488                         Surgical           5      13572.0   \n",
       "383489                         Surgical           4       8323.0   \n",
       "383490                         Surgical           5       7746.0   \n",
       "383491                         Surgical           1       7892.0   \n",
       "383492                            Other           3       1069.0   \n",
       "\n",
       "        Median Charge  Mean Cost  Median Cost  \n",
       "0            210882.0   196080.0     123347.0  \n",
       "1            102190.0    59641.0      59641.0  \n",
       "2             13506.0     6888.0       6445.0  \n",
       "3              8833.0     4259.0       4259.0  \n",
       "4              5264.0     1727.0       1727.0  \n",
       "...               ...        ...          ...  \n",
       "383488        12615.0    14433.0      15835.0  \n",
       "383489         8179.0     9520.0       8674.0  \n",
       "383490         5120.0     7257.0       5321.0  \n",
       "383491         7892.0     6528.0       6528.0  \n",
       "383492         1309.0     1719.0       1756.0  \n",
       "\n",
       "[383493 rows x 14 columns]"
      ]
     },
     "execution_count": 140,
     "metadata": {},
     "output_type": "execute_result"
    }
   ],
   "source": [
    "#Código:\n",
    "hospital_cost = pd.read_csv('C:/Users/NGALAZ/Documents/Repositorios/Review2-Files/hospital-costs.csv',delimiter=\",\")\n",
    "hospital_cost"
   ]
  },
  {
   "cell_type": "markdown",
   "metadata": {},
   "source": [
    "### 19.- Cargar winnequality-white.csv como 'wine_quality_white'."
   ]
  },
  {
   "cell_type": "code",
   "execution_count": 144,
   "metadata": {},
   "outputs": [
    {
     "data": {
      "text/html": [
       "<div>\n",
       "<style scoped>\n",
       "    .dataframe tbody tr th:only-of-type {\n",
       "        vertical-align: middle;\n",
       "    }\n",
       "\n",
       "    .dataframe tbody tr th {\n",
       "        vertical-align: top;\n",
       "    }\n",
       "\n",
       "    .dataframe thead th {\n",
       "        text-align: right;\n",
       "    }\n",
       "</style>\n",
       "<table border=\"1\" class=\"dataframe\">\n",
       "  <thead>\n",
       "    <tr style=\"text-align: right;\">\n",
       "      <th></th>\n",
       "      <th>fixed acidity</th>\n",
       "      <th>volatile acidity</th>\n",
       "      <th>citric acid</th>\n",
       "      <th>residual sugar</th>\n",
       "      <th>chlorides</th>\n",
       "      <th>free sulfur dioxide</th>\n",
       "      <th>total sulfur dioxide</th>\n",
       "      <th>density</th>\n",
       "      <th>pH</th>\n",
       "      <th>sulphates</th>\n",
       "      <th>alcohol</th>\n",
       "      <th>quality</th>\n",
       "    </tr>\n",
       "  </thead>\n",
       "  <tbody>\n",
       "    <tr>\n",
       "      <th>0</th>\n",
       "      <td>7.0</td>\n",
       "      <td>0.27</td>\n",
       "      <td>0.36</td>\n",
       "      <td>20.7</td>\n",
       "      <td>0.045</td>\n",
       "      <td>45.0</td>\n",
       "      <td>170.0</td>\n",
       "      <td>1.00100</td>\n",
       "      <td>3.00</td>\n",
       "      <td>0.45</td>\n",
       "      <td>8.8</td>\n",
       "      <td>6</td>\n",
       "    </tr>\n",
       "    <tr>\n",
       "      <th>1</th>\n",
       "      <td>6.3</td>\n",
       "      <td>0.30</td>\n",
       "      <td>0.34</td>\n",
       "      <td>1.6</td>\n",
       "      <td>0.049</td>\n",
       "      <td>14.0</td>\n",
       "      <td>132.0</td>\n",
       "      <td>0.99400</td>\n",
       "      <td>3.30</td>\n",
       "      <td>0.49</td>\n",
       "      <td>9.5</td>\n",
       "      <td>6</td>\n",
       "    </tr>\n",
       "    <tr>\n",
       "      <th>2</th>\n",
       "      <td>8.1</td>\n",
       "      <td>0.28</td>\n",
       "      <td>0.40</td>\n",
       "      <td>6.9</td>\n",
       "      <td>0.050</td>\n",
       "      <td>30.0</td>\n",
       "      <td>97.0</td>\n",
       "      <td>0.99510</td>\n",
       "      <td>3.26</td>\n",
       "      <td>0.44</td>\n",
       "      <td>10.1</td>\n",
       "      <td>6</td>\n",
       "    </tr>\n",
       "    <tr>\n",
       "      <th>3</th>\n",
       "      <td>7.2</td>\n",
       "      <td>0.23</td>\n",
       "      <td>0.32</td>\n",
       "      <td>8.5</td>\n",
       "      <td>0.058</td>\n",
       "      <td>47.0</td>\n",
       "      <td>186.0</td>\n",
       "      <td>0.99560</td>\n",
       "      <td>3.19</td>\n",
       "      <td>0.40</td>\n",
       "      <td>9.9</td>\n",
       "      <td>6</td>\n",
       "    </tr>\n",
       "    <tr>\n",
       "      <th>4</th>\n",
       "      <td>7.2</td>\n",
       "      <td>0.23</td>\n",
       "      <td>0.32</td>\n",
       "      <td>8.5</td>\n",
       "      <td>0.058</td>\n",
       "      <td>47.0</td>\n",
       "      <td>186.0</td>\n",
       "      <td>0.99560</td>\n",
       "      <td>3.19</td>\n",
       "      <td>0.40</td>\n",
       "      <td>9.9</td>\n",
       "      <td>6</td>\n",
       "    </tr>\n",
       "    <tr>\n",
       "      <th>...</th>\n",
       "      <td>...</td>\n",
       "      <td>...</td>\n",
       "      <td>...</td>\n",
       "      <td>...</td>\n",
       "      <td>...</td>\n",
       "      <td>...</td>\n",
       "      <td>...</td>\n",
       "      <td>...</td>\n",
       "      <td>...</td>\n",
       "      <td>...</td>\n",
       "      <td>...</td>\n",
       "      <td>...</td>\n",
       "    </tr>\n",
       "    <tr>\n",
       "      <th>4893</th>\n",
       "      <td>6.2</td>\n",
       "      <td>0.21</td>\n",
       "      <td>0.29</td>\n",
       "      <td>1.6</td>\n",
       "      <td>0.039</td>\n",
       "      <td>24.0</td>\n",
       "      <td>92.0</td>\n",
       "      <td>0.99114</td>\n",
       "      <td>3.27</td>\n",
       "      <td>0.50</td>\n",
       "      <td>11.2</td>\n",
       "      <td>6</td>\n",
       "    </tr>\n",
       "    <tr>\n",
       "      <th>4894</th>\n",
       "      <td>6.6</td>\n",
       "      <td>0.32</td>\n",
       "      <td>0.36</td>\n",
       "      <td>8.0</td>\n",
       "      <td>0.047</td>\n",
       "      <td>57.0</td>\n",
       "      <td>168.0</td>\n",
       "      <td>0.99490</td>\n",
       "      <td>3.15</td>\n",
       "      <td>0.46</td>\n",
       "      <td>9.6</td>\n",
       "      <td>5</td>\n",
       "    </tr>\n",
       "    <tr>\n",
       "      <th>4895</th>\n",
       "      <td>6.5</td>\n",
       "      <td>0.24</td>\n",
       "      <td>0.19</td>\n",
       "      <td>1.2</td>\n",
       "      <td>0.041</td>\n",
       "      <td>30.0</td>\n",
       "      <td>111.0</td>\n",
       "      <td>0.99254</td>\n",
       "      <td>2.99</td>\n",
       "      <td>0.46</td>\n",
       "      <td>9.4</td>\n",
       "      <td>6</td>\n",
       "    </tr>\n",
       "    <tr>\n",
       "      <th>4896</th>\n",
       "      <td>5.5</td>\n",
       "      <td>0.29</td>\n",
       "      <td>0.30</td>\n",
       "      <td>1.1</td>\n",
       "      <td>0.022</td>\n",
       "      <td>20.0</td>\n",
       "      <td>110.0</td>\n",
       "      <td>0.98869</td>\n",
       "      <td>3.34</td>\n",
       "      <td>0.38</td>\n",
       "      <td>12.8</td>\n",
       "      <td>7</td>\n",
       "    </tr>\n",
       "    <tr>\n",
       "      <th>4897</th>\n",
       "      <td>6.0</td>\n",
       "      <td>0.21</td>\n",
       "      <td>0.38</td>\n",
       "      <td>0.8</td>\n",
       "      <td>0.020</td>\n",
       "      <td>22.0</td>\n",
       "      <td>98.0</td>\n",
       "      <td>0.98941</td>\n",
       "      <td>3.26</td>\n",
       "      <td>0.32</td>\n",
       "      <td>11.8</td>\n",
       "      <td>6</td>\n",
       "    </tr>\n",
       "  </tbody>\n",
       "</table>\n",
       "<p>4898 rows × 12 columns</p>\n",
       "</div>"
      ],
      "text/plain": [
       "      fixed acidity  volatile acidity  citric acid  residual sugar  chlorides  \\\n",
       "0               7.0              0.27         0.36            20.7      0.045   \n",
       "1               6.3              0.30         0.34             1.6      0.049   \n",
       "2               8.1              0.28         0.40             6.9      0.050   \n",
       "3               7.2              0.23         0.32             8.5      0.058   \n",
       "4               7.2              0.23         0.32             8.5      0.058   \n",
       "...             ...               ...          ...             ...        ...   \n",
       "4893            6.2              0.21         0.29             1.6      0.039   \n",
       "4894            6.6              0.32         0.36             8.0      0.047   \n",
       "4895            6.5              0.24         0.19             1.2      0.041   \n",
       "4896            5.5              0.29         0.30             1.1      0.022   \n",
       "4897            6.0              0.21         0.38             0.8      0.020   \n",
       "\n",
       "      free sulfur dioxide  total sulfur dioxide  density    pH  sulphates  \\\n",
       "0                    45.0                 170.0  1.00100  3.00       0.45   \n",
       "1                    14.0                 132.0  0.99400  3.30       0.49   \n",
       "2                    30.0                  97.0  0.99510  3.26       0.44   \n",
       "3                    47.0                 186.0  0.99560  3.19       0.40   \n",
       "4                    47.0                 186.0  0.99560  3.19       0.40   \n",
       "...                   ...                   ...      ...   ...        ...   \n",
       "4893                 24.0                  92.0  0.99114  3.27       0.50   \n",
       "4894                 57.0                 168.0  0.99490  3.15       0.46   \n",
       "4895                 30.0                 111.0  0.99254  2.99       0.46   \n",
       "4896                 20.0                 110.0  0.98869  3.34       0.38   \n",
       "4897                 22.0                  98.0  0.98941  3.26       0.32   \n",
       "\n",
       "      alcohol  quality  \n",
       "0         8.8        6  \n",
       "1         9.5        6  \n",
       "2        10.1        6  \n",
       "3         9.9        6  \n",
       "4         9.9        6  \n",
       "...       ...      ...  \n",
       "4893     11.2        6  \n",
       "4894      9.6        5  \n",
       "4895      9.4        6  \n",
       "4896     12.8        7  \n",
       "4897     11.8        6  \n",
       "\n",
       "[4898 rows x 12 columns]"
      ]
     },
     "execution_count": 144,
     "metadata": {},
     "output_type": "execute_result"
    }
   ],
   "source": [
    "#Código:\n",
    "wine_quality_white = pd.read_csv('C:/Users/NGALAZ/Documents/Repositorios/Review2-Files/winequality-white.csv',delimiter=\";\")\n",
    "wine_quality_white\n"
   ]
  },
  {
   "cell_type": "markdown",
   "metadata": {},
   "source": [
    "## Extraer información del DataFrame"
   ]
  },
  {
   "cell_type": "markdown",
   "metadata": {},
   "source": [
    "#### Índices de Fila y Columna"
   ]
  },
  {
   "cell_type": "markdown",
   "metadata": {},
   "source": [
    "Como hemos visto, se pueden extraer columnas individuales de un `DataFrame` como una `Serie` utilizando la indexación habitual de estilo `__getitem__` utilizando el nombre de la columna.  \n",
    "\n",
    "Esto es similar a cómo indexamos un diccionario."
   ]
  },
  {
   "cell_type": "code",
   "execution_count": 145,
   "metadata": {},
   "outputs": [
    {
     "data": {
      "text/plain": [
       "0     85\n",
       "1     80\n",
       "2     83\n",
       "3     70\n",
       "4     68\n",
       "5     65\n",
       "6     64\n",
       "7     72\n",
       "8     69\n",
       "9     75\n",
       "10    75\n",
       "11    72\n",
       "12    81\n",
       "13    71\n",
       "Name: Temperature, dtype: int64"
      ]
     },
     "execution_count": 145,
     "metadata": {},
     "output_type": "execute_result"
    }
   ],
   "source": [
    "golf_df['Temperature']"
   ]
  },
  {
   "cell_type": "markdown",
   "metadata": {},
   "source": [
    "Para extraer valores individuales"
   ]
  },
  {
   "cell_type": "code",
   "execution_count": 146,
   "metadata": {},
   "outputs": [
    {
     "data": {
      "text/plain": [
       "85"
      ]
     },
     "execution_count": 146,
     "metadata": {},
     "output_type": "execute_result"
    }
   ],
   "source": [
    "golf_df['Temperature'][0]"
   ]
  },
  {
   "cell_type": "markdown",
   "metadata": {},
   "source": [
    "Para extraer múltiples columnas"
   ]
  },
  {
   "cell_type": "code",
   "execution_count": 147,
   "metadata": {},
   "outputs": [
    {
     "data": {
      "text/html": [
       "<div>\n",
       "<style scoped>\n",
       "    .dataframe tbody tr th:only-of-type {\n",
       "        vertical-align: middle;\n",
       "    }\n",
       "\n",
       "    .dataframe tbody tr th {\n",
       "        vertical-align: top;\n",
       "    }\n",
       "\n",
       "    .dataframe thead th {\n",
       "        text-align: right;\n",
       "    }\n",
       "</style>\n",
       "<table border=\"1\" class=\"dataframe\">\n",
       "  <thead>\n",
       "    <tr style=\"text-align: right;\">\n",
       "      <th></th>\n",
       "      <th>Temperature</th>\n",
       "      <th>Humidity</th>\n",
       "    </tr>\n",
       "  </thead>\n",
       "  <tbody>\n",
       "    <tr>\n",
       "      <th>0</th>\n",
       "      <td>85</td>\n",
       "      <td>85</td>\n",
       "    </tr>\n",
       "    <tr>\n",
       "      <th>1</th>\n",
       "      <td>80</td>\n",
       "      <td>90</td>\n",
       "    </tr>\n",
       "    <tr>\n",
       "      <th>2</th>\n",
       "      <td>83</td>\n",
       "      <td>78</td>\n",
       "    </tr>\n",
       "    <tr>\n",
       "      <th>3</th>\n",
       "      <td>70</td>\n",
       "      <td>96</td>\n",
       "    </tr>\n",
       "    <tr>\n",
       "      <th>4</th>\n",
       "      <td>68</td>\n",
       "      <td>80</td>\n",
       "    </tr>\n",
       "    <tr>\n",
       "      <th>5</th>\n",
       "      <td>65</td>\n",
       "      <td>70</td>\n",
       "    </tr>\n",
       "    <tr>\n",
       "      <th>6</th>\n",
       "      <td>64</td>\n",
       "      <td>65</td>\n",
       "    </tr>\n",
       "    <tr>\n",
       "      <th>7</th>\n",
       "      <td>72</td>\n",
       "      <td>95</td>\n",
       "    </tr>\n",
       "    <tr>\n",
       "      <th>8</th>\n",
       "      <td>69</td>\n",
       "      <td>70</td>\n",
       "    </tr>\n",
       "    <tr>\n",
       "      <th>9</th>\n",
       "      <td>75</td>\n",
       "      <td>80</td>\n",
       "    </tr>\n",
       "    <tr>\n",
       "      <th>10</th>\n",
       "      <td>75</td>\n",
       "      <td>70</td>\n",
       "    </tr>\n",
       "    <tr>\n",
       "      <th>11</th>\n",
       "      <td>72</td>\n",
       "      <td>90</td>\n",
       "    </tr>\n",
       "    <tr>\n",
       "      <th>12</th>\n",
       "      <td>81</td>\n",
       "      <td>75</td>\n",
       "    </tr>\n",
       "    <tr>\n",
       "      <th>13</th>\n",
       "      <td>71</td>\n",
       "      <td>80</td>\n",
       "    </tr>\n",
       "  </tbody>\n",
       "</table>\n",
       "</div>"
      ],
      "text/plain": [
       "    Temperature  Humidity\n",
       "0            85        85\n",
       "1            80        90\n",
       "2            83        78\n",
       "3            70        96\n",
       "4            68        80\n",
       "5            65        70\n",
       "6            64        65\n",
       "7            72        95\n",
       "8            69        70\n",
       "9            75        80\n",
       "10           75        70\n",
       "11           72        90\n",
       "12           81        75\n",
       "13           71        80"
      ]
     },
     "execution_count": 147,
     "metadata": {},
     "output_type": "execute_result"
    }
   ],
   "source": [
    "golf_df[['Temperature', 'Humidity']]"
   ]
  },
  {
   "cell_type": "markdown",
   "metadata": {},
   "source": [
    "Para extraer un número limitado de filas"
   ]
  },
  {
   "cell_type": "code",
   "execution_count": 148,
   "metadata": {},
   "outputs": [
    {
     "data": {
      "text/html": [
       "<div>\n",
       "<style scoped>\n",
       "    .dataframe tbody tr th:only-of-type {\n",
       "        vertical-align: middle;\n",
       "    }\n",
       "\n",
       "    .dataframe tbody tr th {\n",
       "        vertical-align: top;\n",
       "    }\n",
       "\n",
       "    .dataframe thead th {\n",
       "        text-align: right;\n",
       "    }\n",
       "</style>\n",
       "<table border=\"1\" class=\"dataframe\">\n",
       "  <thead>\n",
       "    <tr style=\"text-align: right;\">\n",
       "      <th></th>\n",
       "      <th>Date</th>\n",
       "      <th>Outlook</th>\n",
       "      <th>Temperature</th>\n",
       "      <th>Humidity</th>\n",
       "      <th>Windy</th>\n",
       "      <th>Result</th>\n",
       "    </tr>\n",
       "  </thead>\n",
       "  <tbody>\n",
       "    <tr>\n",
       "      <th>0</th>\n",
       "      <td>7/1/14</td>\n",
       "      <td>sunny</td>\n",
       "      <td>85</td>\n",
       "      <td>85</td>\n",
       "      <td>False</td>\n",
       "      <td>Don't Play</td>\n",
       "    </tr>\n",
       "    <tr>\n",
       "      <th>1</th>\n",
       "      <td>7/2/14</td>\n",
       "      <td>sunny</td>\n",
       "      <td>80</td>\n",
       "      <td>90</td>\n",
       "      <td>True</td>\n",
       "      <td>Don't Play</td>\n",
       "    </tr>\n",
       "    <tr>\n",
       "      <th>2</th>\n",
       "      <td>7/3/14</td>\n",
       "      <td>overcast</td>\n",
       "      <td>83</td>\n",
       "      <td>78</td>\n",
       "      <td>False</td>\n",
       "      <td>Play</td>\n",
       "    </tr>\n",
       "    <tr>\n",
       "      <th>3</th>\n",
       "      <td>7/4/14</td>\n",
       "      <td>rain</td>\n",
       "      <td>70</td>\n",
       "      <td>96</td>\n",
       "      <td>False</td>\n",
       "      <td>Play</td>\n",
       "    </tr>\n",
       "    <tr>\n",
       "      <th>4</th>\n",
       "      <td>7/5/14</td>\n",
       "      <td>rain</td>\n",
       "      <td>68</td>\n",
       "      <td>80</td>\n",
       "      <td>False</td>\n",
       "      <td>Play</td>\n",
       "    </tr>\n",
       "  </tbody>\n",
       "</table>\n",
       "</div>"
      ],
      "text/plain": [
       "     Date   Outlook  Temperature  Humidity  Windy      Result\n",
       "0  7/1/14     sunny           85        85  False  Don't Play\n",
       "1  7/2/14     sunny           80        90   True  Don't Play\n",
       "2  7/3/14  overcast           83        78  False        Play\n",
       "3  7/4/14      rain           70        96  False        Play\n",
       "4  7/5/14      rain           68        80  False        Play"
      ]
     },
     "execution_count": 148,
     "metadata": {},
     "output_type": "execute_result"
    }
   ],
   "source": [
    "short_df = golf_df[0:5]\n",
    "short_df"
   ]
  },
  {
   "cell_type": "markdown",
   "metadata": {},
   "source": [
    "### 20.- Extraer las columnas Facility Id, Year, Discharges, and Mean Charge de hospital_costs\n",
    "\n",
    "```python\n",
    "        Facility Id  Year  Discharges  Mean Charge\n",
    "0               324  2011           3     361289.0\n",
    "1               324  2011           1     102190.0\n",
    "2               324  2011           6      14172.0\n",
    "3               324  2011           1       8833.0\n",
    "4               324  2011           1       5264.0\n",
    "...             ...   ...         ...          ...\n",
    "383488         1153  2009           5      13572.0\n",
    "383489         1153  2009           4       8323.0\n",
    "383490         1153  2009           5       7746.0\n",
    "383491         1153  2009           1       7892.0\n",
    "383492         1153  2009           3       1069.0\n",
    "```"
   ]
  },
  {
   "cell_type": "code",
   "execution_count": 151,
   "metadata": {},
   "outputs": [
    {
     "data": {
      "text/html": [
       "<div>\n",
       "<style scoped>\n",
       "    .dataframe tbody tr th:only-of-type {\n",
       "        vertical-align: middle;\n",
       "    }\n",
       "\n",
       "    .dataframe tbody tr th {\n",
       "        vertical-align: top;\n",
       "    }\n",
       "\n",
       "    .dataframe thead th {\n",
       "        text-align: right;\n",
       "    }\n",
       "</style>\n",
       "<table border=\"1\" class=\"dataframe\">\n",
       "  <thead>\n",
       "    <tr style=\"text-align: right;\">\n",
       "      <th></th>\n",
       "      <th>Facility Id</th>\n",
       "      <th>Year</th>\n",
       "      <th>Discharges</th>\n",
       "      <th>Mean Charge</th>\n",
       "    </tr>\n",
       "  </thead>\n",
       "  <tbody>\n",
       "    <tr>\n",
       "      <th>0</th>\n",
       "      <td>324</td>\n",
       "      <td>2011</td>\n",
       "      <td>3</td>\n",
       "      <td>361289.0</td>\n",
       "    </tr>\n",
       "    <tr>\n",
       "      <th>1</th>\n",
       "      <td>324</td>\n",
       "      <td>2011</td>\n",
       "      <td>1</td>\n",
       "      <td>102190.0</td>\n",
       "    </tr>\n",
       "    <tr>\n",
       "      <th>2</th>\n",
       "      <td>324</td>\n",
       "      <td>2011</td>\n",
       "      <td>6</td>\n",
       "      <td>14172.0</td>\n",
       "    </tr>\n",
       "    <tr>\n",
       "      <th>3</th>\n",
       "      <td>324</td>\n",
       "      <td>2011</td>\n",
       "      <td>1</td>\n",
       "      <td>8833.0</td>\n",
       "    </tr>\n",
       "    <tr>\n",
       "      <th>4</th>\n",
       "      <td>324</td>\n",
       "      <td>2011</td>\n",
       "      <td>1</td>\n",
       "      <td>5264.0</td>\n",
       "    </tr>\n",
       "    <tr>\n",
       "      <th>...</th>\n",
       "      <td>...</td>\n",
       "      <td>...</td>\n",
       "      <td>...</td>\n",
       "      <td>...</td>\n",
       "    </tr>\n",
       "    <tr>\n",
       "      <th>383488</th>\n",
       "      <td>1153</td>\n",
       "      <td>2009</td>\n",
       "      <td>5</td>\n",
       "      <td>13572.0</td>\n",
       "    </tr>\n",
       "    <tr>\n",
       "      <th>383489</th>\n",
       "      <td>1153</td>\n",
       "      <td>2009</td>\n",
       "      <td>4</td>\n",
       "      <td>8323.0</td>\n",
       "    </tr>\n",
       "    <tr>\n",
       "      <th>383490</th>\n",
       "      <td>1153</td>\n",
       "      <td>2009</td>\n",
       "      <td>5</td>\n",
       "      <td>7746.0</td>\n",
       "    </tr>\n",
       "    <tr>\n",
       "      <th>383491</th>\n",
       "      <td>1153</td>\n",
       "      <td>2009</td>\n",
       "      <td>1</td>\n",
       "      <td>7892.0</td>\n",
       "    </tr>\n",
       "    <tr>\n",
       "      <th>383492</th>\n",
       "      <td>1153</td>\n",
       "      <td>2009</td>\n",
       "      <td>3</td>\n",
       "      <td>1069.0</td>\n",
       "    </tr>\n",
       "  </tbody>\n",
       "</table>\n",
       "<p>383493 rows × 4 columns</p>\n",
       "</div>"
      ],
      "text/plain": [
       "        Facility Id  Year  Discharges  Mean Charge\n",
       "0               324  2011           3     361289.0\n",
       "1               324  2011           1     102190.0\n",
       "2               324  2011           6      14172.0\n",
       "3               324  2011           1       8833.0\n",
       "4               324  2011           1       5264.0\n",
       "...             ...   ...         ...          ...\n",
       "383488         1153  2009           5      13572.0\n",
       "383489         1153  2009           4       8323.0\n",
       "383490         1153  2009           5       7746.0\n",
       "383491         1153  2009           1       7892.0\n",
       "383492         1153  2009           3       1069.0\n",
       "\n",
       "[383493 rows x 4 columns]"
      ]
     },
     "execution_count": 151,
     "metadata": {},
     "output_type": "execute_result"
    }
   ],
   "source": [
    "#Código:\n",
    "hospital_cost[[\"Facility Id\",\"Year\",\"Discharges\",\"Mean Charge\"]]\n"
   ]
  },
  {
   "cell_type": "markdown",
   "metadata": {},
   "source": [
    "## Índie Booleano / Logico"
   ]
  },
  {
   "cell_type": "markdown",
   "metadata": {},
   "source": [
    "También podemos indexar un `DataFrame` utilizando una lista de **booleanos** (es decir, valores `True` y `False`). Esto también operará sobre las filas."
   ]
  },
  {
   "cell_type": "code",
   "execution_count": 155,
   "metadata": {},
   "outputs": [
    {
     "data": {
      "text/html": [
       "<div>\n",
       "<style scoped>\n",
       "    .dataframe tbody tr th:only-of-type {\n",
       "        vertical-align: middle;\n",
       "    }\n",
       "\n",
       "    .dataframe tbody tr th {\n",
       "        vertical-align: top;\n",
       "    }\n",
       "\n",
       "    .dataframe thead th {\n",
       "        text-align: right;\n",
       "    }\n",
       "</style>\n",
       "<table border=\"1\" class=\"dataframe\">\n",
       "  <thead>\n",
       "    <tr style=\"text-align: right;\">\n",
       "      <th></th>\n",
       "      <th>Date</th>\n",
       "      <th>Outlook</th>\n",
       "      <th>Temperature</th>\n",
       "      <th>Humidity</th>\n",
       "      <th>Windy</th>\n",
       "      <th>Result</th>\n",
       "    </tr>\n",
       "  </thead>\n",
       "  <tbody>\n",
       "    <tr>\n",
       "      <th>0</th>\n",
       "      <td>7/1/14</td>\n",
       "      <td>sunny</td>\n",
       "      <td>85</td>\n",
       "      <td>85</td>\n",
       "      <td>False</td>\n",
       "      <td>Don't Play</td>\n",
       "    </tr>\n",
       "    <tr>\n",
       "      <th>2</th>\n",
       "      <td>7/3/14</td>\n",
       "      <td>overcast</td>\n",
       "      <td>83</td>\n",
       "      <td>78</td>\n",
       "      <td>False</td>\n",
       "      <td>Play</td>\n",
       "    </tr>\n",
       "    <tr>\n",
       "      <th>4</th>\n",
       "      <td>7/5/14</td>\n",
       "      <td>rain</td>\n",
       "      <td>68</td>\n",
       "      <td>80</td>\n",
       "      <td>False</td>\n",
       "      <td>Play</td>\n",
       "    </tr>\n",
       "  </tbody>\n",
       "</table>\n",
       "</div>"
      ],
      "text/plain": [
       "     Date   Outlook  Temperature  Humidity  Windy      Result\n",
       "0  7/1/14     sunny           85        85  False  Don't Play\n",
       "2  7/3/14  overcast           83        78  False        Play\n",
       "4  7/5/14      rain           68        80  False        Play"
      ]
     },
     "execution_count": 155,
     "metadata": {},
     "output_type": "execute_result"
    }
   ],
   "source": [
    "# Filas 0, 2, y 4.\n",
    "short_df[[True, False, True, False, True]]"
   ]
  },
  {
   "cell_type": "markdown",
   "metadata": {},
   "source": [
    "Es de utilidad para crear `Series` booleanas a partir de una comparación"
   ]
  },
  {
   "cell_type": "code",
   "execution_count": 156,
   "metadata": {},
   "outputs": [
    {
     "data": {
      "text/plain": [
       "0      True\n",
       "1      True\n",
       "2      True\n",
       "3     False\n",
       "4     False\n",
       "5     False\n",
       "6     False\n",
       "7      True\n",
       "8     False\n",
       "9      True\n",
       "10     True\n",
       "11     True\n",
       "12     True\n",
       "13     True\n",
       "Name: Temperature, dtype: bool"
      ]
     },
     "execution_count": 156,
     "metadata": {},
     "output_type": "execute_result"
    }
   ],
   "source": [
    "# A series of booleans.\n",
    "golf_df['Temperature'] > 70"
   ]
  },
  {
   "cell_type": "markdown",
   "metadata": {},
   "source": [
    "Y después elegir las columnas del DataFrame"
   ]
  },
  {
   "cell_type": "code",
   "execution_count": 157,
   "metadata": {},
   "outputs": [
    {
     "data": {
      "text/html": [
       "<div>\n",
       "<style scoped>\n",
       "    .dataframe tbody tr th:only-of-type {\n",
       "        vertical-align: middle;\n",
       "    }\n",
       "\n",
       "    .dataframe tbody tr th {\n",
       "        vertical-align: top;\n",
       "    }\n",
       "\n",
       "    .dataframe thead th {\n",
       "        text-align: right;\n",
       "    }\n",
       "</style>\n",
       "<table border=\"1\" class=\"dataframe\">\n",
       "  <thead>\n",
       "    <tr style=\"text-align: right;\">\n",
       "      <th></th>\n",
       "      <th>Date</th>\n",
       "      <th>Windy</th>\n",
       "    </tr>\n",
       "  </thead>\n",
       "  <tbody>\n",
       "    <tr>\n",
       "      <th>0</th>\n",
       "      <td>7/1/14</td>\n",
       "      <td>False</td>\n",
       "    </tr>\n",
       "    <tr>\n",
       "      <th>1</th>\n",
       "      <td>7/2/14</td>\n",
       "      <td>True</td>\n",
       "    </tr>\n",
       "    <tr>\n",
       "      <th>2</th>\n",
       "      <td>7/3/14</td>\n",
       "      <td>False</td>\n",
       "    </tr>\n",
       "    <tr>\n",
       "      <th>7</th>\n",
       "      <td>7/8/14</td>\n",
       "      <td>False</td>\n",
       "    </tr>\n",
       "    <tr>\n",
       "      <th>9</th>\n",
       "      <td>7/10/14</td>\n",
       "      <td>False</td>\n",
       "    </tr>\n",
       "    <tr>\n",
       "      <th>10</th>\n",
       "      <td>7/11/14</td>\n",
       "      <td>True</td>\n",
       "    </tr>\n",
       "    <tr>\n",
       "      <th>11</th>\n",
       "      <td>7/12/14</td>\n",
       "      <td>True</td>\n",
       "    </tr>\n",
       "    <tr>\n",
       "      <th>12</th>\n",
       "      <td>7/13/14</td>\n",
       "      <td>False</td>\n",
       "    </tr>\n",
       "    <tr>\n",
       "      <th>13</th>\n",
       "      <td>7/14/14</td>\n",
       "      <td>True</td>\n",
       "    </tr>\n",
       "  </tbody>\n",
       "</table>\n",
       "</div>"
      ],
      "text/plain": [
       "       Date  Windy\n",
       "0    7/1/14  False\n",
       "1    7/2/14   True\n",
       "2    7/3/14  False\n",
       "7    7/8/14  False\n",
       "9   7/10/14  False\n",
       "10  7/11/14   True\n",
       "11  7/12/14   True\n",
       "12  7/13/14  False\n",
       "13  7/14/14   True"
      ]
     },
     "execution_count": 157,
     "metadata": {},
     "output_type": "execute_result"
    }
   ],
   "source": [
    "golf_df[golf_df['Temperature'] > 70][[\"Date\", \"Windy\"]]"
   ]
  },
  {
   "cell_type": "markdown",
   "metadata": {},
   "source": [
    "Esto es esencialmente aplicar una condición lógica para seleccionar filas de un `DataFrame`.  Este es uno de los patrones más comunes en Pandas."
   ]
  },
  {
   "cell_type": "markdown",
   "metadata": {},
   "source": [
    "Para repasar: si indexas un `DataFrame` con un **valor único** o una **lista de valores**, selecciona las **columnas**.\n",
    "\n",
    "Si utilizas un **corte** o una **secuencia de booleanos**, selecciona las **filas**. "
   ]
  },
  {
   "cell_type": "markdown",
   "metadata": {},
   "source": [
    "### 21.- Seleccionar los días en que la humedad es mayor a 90 en 'golf_df'.\n",
    "\n",
    "```python\n",
    "     Date Outlook  Temperature  Humidity  Windy      Result\n",
    "3  7/4/14    rain           70        96  False        Play\n",
    "7  7/8/14   sunny           72        95  False  Don't Play\n",
    "```"
   ]
  },
  {
   "cell_type": "code",
   "execution_count": 161,
   "metadata": {},
   "outputs": [
    {
     "data": {
      "text/html": [
       "<div>\n",
       "<style scoped>\n",
       "    .dataframe tbody tr th:only-of-type {\n",
       "        vertical-align: middle;\n",
       "    }\n",
       "\n",
       "    .dataframe tbody tr th {\n",
       "        vertical-align: top;\n",
       "    }\n",
       "\n",
       "    .dataframe thead th {\n",
       "        text-align: right;\n",
       "    }\n",
       "</style>\n",
       "<table border=\"1\" class=\"dataframe\">\n",
       "  <thead>\n",
       "    <tr style=\"text-align: right;\">\n",
       "      <th></th>\n",
       "      <th>Date</th>\n",
       "      <th>Humidity</th>\n",
       "    </tr>\n",
       "  </thead>\n",
       "  <tbody>\n",
       "    <tr>\n",
       "      <th>3</th>\n",
       "      <td>7/4/14</td>\n",
       "      <td>96</td>\n",
       "    </tr>\n",
       "    <tr>\n",
       "      <th>7</th>\n",
       "      <td>7/8/14</td>\n",
       "      <td>95</td>\n",
       "    </tr>\n",
       "  </tbody>\n",
       "</table>\n",
       "</div>"
      ],
      "text/plain": [
       "     Date  Humidity\n",
       "3  7/4/14        96\n",
       "7  7/8/14        95"
      ]
     },
     "execution_count": 161,
     "metadata": {},
     "output_type": "execute_result"
    }
   ],
   "source": [
    "#Código:\n",
    "golf_df[golf_df[\"Humidity\"] > 90][[\"Date\",\"Humidity\"]]\n"
   ]
  },
  {
   "cell_type": "markdown",
   "metadata": {},
   "source": [
    "## Operadores lógicos"
   ]
  },
  {
   "cell_type": "code",
   "execution_count": 162,
   "metadata": {},
   "outputs": [
    {
     "data": {
      "text/plain": [
       "0     False\n",
       "1     False\n",
       "2     False\n",
       "3      True\n",
       "4     False\n",
       "5     False\n",
       "6     False\n",
       "7      True\n",
       "8     False\n",
       "9     False\n",
       "10    False\n",
       "11    False\n",
       "12    False\n",
       "13    False\n",
       "dtype: bool"
      ]
     },
     "execution_count": 162,
     "metadata": {},
     "output_type": "execute_result"
    }
   ],
   "source": [
    "(golf_df['Humidity']>90) | (golf_df['Outlook']==\"Sunny\") # '|' es 'OR'"
   ]
  },
  {
   "cell_type": "code",
   "execution_count": 163,
   "metadata": {},
   "outputs": [
    {
     "data": {
      "text/plain": [
       "0     False\n",
       "1      True\n",
       "2     False\n",
       "3     False\n",
       "4     False\n",
       "5      True\n",
       "6     False\n",
       "7     False\n",
       "8     False\n",
       "9     False\n",
       "10    False\n",
       "11    False\n",
       "12    False\n",
       "13     True\n",
       "dtype: bool"
      ]
     },
     "execution_count": 163,
     "metadata": {},
     "output_type": "execute_result"
    }
   ],
   "source": [
    "(golf_df['Result']==\"Don't Play\") & golf_df['Windy'] # '&' es 'AND'"
   ]
  },
  {
   "cell_type": "markdown",
   "metadata": {},
   "source": [
    "### 22.- Seleccionar los días lluviosos con una temperatura menor a 70 grados en 'play_golf'"
   ]
  },
  {
   "cell_type": "code",
   "execution_count": 173,
   "metadata": {},
   "outputs": [
    {
     "data": {
      "text/html": [
       "<div>\n",
       "<style scoped>\n",
       "    .dataframe tbody tr th:only-of-type {\n",
       "        vertical-align: middle;\n",
       "    }\n",
       "\n",
       "    .dataframe tbody tr th {\n",
       "        vertical-align: top;\n",
       "    }\n",
       "\n",
       "    .dataframe thead th {\n",
       "        text-align: right;\n",
       "    }\n",
       "</style>\n",
       "<table border=\"1\" class=\"dataframe\">\n",
       "  <thead>\n",
       "    <tr style=\"text-align: right;\">\n",
       "      <th></th>\n",
       "      <th>Date</th>\n",
       "      <th>Outlook</th>\n",
       "      <th>Temperature</th>\n",
       "      <th>Humidity</th>\n",
       "      <th>Windy</th>\n",
       "      <th>Result</th>\n",
       "    </tr>\n",
       "  </thead>\n",
       "  <tbody>\n",
       "    <tr>\n",
       "      <th>4</th>\n",
       "      <td>7/5/14</td>\n",
       "      <td>rain</td>\n",
       "      <td>68</td>\n",
       "      <td>80</td>\n",
       "      <td>False</td>\n",
       "      <td>Play</td>\n",
       "    </tr>\n",
       "    <tr>\n",
       "      <th>5</th>\n",
       "      <td>7/6/14</td>\n",
       "      <td>rain</td>\n",
       "      <td>65</td>\n",
       "      <td>70</td>\n",
       "      <td>True</td>\n",
       "      <td>Don't Play</td>\n",
       "    </tr>\n",
       "  </tbody>\n",
       "</table>\n",
       "</div>"
      ],
      "text/plain": [
       "     Date Outlook  Temperature  Humidity  Windy      Result\n",
       "4  7/5/14    rain           68        80  False        Play\n",
       "5  7/6/14    rain           65        70   True  Don't Play"
      ]
     },
     "execution_count": 173,
     "metadata": {},
     "output_type": "execute_result"
    }
   ],
   "source": [
    "#Código:\n",
    "#(golf_df['Temperature'] > 70) &  (golf_df[\"Outlook\"]==\"rain\")\n",
    "golf_df[(golf_df['Temperature'] < 70) & (golf_df[\"Outlook\"]==\"rain\")]\n"
   ]
  },
  {
   "cell_type": "markdown",
   "metadata": {},
   "source": [
    "### 23.- Seleccionar la fecha y el resultado de los días lluviosos en que la humedad es mayor a 90 en 'play_golf'\n",
    "\n",
    "```python\n",
    "     Date Result\n",
    "3  7/4/14   Play\n",
    "```"
   ]
  },
  {
   "cell_type": "code",
   "execution_count": 175,
   "metadata": {},
   "outputs": [
    {
     "data": {
      "text/html": [
       "<div>\n",
       "<style scoped>\n",
       "    .dataframe tbody tr th:only-of-type {\n",
       "        vertical-align: middle;\n",
       "    }\n",
       "\n",
       "    .dataframe tbody tr th {\n",
       "        vertical-align: top;\n",
       "    }\n",
       "\n",
       "    .dataframe thead th {\n",
       "        text-align: right;\n",
       "    }\n",
       "</style>\n",
       "<table border=\"1\" class=\"dataframe\">\n",
       "  <thead>\n",
       "    <tr style=\"text-align: right;\">\n",
       "      <th></th>\n",
       "      <th>Date</th>\n",
       "      <th>Result</th>\n",
       "    </tr>\n",
       "  </thead>\n",
       "  <tbody>\n",
       "    <tr>\n",
       "      <th>3</th>\n",
       "      <td>7/4/14</td>\n",
       "      <td>Play</td>\n",
       "    </tr>\n",
       "    <tr>\n",
       "      <th>7</th>\n",
       "      <td>7/8/14</td>\n",
       "      <td>Don't Play</td>\n",
       "    </tr>\n",
       "  </tbody>\n",
       "</table>\n",
       "</div>"
      ],
      "text/plain": [
       "     Date      Result\n",
       "3  7/4/14        Play\n",
       "7  7/8/14  Don't Play"
      ]
     },
     "execution_count": 175,
     "metadata": {},
     "output_type": "execute_result"
    }
   ],
   "source": [
    "#Código:\n",
    "golf_df[ golf_df[\"Humidity\"] > 90 ][[\"Date\",\"Result\"]]"
   ]
  },
  {
   "cell_type": "markdown",
   "metadata": {},
   "source": [
    "## Doble índice"
   ]
  },
  {
   "cell_type": "markdown",
   "metadata": {},
   "source": [
    "Supongamos que queremos establecer el valor de la columna `Windy` donde `Temperature > 70` como True."
   ]
  },
  {
   "cell_type": "code",
   "execution_count": 176,
   "metadata": {},
   "outputs": [
    {
     "name": "stderr",
     "output_type": "stream",
     "text": [
      "C:\\Users\\NGALAZ\\AppData\\Local\\Temp\\ipykernel_44020\\2343633056.py:1: SettingWithCopyWarning: \n",
      "A value is trying to be set on a copy of a slice from a DataFrame.\n",
      "Try using .loc[row_indexer,col_indexer] = value instead\n",
      "\n",
      "See the caveats in the documentation: https://pandas.pydata.org/pandas-docs/stable/user_guide/indexing.html#returning-a-view-versus-a-copy\n",
      "  golf_df[golf_df['Temperature'] > 70][\"Windy\"] = True\n"
     ]
    }
   ],
   "source": [
    "golf_df[golf_df['Temperature'] > 70][\"Windy\"] = True"
   ]
  },
  {
   "cell_type": "markdown",
   "metadata": {},
   "source": [
    "Vaya, un error"
   ]
  },
  {
   "cell_type": "code",
   "execution_count": 177,
   "metadata": {},
   "outputs": [
    {
     "data": {
      "text/plain": [
       "0     False\n",
       "1      True\n",
       "2     False\n",
       "7     False\n",
       "9     False\n",
       "10     True\n",
       "11     True\n",
       "12    False\n",
       "13     True\n",
       "Name: Windy, dtype: bool"
      ]
     },
     "execution_count": 177,
     "metadata": {},
     "output_type": "execute_result"
    }
   ],
   "source": [
    "golf_df[golf_df['Temperature'] > 70][\"Windy\"]"
   ]
  },
  {
   "cell_type": "markdown",
   "metadata": {},
   "source": [
    "Al parecer, aún es Falso"
   ]
  },
  {
   "cell_type": "markdown",
   "metadata": {},
   "source": [
    "Este patrón se llama doble indexación, ¡y es un antipatrón!  ¡Pandas no puede garantizar que las asignaciones se mantengan cuando se indexa dos veces!\n",
    "\n",
    "Para solucionar estos problemas, tenemos que estudiar las otras opciones de indexación que proporciona Pandas."
   ]
  },
  {
   "cell_type": "markdown",
   "metadata": {},
   "source": [
    "#### .loc e .iloc"
   ]
  },
  {
   "cell_type": "markdown",
   "metadata": {},
   "source": [
    "Hay algunos otros objetos de indexación en pandas, los cuales toman un valor para elegir las filas y un valor para elegir las columnas.\n",
    "\n",
    "  - `df.iloc` está **basado en la posición**.  Este indexador acepta enteros y trozos de enteros, y esencialmente trata el marco de datos como si fuera una simple matriz.\n",
    "  - `df.loc` está **basado en etiquetas**.  Este indexador trabaja con índices/etiquetas de filas y columnas."
   ]
  },
  {
   "cell_type": "code",
   "execution_count": 178,
   "metadata": {},
   "outputs": [
    {
     "data": {
      "text/html": [
       "<div>\n",
       "<style scoped>\n",
       "    .dataframe tbody tr th:only-of-type {\n",
       "        vertical-align: middle;\n",
       "    }\n",
       "\n",
       "    .dataframe tbody tr th {\n",
       "        vertical-align: top;\n",
       "    }\n",
       "\n",
       "    .dataframe thead th {\n",
       "        text-align: right;\n",
       "    }\n",
       "</style>\n",
       "<table border=\"1\" class=\"dataframe\">\n",
       "  <thead>\n",
       "    <tr style=\"text-align: right;\">\n",
       "      <th></th>\n",
       "      <th>some_integers</th>\n",
       "      <th>some_strings</th>\n",
       "      <th>some_booleans</th>\n",
       "    </tr>\n",
       "  </thead>\n",
       "  <tbody>\n",
       "    <tr>\n",
       "      <th>a</th>\n",
       "      <td>0</td>\n",
       "      <td>x</td>\n",
       "      <td>0</td>\n",
       "    </tr>\n",
       "    <tr>\n",
       "      <th>b</th>\n",
       "      <td>0</td>\n",
       "      <td>y</td>\n",
       "      <td>0</td>\n",
       "    </tr>\n",
       "    <tr>\n",
       "      <th>c</th>\n",
       "      <td>1</td>\n",
       "      <td>z</td>\n",
       "      <td>1</td>\n",
       "    </tr>\n",
       "    <tr>\n",
       "      <th>d</th>\n",
       "      <td>1</td>\n",
       "      <td>x</td>\n",
       "      <td>0</td>\n",
       "    </tr>\n",
       "    <tr>\n",
       "      <th>e</th>\n",
       "      <td>2</td>\n",
       "      <td>y</td>\n",
       "      <td>1</td>\n",
       "    </tr>\n",
       "    <tr>\n",
       "      <th>f</th>\n",
       "      <td>2</td>\n",
       "      <td>z</td>\n",
       "      <td>1</td>\n",
       "    </tr>\n",
       "  </tbody>\n",
       "</table>\n",
       "</div>"
      ],
      "text/plain": [
       "   some_integers some_strings  some_booleans\n",
       "a              0            x              0\n",
       "b              0            y              0\n",
       "c              1            z              1\n",
       "d              1            x              0\n",
       "e              2            y              1\n",
       "f              2            z              1"
      ]
     },
     "execution_count": 178,
     "metadata": {},
     "output_type": "execute_result"
    }
   ],
   "source": [
    "df = pd.DataFrame({\n",
    "    'some_integers': [0, 0, 1, 1, 2, 2],\n",
    "    'some_strings': ['x', 'y', 'z', 'x', 'y', 'z'],\n",
    "    'some_booleans': [0, 0, 1, 0, 1, 1]},\n",
    "    index=['a', 'b', 'c', 'd', 'e', 'f']\n",
    ")\n",
    "df"
   ]
  },
  {
   "cell_type": "code",
   "execution_count": 179,
   "metadata": {},
   "outputs": [
    {
     "data": {
      "text/html": [
       "<div>\n",
       "<style scoped>\n",
       "    .dataframe tbody tr th:only-of-type {\n",
       "        vertical-align: middle;\n",
       "    }\n",
       "\n",
       "    .dataframe tbody tr th {\n",
       "        vertical-align: top;\n",
       "    }\n",
       "\n",
       "    .dataframe thead th {\n",
       "        text-align: right;\n",
       "    }\n",
       "</style>\n",
       "<table border=\"1\" class=\"dataframe\">\n",
       "  <thead>\n",
       "    <tr style=\"text-align: right;\">\n",
       "      <th></th>\n",
       "      <th>some_integers</th>\n",
       "      <th>some_strings</th>\n",
       "    </tr>\n",
       "  </thead>\n",
       "  <tbody>\n",
       "    <tr>\n",
       "      <th>c</th>\n",
       "      <td>1</td>\n",
       "      <td>z</td>\n",
       "    </tr>\n",
       "    <tr>\n",
       "      <th>d</th>\n",
       "      <td>1</td>\n",
       "      <td>x</td>\n",
       "    </tr>\n",
       "  </tbody>\n",
       "</table>\n",
       "</div>"
      ],
      "text/plain": [
       "   some_integers some_strings\n",
       "c              1            z\n",
       "d              1            x"
      ]
     },
     "execution_count": 179,
     "metadata": {},
     "output_type": "execute_result"
    }
   ],
   "source": [
    "df.iloc[2:4, 0:2]"
   ]
  },
  {
   "cell_type": "code",
   "execution_count": 180,
   "metadata": {},
   "outputs": [
    {
     "data": {
      "text/html": [
       "<div>\n",
       "<style scoped>\n",
       "    .dataframe tbody tr th:only-of-type {\n",
       "        vertical-align: middle;\n",
       "    }\n",
       "\n",
       "    .dataframe tbody tr th {\n",
       "        vertical-align: top;\n",
       "    }\n",
       "\n",
       "    .dataframe thead th {\n",
       "        text-align: right;\n",
       "    }\n",
       "</style>\n",
       "<table border=\"1\" class=\"dataframe\">\n",
       "  <thead>\n",
       "    <tr style=\"text-align: right;\">\n",
       "      <th></th>\n",
       "      <th>some_integers</th>\n",
       "      <th>some_booleans</th>\n",
       "    </tr>\n",
       "  </thead>\n",
       "  <tbody>\n",
       "    <tr>\n",
       "      <th>b</th>\n",
       "      <td>0</td>\n",
       "      <td>0</td>\n",
       "    </tr>\n",
       "    <tr>\n",
       "      <th>c</th>\n",
       "      <td>1</td>\n",
       "      <td>1</td>\n",
       "    </tr>\n",
       "    <tr>\n",
       "      <th>d</th>\n",
       "      <td>1</td>\n",
       "      <td>0</td>\n",
       "    </tr>\n",
       "    <tr>\n",
       "      <th>e</th>\n",
       "      <td>2</td>\n",
       "      <td>1</td>\n",
       "    </tr>\n",
       "  </tbody>\n",
       "</table>\n",
       "</div>"
      ],
      "text/plain": [
       "   some_integers  some_booleans\n",
       "b              0              0\n",
       "c              1              1\n",
       "d              1              0\n",
       "e              2              1"
      ]
     },
     "execution_count": 180,
     "metadata": {},
     "output_type": "execute_result"
    }
   ],
   "source": [
    "df.loc['b':'e', ['some_integers', 'some_booleans']]"
   ]
  },
  {
   "cell_type": "markdown",
   "metadata": {},
   "source": [
    "### 24.- Seleccionar las filas a,b,c, y f \n",
    "\n",
    "```python\n",
    "   some_integers some_strings  some_booleans\n",
    "a              0            x              0\n",
    "b              0            y              0\n",
    "c              1            z              1\n",
    "f              2            z              1\n",
    "```"
   ]
  },
  {
   "cell_type": "code",
   "execution_count": 183,
   "metadata": {},
   "outputs": [
    {
     "data": {
      "text/html": [
       "<div>\n",
       "<style scoped>\n",
       "    .dataframe tbody tr th:only-of-type {\n",
       "        vertical-align: middle;\n",
       "    }\n",
       "\n",
       "    .dataframe tbody tr th {\n",
       "        vertical-align: top;\n",
       "    }\n",
       "\n",
       "    .dataframe thead th {\n",
       "        text-align: right;\n",
       "    }\n",
       "</style>\n",
       "<table border=\"1\" class=\"dataframe\">\n",
       "  <thead>\n",
       "    <tr style=\"text-align: right;\">\n",
       "      <th></th>\n",
       "      <th>some_integers</th>\n",
       "      <th>some_strings</th>\n",
       "      <th>some_booleans</th>\n",
       "    </tr>\n",
       "  </thead>\n",
       "  <tbody>\n",
       "    <tr>\n",
       "      <th>a</th>\n",
       "      <td>0</td>\n",
       "      <td>x</td>\n",
       "      <td>0</td>\n",
       "    </tr>\n",
       "    <tr>\n",
       "      <th>b</th>\n",
       "      <td>0</td>\n",
       "      <td>y</td>\n",
       "      <td>0</td>\n",
       "    </tr>\n",
       "    <tr>\n",
       "      <th>c</th>\n",
       "      <td>1</td>\n",
       "      <td>z</td>\n",
       "      <td>1</td>\n",
       "    </tr>\n",
       "    <tr>\n",
       "      <th>f</th>\n",
       "      <td>2</td>\n",
       "      <td>z</td>\n",
       "      <td>1</td>\n",
       "    </tr>\n",
       "  </tbody>\n",
       "</table>\n",
       "</div>"
      ],
      "text/plain": [
       "   some_integers some_strings  some_booleans\n",
       "a              0            x              0\n",
       "b              0            y              0\n",
       "c              1            z              1\n",
       "f              2            z              1"
      ]
     },
     "execution_count": 183,
     "metadata": {},
     "output_type": "execute_result"
    }
   ],
   "source": [
    "#Código:\n",
    "df.loc[['a','b','c','f']]\n"
   ]
  },
  {
   "cell_type": "markdown",
   "metadata": {},
   "source": [
    "### 25.- Seleccionar la fila 0, 1a y 5a\n",
    "\n",
    "```python\n",
    "   some_integers some_strings  some_booleans\n",
    "a              0            x              0\n",
    "b              0            y              0\n",
    "f              2            z              1\n",
    "```"
   ]
  },
  {
   "cell_type": "code",
   "execution_count": 184,
   "metadata": {},
   "outputs": [
    {
     "data": {
      "text/html": [
       "<div>\n",
       "<style scoped>\n",
       "    .dataframe tbody tr th:only-of-type {\n",
       "        vertical-align: middle;\n",
       "    }\n",
       "\n",
       "    .dataframe tbody tr th {\n",
       "        vertical-align: top;\n",
       "    }\n",
       "\n",
       "    .dataframe thead th {\n",
       "        text-align: right;\n",
       "    }\n",
       "</style>\n",
       "<table border=\"1\" class=\"dataframe\">\n",
       "  <thead>\n",
       "    <tr style=\"text-align: right;\">\n",
       "      <th></th>\n",
       "      <th>some_integers</th>\n",
       "      <th>some_strings</th>\n",
       "      <th>some_booleans</th>\n",
       "    </tr>\n",
       "  </thead>\n",
       "  <tbody>\n",
       "    <tr>\n",
       "      <th>a</th>\n",
       "      <td>0</td>\n",
       "      <td>x</td>\n",
       "      <td>0</td>\n",
       "    </tr>\n",
       "    <tr>\n",
       "      <th>b</th>\n",
       "      <td>0</td>\n",
       "      <td>y</td>\n",
       "      <td>0</td>\n",
       "    </tr>\n",
       "    <tr>\n",
       "      <th>f</th>\n",
       "      <td>2</td>\n",
       "      <td>z</td>\n",
       "      <td>1</td>\n",
       "    </tr>\n",
       "  </tbody>\n",
       "</table>\n",
       "</div>"
      ],
      "text/plain": [
       "   some_integers some_strings  some_booleans\n",
       "a              0            x              0\n",
       "b              0            y              0\n",
       "f              2            z              1"
      ]
     },
     "execution_count": 184,
     "metadata": {},
     "output_type": "execute_result"
    }
   ],
   "source": [
    "#Código:\n",
    "df.iloc[[0,1,5]]\n"
   ]
  },
  {
   "cell_type": "markdown",
   "metadata": {},
   "source": [
    "### 26.- Seleccionar los estudiantes 0 y 4o\n",
    "\n",
    "```python\n",
    "       grade  height was_late     top_crush   ...\n",
    "Tomas     45      34      NaN         Angel\n",
    "Haden     90      38      NaN  Edgar A. Poe\n",
    "```"
   ]
  },
  {
   "cell_type": "code",
   "execution_count": 185,
   "metadata": {},
   "outputs": [
    {
     "data": {
      "text/html": [
       "<div>\n",
       "<style scoped>\n",
       "    .dataframe tbody tr th:only-of-type {\n",
       "        vertical-align: middle;\n",
       "    }\n",
       "\n",
       "    .dataframe tbody tr th {\n",
       "        vertical-align: top;\n",
       "    }\n",
       "\n",
       "    .dataframe thead th {\n",
       "        text-align: right;\n",
       "    }\n",
       "</style>\n",
       "<table border=\"1\" class=\"dataframe\">\n",
       "  <thead>\n",
       "    <tr style=\"text-align: right;\">\n",
       "      <th></th>\n",
       "      <th>grade</th>\n",
       "      <th>height</th>\n",
       "      <th>was_late</th>\n",
       "      <th>top_crush</th>\n",
       "      <th>above_75_percent</th>\n",
       "      <th>taller_than_35</th>\n",
       "      <th>pickup_time</th>\n",
       "    </tr>\n",
       "  </thead>\n",
       "  <tbody>\n",
       "    <tr>\n",
       "      <th>Tomas</th>\n",
       "      <td>45</td>\n",
       "      <td>34</td>\n",
       "      <td>True</td>\n",
       "      <td>Angel</td>\n",
       "      <td>False</td>\n",
       "      <td>False</td>\n",
       "      <td>4.0</td>\n",
       "    </tr>\n",
       "    <tr>\n",
       "      <th>Haden</th>\n",
       "      <td>90</td>\n",
       "      <td>38</td>\n",
       "      <td>False</td>\n",
       "      <td>Edgar A. Poe</td>\n",
       "      <td>True</td>\n",
       "      <td>True</td>\n",
       "      <td>NaN</td>\n",
       "    </tr>\n",
       "  </tbody>\n",
       "</table>\n",
       "</div>"
      ],
      "text/plain": [
       "       grade  height  was_late     top_crush  above_75_percent  \\\n",
       "Tomas     45      34      True         Angel             False   \n",
       "Haden     90      38     False  Edgar A. Poe              True   \n",
       "\n",
       "       taller_than_35  pickup_time  \n",
       "Tomas           False          4.0  \n",
       "Haden            True          NaN  "
      ]
     },
     "execution_count": 185,
     "metadata": {},
     "output_type": "execute_result"
    }
   ],
   "source": [
    "#Código:\n",
    "students.iloc[[0,4]]\n"
   ]
  },
  {
   "cell_type": "markdown",
   "metadata": {},
   "source": [
    "### 27.- Seleccionar a Haden, Angel y Micaela en ese orden\n",
    "\n",
    "```python\n",
    "          grade  height was_late     top_crush\n",
    "Haden        90      38      NaN  Edgar A. Poe\n",
    "Angel        56      35      NaN         Haden\n",
    "Michaela     89      37      NaN         Tomas\n",
    "```"
   ]
  },
  {
   "cell_type": "code",
   "execution_count": 187,
   "metadata": {},
   "outputs": [
    {
     "data": {
      "text/html": [
       "<div>\n",
       "<style scoped>\n",
       "    .dataframe tbody tr th:only-of-type {\n",
       "        vertical-align: middle;\n",
       "    }\n",
       "\n",
       "    .dataframe tbody tr th {\n",
       "        vertical-align: top;\n",
       "    }\n",
       "\n",
       "    .dataframe thead th {\n",
       "        text-align: right;\n",
       "    }\n",
       "</style>\n",
       "<table border=\"1\" class=\"dataframe\">\n",
       "  <thead>\n",
       "    <tr style=\"text-align: right;\">\n",
       "      <th></th>\n",
       "      <th>grade</th>\n",
       "      <th>height</th>\n",
       "      <th>was_late</th>\n",
       "      <th>top_crush</th>\n",
       "      <th>above_75_percent</th>\n",
       "      <th>taller_than_35</th>\n",
       "      <th>pickup_time</th>\n",
       "    </tr>\n",
       "  </thead>\n",
       "  <tbody>\n",
       "    <tr>\n",
       "      <th>Haden</th>\n",
       "      <td>90</td>\n",
       "      <td>38</td>\n",
       "      <td>False</td>\n",
       "      <td>Edgar A. Poe</td>\n",
       "      <td>True</td>\n",
       "      <td>True</td>\n",
       "      <td>NaN</td>\n",
       "    </tr>\n",
       "    <tr>\n",
       "      <th>Angel</th>\n",
       "      <td>56</td>\n",
       "      <td>35</td>\n",
       "      <td>False</td>\n",
       "      <td>Haden</td>\n",
       "      <td>False</td>\n",
       "      <td>False</td>\n",
       "      <td>5.0</td>\n",
       "    </tr>\n",
       "    <tr>\n",
       "      <th>Michaela</th>\n",
       "      <td>89</td>\n",
       "      <td>37</td>\n",
       "      <td>False</td>\n",
       "      <td>Tomas</td>\n",
       "      <td>True</td>\n",
       "      <td>True</td>\n",
       "      <td>NaN</td>\n",
       "    </tr>\n",
       "  </tbody>\n",
       "</table>\n",
       "</div>"
      ],
      "text/plain": [
       "          grade  height  was_late     top_crush  above_75_percent  \\\n",
       "Haden        90      38     False  Edgar A. Poe              True   \n",
       "Angel        56      35     False         Haden             False   \n",
       "Michaela     89      37     False         Tomas              True   \n",
       "\n",
       "          taller_than_35  pickup_time  \n",
       "Haden               True          NaN  \n",
       "Angel              False          5.0  \n",
       "Michaela            True          NaN  "
      ]
     },
     "execution_count": 187,
     "metadata": {},
     "output_type": "execute_result"
    }
   ],
   "source": [
    "#Código:\n",
    "students.loc[[\"Haden\",\"Angel\",\"Michaela\"]]\n"
   ]
  },
  {
   "cell_type": "markdown",
   "metadata": {},
   "source": [
    "## Índice mixto"
   ]
  },
  {
   "cell_type": "markdown",
   "metadata": {},
   "source": [
    "Entonces, ¿qué hacemos si queremos obtener las filas por posición, y obtener las columnas por etiqueta?  Es decir, si tenemos un uso para la **indexación mixta**."
   ]
  },
  {
   "cell_type": "markdown",
   "metadata": {},
   "source": [
    "```python\n",
    "# Mixto con iloc: no funciona.\n",
    ">>> df.iloc[2:4, ['some_integers', 'some_booleans']]\n",
    "\n",
    "---------------------------------------------------------------------------\n",
    "IndexError                                Traceback (most recent call last)\n",
    "<ipython-input-337-dcc694afee25> in <module>\n",
    "      1 # Mixto con iloc: no funciona.\n",
    "----> 2 df.iloc[2:4, ['some_integers', 'some_booleans']]\n",
    "```"
   ]
  },
  {
   "cell_type": "markdown",
   "metadata": {},
   "source": [
    "Hacer una indexación mixta en los pandas modernos es más explícito, menos mágico.  Es necesario utilizar los atributos `df.index` y `df.columns` para convertir explícitamente las posiciones en etiquetas."
   ]
  },
  {
   "cell_type": "markdown",
   "metadata": {},
   "source": [
    "#### Filas por posición, Columnas por nombre"
   ]
  },
  {
   "cell_type": "code",
   "execution_count": 188,
   "metadata": {},
   "outputs": [
    {
     "data": {
      "text/plain": [
       "Index(['c', 'd'], dtype='object')"
      ]
     },
     "execution_count": 188,
     "metadata": {},
     "output_type": "execute_result"
    }
   ],
   "source": [
    "df.index[2:4]"
   ]
  },
  {
   "cell_type": "code",
   "execution_count": 220,
   "metadata": {},
   "outputs": [
    {
     "data": {
      "text/html": [
       "<div>\n",
       "<style scoped>\n",
       "    .dataframe tbody tr th:only-of-type {\n",
       "        vertical-align: middle;\n",
       "    }\n",
       "\n",
       "    .dataframe tbody tr th {\n",
       "        vertical-align: top;\n",
       "    }\n",
       "\n",
       "    .dataframe thead th {\n",
       "        text-align: right;\n",
       "    }\n",
       "</style>\n",
       "<table border=\"1\" class=\"dataframe\">\n",
       "  <thead>\n",
       "    <tr style=\"text-align: right;\">\n",
       "      <th></th>\n",
       "      <th>some_integers</th>\n",
       "      <th>some_booleans</th>\n",
       "    </tr>\n",
       "  </thead>\n",
       "  <tbody>\n",
       "    <tr>\n",
       "      <th>c</th>\n",
       "      <td>1</td>\n",
       "      <td>1</td>\n",
       "    </tr>\n",
       "    <tr>\n",
       "      <th>d</th>\n",
       "      <td>1</td>\n",
       "      <td>0</td>\n",
       "    </tr>\n",
       "  </tbody>\n",
       "</table>\n",
       "</div>"
      ],
      "text/plain": [
       "   some_integers  some_booleans\n",
       "c              1              1\n",
       "d              1              0"
      ]
     },
     "execution_count": 220,
     "metadata": {},
     "output_type": "execute_result"
    }
   ],
   "source": [
    "df.loc[df.index[2:4], ['some_integers', 'some_booleans']]"
   ]
  },
  {
   "cell_type": "markdown",
   "metadata": {},
   "source": [
    "#### Filas por nombre, Columnas por posición"
   ]
  },
  {
   "cell_type": "code",
   "execution_count": 189,
   "metadata": {},
   "outputs": [
    {
     "data": {
      "text/plain": [
       "Index(['some_integers', 'some_booleans'], dtype='object')"
      ]
     },
     "execution_count": 189,
     "metadata": {},
     "output_type": "execute_result"
    }
   ],
   "source": [
    "df.columns[[0, 2]]"
   ]
  },
  {
   "cell_type": "code",
   "execution_count": 190,
   "metadata": {
    "scrolled": true
   },
   "outputs": [
    {
     "data": {
      "text/html": [
       "<div>\n",
       "<style scoped>\n",
       "    .dataframe tbody tr th:only-of-type {\n",
       "        vertical-align: middle;\n",
       "    }\n",
       "\n",
       "    .dataframe tbody tr th {\n",
       "        vertical-align: top;\n",
       "    }\n",
       "\n",
       "    .dataframe thead th {\n",
       "        text-align: right;\n",
       "    }\n",
       "</style>\n",
       "<table border=\"1\" class=\"dataframe\">\n",
       "  <thead>\n",
       "    <tr style=\"text-align: right;\">\n",
       "      <th></th>\n",
       "      <th>some_integers</th>\n",
       "      <th>some_booleans</th>\n",
       "    </tr>\n",
       "  </thead>\n",
       "  <tbody>\n",
       "    <tr>\n",
       "      <th>c</th>\n",
       "      <td>1</td>\n",
       "      <td>1</td>\n",
       "    </tr>\n",
       "    <tr>\n",
       "      <th>d</th>\n",
       "      <td>1</td>\n",
       "      <td>0</td>\n",
       "    </tr>\n",
       "  </tbody>\n",
       "</table>\n",
       "</div>"
      ],
      "text/plain": [
       "   some_integers  some_booleans\n",
       "c              1              1\n",
       "d              1              0"
      ]
     },
     "execution_count": 190,
     "metadata": {},
     "output_type": "execute_result"
    }
   ],
   "source": [
    "df.loc[['c', 'd'], df.columns[[0, 2]]]"
   ]
  },
  {
   "cell_type": "markdown",
   "metadata": {},
   "source": [
    "### 28.- Utilizar el índice mixto para obtener la fila 0, 2a y 4a row de top_crush y pickup_time\n",
    "\n",
    "```python\n",
    "          top_crush  pickup_time\n",
    "Tomas         Angel          4.0\n",
    "Stacy      Michaela          2.0\n",
    "Haden  Edgar A. Poe          NaN\n",
    "```"
   ]
  },
  {
   "cell_type": "code",
   "execution_count": 227,
   "metadata": {},
   "outputs": [
    {
     "data": {
      "text/html": [
       "<div>\n",
       "<style scoped>\n",
       "    .dataframe tbody tr th:only-of-type {\n",
       "        vertical-align: middle;\n",
       "    }\n",
       "\n",
       "    .dataframe tbody tr th {\n",
       "        vertical-align: top;\n",
       "    }\n",
       "\n",
       "    .dataframe thead th {\n",
       "        text-align: right;\n",
       "    }\n",
       "</style>\n",
       "<table border=\"1\" class=\"dataframe\">\n",
       "  <thead>\n",
       "    <tr style=\"text-align: right;\">\n",
       "      <th></th>\n",
       "      <th>top_crush</th>\n",
       "      <th>pickup_time</th>\n",
       "    </tr>\n",
       "  </thead>\n",
       "  <tbody>\n",
       "    <tr>\n",
       "      <th>Tomas</th>\n",
       "      <td>Angel</td>\n",
       "      <td>4.0</td>\n",
       "    </tr>\n",
       "    <tr>\n",
       "      <th>Stacy</th>\n",
       "      <td>Michaela</td>\n",
       "      <td>3.0</td>\n",
       "    </tr>\n",
       "    <tr>\n",
       "      <th>Haden</th>\n",
       "      <td>Edgar A. Poe</td>\n",
       "      <td>NaN</td>\n",
       "    </tr>\n",
       "  </tbody>\n",
       "</table>\n",
       "</div>"
      ],
      "text/plain": [
       "          top_crush  pickup_time\n",
       "Tomas         Angel          4.0\n",
       "Stacy      Michaela          3.0\n",
       "Haden  Edgar A. Poe          NaN"
      ]
     },
     "execution_count": 227,
     "metadata": {},
     "output_type": "execute_result"
    }
   ],
   "source": [
    "#Código:\n",
    "\n",
    "students.loc[students.index[[0,2,4]],[\"top_crush\",\"pickup_time\"]]\n"
   ]
  },
  {
   "cell_type": "markdown",
   "metadata": {},
   "source": [
    "### 29.- Utilizar el índice mixto para obtener el siguiente dataframe, utilizando posición en columns y nombre en filas\n",
    "\n",
    "```python\n",
    "       grade  was_late  above_75_percent  grade\n",
    "Stacy     78      True              True     78\n",
    "Haden     90     False              True     90\n",
    "```"
   ]
  },
  {
   "cell_type": "code",
   "execution_count": 234,
   "metadata": {},
   "outputs": [
    {
     "data": {
      "text/html": [
       "<div>\n",
       "<style scoped>\n",
       "    .dataframe tbody tr th:only-of-type {\n",
       "        vertical-align: middle;\n",
       "    }\n",
       "\n",
       "    .dataframe tbody tr th {\n",
       "        vertical-align: top;\n",
       "    }\n",
       "\n",
       "    .dataframe thead th {\n",
       "        text-align: right;\n",
       "    }\n",
       "</style>\n",
       "<table border=\"1\" class=\"dataframe\">\n",
       "  <thead>\n",
       "    <tr style=\"text-align: right;\">\n",
       "      <th></th>\n",
       "      <th>grade</th>\n",
       "      <th>was_late</th>\n",
       "      <th>above_75_percent</th>\n",
       "      <th>grade</th>\n",
       "    </tr>\n",
       "  </thead>\n",
       "  <tbody>\n",
       "    <tr>\n",
       "      <th>Stacy</th>\n",
       "      <td>78</td>\n",
       "      <td>True</td>\n",
       "      <td>True</td>\n",
       "      <td>78</td>\n",
       "    </tr>\n",
       "    <tr>\n",
       "      <th>Haden</th>\n",
       "      <td>90</td>\n",
       "      <td>False</td>\n",
       "      <td>True</td>\n",
       "      <td>90</td>\n",
       "    </tr>\n",
       "  </tbody>\n",
       "</table>\n",
       "</div>"
      ],
      "text/plain": [
       "       grade  was_late  above_75_percent  grade\n",
       "Stacy     78      True              True     78\n",
       "Haden     90     False              True     90"
      ]
     },
     "execution_count": 234,
     "metadata": {},
     "output_type": "execute_result"
    }
   ],
   "source": [
    "#Código:\n",
    "students.loc[[\"Stacy\",\"Haden\"],students.columns[[0,2,4,0]]]\n"
   ]
  },
  {
   "cell_type": "markdown",
   "metadata": {},
   "source": [
    "## Transformaciones"
   ]
  },
  {
   "cell_type": "markdown",
   "metadata": {},
   "source": [
    "Las operaciones aritméticas se aplican a las `Series` elemento a elemento. (como las matrices)"
   ]
  },
  {
   "cell_type": "code",
   "execution_count": 236,
   "metadata": {},
   "outputs": [],
   "source": [
    "# Ejemplo\n",
    "golf_df[\"TempHumid\"] = golf_df['Temperature'] + golf_df['Humidity']"
   ]
  },
  {
   "cell_type": "code",
   "execution_count": 237,
   "metadata": {},
   "outputs": [
    {
     "data": {
      "text/html": [
       "<div>\n",
       "<style scoped>\n",
       "    .dataframe tbody tr th:only-of-type {\n",
       "        vertical-align: middle;\n",
       "    }\n",
       "\n",
       "    .dataframe tbody tr th {\n",
       "        vertical-align: top;\n",
       "    }\n",
       "\n",
       "    .dataframe thead th {\n",
       "        text-align: right;\n",
       "    }\n",
       "</style>\n",
       "<table border=\"1\" class=\"dataframe\">\n",
       "  <thead>\n",
       "    <tr style=\"text-align: right;\">\n",
       "      <th></th>\n",
       "      <th>Date</th>\n",
       "      <th>Outlook</th>\n",
       "      <th>Temperature</th>\n",
       "      <th>Humidity</th>\n",
       "      <th>Windy</th>\n",
       "      <th>Result</th>\n",
       "      <th>TempHumid</th>\n",
       "    </tr>\n",
       "  </thead>\n",
       "  <tbody>\n",
       "    <tr>\n",
       "      <th>0</th>\n",
       "      <td>7/1/14</td>\n",
       "      <td>sunny</td>\n",
       "      <td>85</td>\n",
       "      <td>85</td>\n",
       "      <td>False</td>\n",
       "      <td>Don't Play</td>\n",
       "      <td>170</td>\n",
       "    </tr>\n",
       "    <tr>\n",
       "      <th>1</th>\n",
       "      <td>7/2/14</td>\n",
       "      <td>sunny</td>\n",
       "      <td>80</td>\n",
       "      <td>90</td>\n",
       "      <td>True</td>\n",
       "      <td>Don't Play</td>\n",
       "      <td>170</td>\n",
       "    </tr>\n",
       "    <tr>\n",
       "      <th>2</th>\n",
       "      <td>7/3/14</td>\n",
       "      <td>overcast</td>\n",
       "      <td>83</td>\n",
       "      <td>78</td>\n",
       "      <td>False</td>\n",
       "      <td>Play</td>\n",
       "      <td>161</td>\n",
       "    </tr>\n",
       "    <tr>\n",
       "      <th>3</th>\n",
       "      <td>7/4/14</td>\n",
       "      <td>rain</td>\n",
       "      <td>70</td>\n",
       "      <td>96</td>\n",
       "      <td>False</td>\n",
       "      <td>Play</td>\n",
       "      <td>166</td>\n",
       "    </tr>\n",
       "    <tr>\n",
       "      <th>4</th>\n",
       "      <td>7/5/14</td>\n",
       "      <td>rain</td>\n",
       "      <td>68</td>\n",
       "      <td>80</td>\n",
       "      <td>False</td>\n",
       "      <td>Play</td>\n",
       "      <td>148</td>\n",
       "    </tr>\n",
       "  </tbody>\n",
       "</table>\n",
       "</div>"
      ],
      "text/plain": [
       "     Date   Outlook  Temperature  Humidity  Windy      Result  TempHumid\n",
       "0  7/1/14     sunny           85        85  False  Don't Play        170\n",
       "1  7/2/14     sunny           80        90   True  Don't Play        170\n",
       "2  7/3/14  overcast           83        78  False        Play        161\n",
       "3  7/4/14      rain           70        96  False        Play        166\n",
       "4  7/5/14      rain           68        80  False        Play        148"
      ]
     },
     "execution_count": 237,
     "metadata": {},
     "output_type": "execute_result"
    }
   ],
   "source": [
    "golf_df.head()"
   ]
  },
  {
   "cell_type": "code",
   "execution_count": 238,
   "metadata": {},
   "outputs": [
    {
     "data": {
      "text/html": [
       "<div>\n",
       "<style scoped>\n",
       "    .dataframe tbody tr th:only-of-type {\n",
       "        vertical-align: middle;\n",
       "    }\n",
       "\n",
       "    .dataframe tbody tr th {\n",
       "        vertical-align: top;\n",
       "    }\n",
       "\n",
       "    .dataframe thead th {\n",
       "        text-align: right;\n",
       "    }\n",
       "</style>\n",
       "<table border=\"1\" class=\"dataframe\">\n",
       "  <thead>\n",
       "    <tr style=\"text-align: right;\">\n",
       "      <th></th>\n",
       "      <th>Temperature</th>\n",
       "      <th>Humidity</th>\n",
       "      <th>HeatIndex</th>\n",
       "    </tr>\n",
       "  </thead>\n",
       "  <tbody>\n",
       "    <tr>\n",
       "      <th>0</th>\n",
       "      <td>85</td>\n",
       "      <td>85</td>\n",
       "      <td>98.004631</td>\n",
       "    </tr>\n",
       "    <tr>\n",
       "      <th>1</th>\n",
       "      <td>80</td>\n",
       "      <td>90</td>\n",
       "      <td>84.474400</td>\n",
       "    </tr>\n",
       "    <tr>\n",
       "      <th>2</th>\n",
       "      <td>83</td>\n",
       "      <td>78</td>\n",
       "      <td>89.669911</td>\n",
       "    </tr>\n",
       "    <tr>\n",
       "      <th>3</th>\n",
       "      <td>70</td>\n",
       "      <td>96</td>\n",
       "      <td>62.847024</td>\n",
       "    </tr>\n",
       "    <tr>\n",
       "      <th>4</th>\n",
       "      <td>68</td>\n",
       "      <td>80</td>\n",
       "      <td>69.089776</td>\n",
       "    </tr>\n",
       "  </tbody>\n",
       "</table>\n",
       "</div>"
      ],
      "text/plain": [
       "   Temperature  Humidity  HeatIndex\n",
       "0           85        85  98.004631\n",
       "1           80        90  84.474400\n",
       "2           83        78  89.669911\n",
       "3           70        96  62.847024\n",
       "4           68        80  69.089776"
      ]
     },
     "execution_count": 238,
     "metadata": {},
     "output_type": "execute_result"
    }
   ],
   "source": [
    "# Calcular el índice de calor\n",
    "\n",
    "#    https://en.wikipedia.org/wiki/Heat_index\n",
    "temp = golf_df['Temperature']\n",
    "humid = golf_df['Humidity']\n",
    "golf_df['HeatIndex'] = (-42.37 + 2.05*temp + 10.14*humid\n",
    "                        - 0.225*temp*humid\n",
    "                        - 6.84e-3*temp**2 \n",
    "                        - 5.482e-2*humid**2\n",
    "                        + 1.23e-3*temp**2*humid\n",
    "                        + 8.53e-4*temp*humid**2\n",
    "                        - 1.99e-6*temp**2*humid**2\n",
    ")\n",
    "golf_df[['Temperature', 'Humidity', 'HeatIndex']].head()"
   ]
  },
  {
   "cell_type": "markdown",
   "metadata": {},
   "source": [
    "### 30.- Crear una columna 'smarty_pants' que devuelva 'Verdadero' si el grade de un estudiante es mayor a 2.2 veces su estatura\n",
    "\n",
    "```python\n",
    ">>> print(students[['grade','height', 'smarty_pants']])\n",
    "          grade  height  smarty_pants\n",
    "Tomas        45      34         False\n",
    "Angel        56      35         False\n",
    "Stacy        78      36         False\n",
    "Michaela     89      37          True\n",
    "Haden        90      38          True\n",
    "```"
   ]
  },
  {
   "cell_type": "code",
   "execution_count": 242,
   "metadata": {},
   "outputs": [
    {
     "name": "stdout",
     "output_type": "stream",
     "text": [
      "          grade  height  smarty_pants\n",
      "Tomas        45      34         False\n",
      "Angel        56      35         False\n",
      "Stacy        78      36         False\n",
      "Michaela     89      37          True\n",
      "Haden        90      38          True\n"
     ]
    }
   ],
   "source": [
    "#Código:\n",
    "students[\"smarty_pants\"] = (students[\"grade\"]> (students[\"height\"]*2.2))\n",
    "print(students[['grade','height', 'smarty_pants']])\n"
   ]
  },
  {
   "cell_type": "markdown",
   "metadata": {},
   "source": [
    "### 31.- Crear una columna 'percent fixed acidity' que calcule la cantidad de acidez total que se encuentra en wine_quality_white.\n",
    "\n",
    "```python\n",
    ">>> print(wine_quality_white[['fixed acidity', 'volatile acidity', 'citric acid', 'percent fixed acidity']])\n",
    "      fixed acidity  volatile acidity  citric acid  percent fixed acidity\n",
    "0               7.0              0.27         0.36               0.917431\n",
    "1               6.3              0.30         0.34               0.907781\n",
    "2               8.1              0.28         0.40               0.922551\n",
    "3               7.2              0.23         0.32               0.929032\n",
    "4               7.2              0.23         0.32               0.929032\n",
    "...             ...               ...          ...                    ...\n",
    "4893            6.2              0.21         0.29               0.925373\n",
    "4894            6.6              0.32         0.36               0.906593\n",
    "4895            6.5              0.24         0.19               0.937951\n",
    "4896            5.5              0.29         0.30               0.903120\n",
    "4897            6.0              0.21         0.38               0.910470\n",
    "```"
   ]
  },
  {
   "cell_type": "code",
   "execution_count": null,
   "metadata": {},
   "outputs": [],
   "source": [
    "#Código:\n",
    "\n"
   ]
  },
  {
   "cell_type": "markdown",
   "metadata": {},
   "source": [
    "## Apply"
   ]
  },
  {
   "cell_type": "markdown",
   "metadata": {},
   "source": [
    "Es posible crear una nueva Serie al aplicar una función a una Serie existente\n",
    "\n",
    "Ejemplo: Extraer el día del mes en la columna 'date'"
   ]
  },
  {
   "cell_type": "code",
   "execution_count": 243,
   "metadata": {},
   "outputs": [
    {
     "data": {
      "text/html": [
       "<div>\n",
       "<style scoped>\n",
       "    .dataframe tbody tr th:only-of-type {\n",
       "        vertical-align: middle;\n",
       "    }\n",
       "\n",
       "    .dataframe tbody tr th {\n",
       "        vertical-align: top;\n",
       "    }\n",
       "\n",
       "    .dataframe thead th {\n",
       "        text-align: right;\n",
       "    }\n",
       "</style>\n",
       "<table border=\"1\" class=\"dataframe\">\n",
       "  <thead>\n",
       "    <tr style=\"text-align: right;\">\n",
       "      <th></th>\n",
       "      <th>Date</th>\n",
       "      <th>Outlook</th>\n",
       "      <th>Temperature</th>\n",
       "      <th>Humidity</th>\n",
       "      <th>Windy</th>\n",
       "      <th>Result</th>\n",
       "      <th>TempHumid</th>\n",
       "      <th>HeatIndex</th>\n",
       "    </tr>\n",
       "  </thead>\n",
       "  <tbody>\n",
       "    <tr>\n",
       "      <th>0</th>\n",
       "      <td>7/1/14</td>\n",
       "      <td>sunny</td>\n",
       "      <td>85</td>\n",
       "      <td>85</td>\n",
       "      <td>False</td>\n",
       "      <td>Don't Play</td>\n",
       "      <td>170</td>\n",
       "      <td>98.004631</td>\n",
       "    </tr>\n",
       "    <tr>\n",
       "      <th>1</th>\n",
       "      <td>7/2/14</td>\n",
       "      <td>sunny</td>\n",
       "      <td>80</td>\n",
       "      <td>90</td>\n",
       "      <td>True</td>\n",
       "      <td>Don't Play</td>\n",
       "      <td>170</td>\n",
       "      <td>84.474400</td>\n",
       "    </tr>\n",
       "    <tr>\n",
       "      <th>2</th>\n",
       "      <td>7/3/14</td>\n",
       "      <td>overcast</td>\n",
       "      <td>83</td>\n",
       "      <td>78</td>\n",
       "      <td>False</td>\n",
       "      <td>Play</td>\n",
       "      <td>161</td>\n",
       "      <td>89.669911</td>\n",
       "    </tr>\n",
       "    <tr>\n",
       "      <th>3</th>\n",
       "      <td>7/4/14</td>\n",
       "      <td>rain</td>\n",
       "      <td>70</td>\n",
       "      <td>96</td>\n",
       "      <td>False</td>\n",
       "      <td>Play</td>\n",
       "      <td>166</td>\n",
       "      <td>62.847024</td>\n",
       "    </tr>\n",
       "    <tr>\n",
       "      <th>4</th>\n",
       "      <td>7/5/14</td>\n",
       "      <td>rain</td>\n",
       "      <td>68</td>\n",
       "      <td>80</td>\n",
       "      <td>False</td>\n",
       "      <td>Play</td>\n",
       "      <td>148</td>\n",
       "      <td>69.089776</td>\n",
       "    </tr>\n",
       "    <tr>\n",
       "      <th>5</th>\n",
       "      <td>7/6/14</td>\n",
       "      <td>rain</td>\n",
       "      <td>65</td>\n",
       "      <td>70</td>\n",
       "      <td>True</td>\n",
       "      <td>Don't Play</td>\n",
       "      <td>135</td>\n",
       "      <td>73.668025</td>\n",
       "    </tr>\n",
       "    <tr>\n",
       "      <th>6</th>\n",
       "      <td>7/7/14</td>\n",
       "      <td>overcast</td>\n",
       "      <td>64</td>\n",
       "      <td>65</td>\n",
       "      <td>True</td>\n",
       "      <td>Play</td>\n",
       "      <td>129</td>\n",
       "      <td>75.987116</td>\n",
       "    </tr>\n",
       "    <tr>\n",
       "      <th>7</th>\n",
       "      <td>7/8/14</td>\n",
       "      <td>sunny</td>\n",
       "      <td>72</td>\n",
       "      <td>95</td>\n",
       "      <td>False</td>\n",
       "      <td>Don't Play</td>\n",
       "      <td>167</td>\n",
       "      <td>66.247396</td>\n",
       "    </tr>\n",
       "    <tr>\n",
       "      <th>8</th>\n",
       "      <td>7/9/14</td>\n",
       "      <td>sunny</td>\n",
       "      <td>69</td>\n",
       "      <td>70</td>\n",
       "      <td>False</td>\n",
       "      <td>Play</td>\n",
       "      <td>139</td>\n",
       "      <td>72.843649</td>\n",
       "    </tr>\n",
       "    <tr>\n",
       "      <th>9</th>\n",
       "      <td>7/10/14</td>\n",
       "      <td>rain</td>\n",
       "      <td>75</td>\n",
       "      <td>80</td>\n",
       "      <td>False</td>\n",
       "      <td>Play</td>\n",
       "      <td>155</td>\n",
       "      <td>74.557000</td>\n",
       "    </tr>\n",
       "    <tr>\n",
       "      <th>10</th>\n",
       "      <td>7/11/14</td>\n",
       "      <td>sunny</td>\n",
       "      <td>75</td>\n",
       "      <td>70</td>\n",
       "      <td>True</td>\n",
       "      <td>Play</td>\n",
       "      <td>145</td>\n",
       "      <td>75.777625</td>\n",
       "    </tr>\n",
       "    <tr>\n",
       "      <th>11</th>\n",
       "      <td>7/12/14</td>\n",
       "      <td>overcast</td>\n",
       "      <td>72</td>\n",
       "      <td>90</td>\n",
       "      <td>True</td>\n",
       "      <td>Play</td>\n",
       "      <td>162</td>\n",
       "      <td>68.106944</td>\n",
       "    </tr>\n",
       "    <tr>\n",
       "      <th>12</th>\n",
       "      <td>7/13/14</td>\n",
       "      <td>overcast</td>\n",
       "      <td>81</td>\n",
       "      <td>75</td>\n",
       "      <td>False</td>\n",
       "      <td>Play</td>\n",
       "      <td>156</td>\n",
       "      <td>84.523441</td>\n",
       "    </tr>\n",
       "    <tr>\n",
       "      <th>13</th>\n",
       "      <td>7/14/14</td>\n",
       "      <td>rain</td>\n",
       "      <td>71</td>\n",
       "      <td>80</td>\n",
       "      <td>True</td>\n",
       "      <td>Don't Play</td>\n",
       "      <td>151</td>\n",
       "      <td>70.486984</td>\n",
       "    </tr>\n",
       "  </tbody>\n",
       "</table>\n",
       "</div>"
      ],
      "text/plain": [
       "       Date   Outlook  Temperature  Humidity  Windy      Result  TempHumid  \\\n",
       "0    7/1/14     sunny           85        85  False  Don't Play        170   \n",
       "1    7/2/14     sunny           80        90   True  Don't Play        170   \n",
       "2    7/3/14  overcast           83        78  False        Play        161   \n",
       "3    7/4/14      rain           70        96  False        Play        166   \n",
       "4    7/5/14      rain           68        80  False        Play        148   \n",
       "5    7/6/14      rain           65        70   True  Don't Play        135   \n",
       "6    7/7/14  overcast           64        65   True        Play        129   \n",
       "7    7/8/14     sunny           72        95  False  Don't Play        167   \n",
       "8    7/9/14     sunny           69        70  False        Play        139   \n",
       "9   7/10/14      rain           75        80  False        Play        155   \n",
       "10  7/11/14     sunny           75        70   True        Play        145   \n",
       "11  7/12/14  overcast           72        90   True        Play        162   \n",
       "12  7/13/14  overcast           81        75  False        Play        156   \n",
       "13  7/14/14      rain           71        80   True  Don't Play        151   \n",
       "\n",
       "    HeatIndex  \n",
       "0   98.004631  \n",
       "1   84.474400  \n",
       "2   89.669911  \n",
       "3   62.847024  \n",
       "4   69.089776  \n",
       "5   73.668025  \n",
       "6   75.987116  \n",
       "7   66.247396  \n",
       "8   72.843649  \n",
       "9   74.557000  \n",
       "10  75.777625  \n",
       "11  68.106944  \n",
       "12  84.523441  \n",
       "13  70.486984  "
      ]
     },
     "execution_count": 243,
     "metadata": {},
     "output_type": "execute_result"
    }
   ],
   "source": [
    "golf_df"
   ]
  },
  {
   "cell_type": "code",
   "execution_count": 244,
   "metadata": {},
   "outputs": [
    {
     "data": {
      "text/plain": [
       "0      1\n",
       "1      2\n",
       "2      3\n",
       "3      4\n",
       "4      5\n",
       "5      6\n",
       "6      7\n",
       "7      8\n",
       "8      9\n",
       "9     10\n",
       "10    11\n",
       "11    12\n",
       "12    13\n",
       "13    14\n",
       "Name: Date, dtype: object"
      ]
     },
     "execution_count": 244,
     "metadata": {},
     "output_type": "execute_result"
    }
   ],
   "source": [
    "golf_df['Date'].apply(lambda x: x.split('/')[1])"
   ]
  },
  {
   "cell_type": "markdown",
   "metadata": {},
   "source": [
    "Apply toma cada elemento de la serie 'date' y le *aplica* la función. Las salidas se ordenan en un array de la misma forma e índice.\n",
    "\n",
    "Así que podemos guardarlo así"
   ]
  },
  {
   "cell_type": "code",
   "execution_count": 245,
   "metadata": {},
   "outputs": [
    {
     "data": {
      "text/html": [
       "<div>\n",
       "<style scoped>\n",
       "    .dataframe tbody tr th:only-of-type {\n",
       "        vertical-align: middle;\n",
       "    }\n",
       "\n",
       "    .dataframe tbody tr th {\n",
       "        vertical-align: top;\n",
       "    }\n",
       "\n",
       "    .dataframe thead th {\n",
       "        text-align: right;\n",
       "    }\n",
       "</style>\n",
       "<table border=\"1\" class=\"dataframe\">\n",
       "  <thead>\n",
       "    <tr style=\"text-align: right;\">\n",
       "      <th></th>\n",
       "      <th>Date</th>\n",
       "      <th>Outlook</th>\n",
       "      <th>Temperature</th>\n",
       "      <th>Humidity</th>\n",
       "      <th>Windy</th>\n",
       "      <th>Result</th>\n",
       "      <th>TempHumid</th>\n",
       "      <th>HeatIndex</th>\n",
       "      <th>day</th>\n",
       "    </tr>\n",
       "  </thead>\n",
       "  <tbody>\n",
       "    <tr>\n",
       "      <th>0</th>\n",
       "      <td>7/1/14</td>\n",
       "      <td>sunny</td>\n",
       "      <td>85</td>\n",
       "      <td>85</td>\n",
       "      <td>False</td>\n",
       "      <td>Don't Play</td>\n",
       "      <td>170</td>\n",
       "      <td>98.004631</td>\n",
       "      <td>1</td>\n",
       "    </tr>\n",
       "    <tr>\n",
       "      <th>1</th>\n",
       "      <td>7/2/14</td>\n",
       "      <td>sunny</td>\n",
       "      <td>80</td>\n",
       "      <td>90</td>\n",
       "      <td>True</td>\n",
       "      <td>Don't Play</td>\n",
       "      <td>170</td>\n",
       "      <td>84.474400</td>\n",
       "      <td>2</td>\n",
       "    </tr>\n",
       "    <tr>\n",
       "      <th>2</th>\n",
       "      <td>7/3/14</td>\n",
       "      <td>overcast</td>\n",
       "      <td>83</td>\n",
       "      <td>78</td>\n",
       "      <td>False</td>\n",
       "      <td>Play</td>\n",
       "      <td>161</td>\n",
       "      <td>89.669911</td>\n",
       "      <td>3</td>\n",
       "    </tr>\n",
       "    <tr>\n",
       "      <th>3</th>\n",
       "      <td>7/4/14</td>\n",
       "      <td>rain</td>\n",
       "      <td>70</td>\n",
       "      <td>96</td>\n",
       "      <td>False</td>\n",
       "      <td>Play</td>\n",
       "      <td>166</td>\n",
       "      <td>62.847024</td>\n",
       "      <td>4</td>\n",
       "    </tr>\n",
       "    <tr>\n",
       "      <th>4</th>\n",
       "      <td>7/5/14</td>\n",
       "      <td>rain</td>\n",
       "      <td>68</td>\n",
       "      <td>80</td>\n",
       "      <td>False</td>\n",
       "      <td>Play</td>\n",
       "      <td>148</td>\n",
       "      <td>69.089776</td>\n",
       "      <td>5</td>\n",
       "    </tr>\n",
       "    <tr>\n",
       "      <th>5</th>\n",
       "      <td>7/6/14</td>\n",
       "      <td>rain</td>\n",
       "      <td>65</td>\n",
       "      <td>70</td>\n",
       "      <td>True</td>\n",
       "      <td>Don't Play</td>\n",
       "      <td>135</td>\n",
       "      <td>73.668025</td>\n",
       "      <td>6</td>\n",
       "    </tr>\n",
       "    <tr>\n",
       "      <th>6</th>\n",
       "      <td>7/7/14</td>\n",
       "      <td>overcast</td>\n",
       "      <td>64</td>\n",
       "      <td>65</td>\n",
       "      <td>True</td>\n",
       "      <td>Play</td>\n",
       "      <td>129</td>\n",
       "      <td>75.987116</td>\n",
       "      <td>7</td>\n",
       "    </tr>\n",
       "    <tr>\n",
       "      <th>7</th>\n",
       "      <td>7/8/14</td>\n",
       "      <td>sunny</td>\n",
       "      <td>72</td>\n",
       "      <td>95</td>\n",
       "      <td>False</td>\n",
       "      <td>Don't Play</td>\n",
       "      <td>167</td>\n",
       "      <td>66.247396</td>\n",
       "      <td>8</td>\n",
       "    </tr>\n",
       "    <tr>\n",
       "      <th>8</th>\n",
       "      <td>7/9/14</td>\n",
       "      <td>sunny</td>\n",
       "      <td>69</td>\n",
       "      <td>70</td>\n",
       "      <td>False</td>\n",
       "      <td>Play</td>\n",
       "      <td>139</td>\n",
       "      <td>72.843649</td>\n",
       "      <td>9</td>\n",
       "    </tr>\n",
       "    <tr>\n",
       "      <th>9</th>\n",
       "      <td>7/10/14</td>\n",
       "      <td>rain</td>\n",
       "      <td>75</td>\n",
       "      <td>80</td>\n",
       "      <td>False</td>\n",
       "      <td>Play</td>\n",
       "      <td>155</td>\n",
       "      <td>74.557000</td>\n",
       "      <td>10</td>\n",
       "    </tr>\n",
       "    <tr>\n",
       "      <th>10</th>\n",
       "      <td>7/11/14</td>\n",
       "      <td>sunny</td>\n",
       "      <td>75</td>\n",
       "      <td>70</td>\n",
       "      <td>True</td>\n",
       "      <td>Play</td>\n",
       "      <td>145</td>\n",
       "      <td>75.777625</td>\n",
       "      <td>11</td>\n",
       "    </tr>\n",
       "    <tr>\n",
       "      <th>11</th>\n",
       "      <td>7/12/14</td>\n",
       "      <td>overcast</td>\n",
       "      <td>72</td>\n",
       "      <td>90</td>\n",
       "      <td>True</td>\n",
       "      <td>Play</td>\n",
       "      <td>162</td>\n",
       "      <td>68.106944</td>\n",
       "      <td>12</td>\n",
       "    </tr>\n",
       "    <tr>\n",
       "      <th>12</th>\n",
       "      <td>7/13/14</td>\n",
       "      <td>overcast</td>\n",
       "      <td>81</td>\n",
       "      <td>75</td>\n",
       "      <td>False</td>\n",
       "      <td>Play</td>\n",
       "      <td>156</td>\n",
       "      <td>84.523441</td>\n",
       "      <td>13</td>\n",
       "    </tr>\n",
       "    <tr>\n",
       "      <th>13</th>\n",
       "      <td>7/14/14</td>\n",
       "      <td>rain</td>\n",
       "      <td>71</td>\n",
       "      <td>80</td>\n",
       "      <td>True</td>\n",
       "      <td>Don't Play</td>\n",
       "      <td>151</td>\n",
       "      <td>70.486984</td>\n",
       "      <td>14</td>\n",
       "    </tr>\n",
       "  </tbody>\n",
       "</table>\n",
       "</div>"
      ],
      "text/plain": [
       "       Date   Outlook  Temperature  Humidity  Windy      Result  TempHumid  \\\n",
       "0    7/1/14     sunny           85        85  False  Don't Play        170   \n",
       "1    7/2/14     sunny           80        90   True  Don't Play        170   \n",
       "2    7/3/14  overcast           83        78  False        Play        161   \n",
       "3    7/4/14      rain           70        96  False        Play        166   \n",
       "4    7/5/14      rain           68        80  False        Play        148   \n",
       "5    7/6/14      rain           65        70   True  Don't Play        135   \n",
       "6    7/7/14  overcast           64        65   True        Play        129   \n",
       "7    7/8/14     sunny           72        95  False  Don't Play        167   \n",
       "8    7/9/14     sunny           69        70  False        Play        139   \n",
       "9   7/10/14      rain           75        80  False        Play        155   \n",
       "10  7/11/14     sunny           75        70   True        Play        145   \n",
       "11  7/12/14  overcast           72        90   True        Play        162   \n",
       "12  7/13/14  overcast           81        75  False        Play        156   \n",
       "13  7/14/14      rain           71        80   True  Don't Play        151   \n",
       "\n",
       "    HeatIndex day  \n",
       "0   98.004631   1  \n",
       "1   84.474400   2  \n",
       "2   89.669911   3  \n",
       "3   62.847024   4  \n",
       "4   69.089776   5  \n",
       "5   73.668025   6  \n",
       "6   75.987116   7  \n",
       "7   66.247396   8  \n",
       "8   72.843649   9  \n",
       "9   74.557000  10  \n",
       "10  75.777625  11  \n",
       "11  68.106944  12  \n",
       "12  84.523441  13  \n",
       "13  70.486984  14  "
      ]
     },
     "execution_count": 245,
     "metadata": {},
     "output_type": "execute_result"
    }
   ],
   "source": [
    "golf_df['day'] = golf_df['Date'].apply(lambda x: x.split('/')[1])\n",
    "golf_df"
   ]
  },
  {
   "cell_type": "markdown",
   "metadata": {},
   "source": [
    "lambda es sólo una forma de hacer una función. También podemos aplicar una función previamente definida."
   ]
  },
  {
   "cell_type": "code",
   "execution_count": 246,
   "metadata": {},
   "outputs": [
    {
     "data": {
      "text/plain": [
       "0      1\n",
       "1      2\n",
       "2      3\n",
       "3      4\n",
       "4      5\n",
       "5      6\n",
       "6      7\n",
       "7      8\n",
       "8      9\n",
       "9     10\n",
       "10    11\n",
       "11    12\n",
       "12    13\n",
       "13    14\n",
       "Name: Date, dtype: object"
      ]
     },
     "execution_count": 246,
     "metadata": {},
     "output_type": "execute_result"
    }
   ],
   "source": [
    "def get_day(x):\n",
    "    return x.split('/')[1]\n",
    "\n",
    "golf_df['Date'].apply(get_day)"
   ]
  },
  {
   "cell_type": "markdown",
   "metadata": {},
   "source": [
    "Es posible aplicar una función a cada fila del DataFrame especificando la columna y su eje=1"
   ]
  },
  {
   "cell_type": "code",
   "execution_count": 247,
   "metadata": {},
   "outputs": [
    {
     "data": {
      "text/plain": [
       "0     170\n",
       "1     170\n",
       "2     161\n",
       "3     166\n",
       "4     148\n",
       "5     135\n",
       "6     129\n",
       "7     167\n",
       "8     139\n",
       "9     155\n",
       "10    145\n",
       "11    162\n",
       "12    156\n",
       "13    151\n",
       "dtype: int64"
      ]
     },
     "execution_count": 247,
     "metadata": {},
     "output_type": "execute_result"
    }
   ],
   "source": [
    "golf_df.apply(lambda x: x['Temperature'] + x['Humidity'], axis=1)"
   ]
  },
  {
   "cell_type": "markdown",
   "metadata": {},
   "source": [
    "En general, `.apply` es útil para mapear funciones complejas en sus datos."
   ]
  },
  {
   "cell_type": "markdown",
   "metadata": {},
   "source": [
    "### 32.- Crear una columna 'report_card' que muestre 'FAILURE' si el 'grade' de un estudiante es menor a 60, y que muestre su calificación si es mayor a 60\n",
    "\n",
    "```python\n",
    ">>> print(students[['grade','height', 'report_card']])\n",
    "          grade  height report_card\n",
    "Tomas        45      34     FAILURE\n",
    "Angel        56      35     FAILURE\n",
    "Stacy        78      36          78\n",
    "Michaela     89      37          89\n",
    "Haden        90      38          90\n",
    "```"
   ]
  },
  {
   "cell_type": "code",
   "execution_count": 249,
   "metadata": {},
   "outputs": [
    {
     "data": {
      "text/html": [
       "<div>\n",
       "<style scoped>\n",
       "    .dataframe tbody tr th:only-of-type {\n",
       "        vertical-align: middle;\n",
       "    }\n",
       "\n",
       "    .dataframe tbody tr th {\n",
       "        vertical-align: top;\n",
       "    }\n",
       "\n",
       "    .dataframe thead th {\n",
       "        text-align: right;\n",
       "    }\n",
       "</style>\n",
       "<table border=\"1\" class=\"dataframe\">\n",
       "  <thead>\n",
       "    <tr style=\"text-align: right;\">\n",
       "      <th></th>\n",
       "      <th>grade</th>\n",
       "      <th>height</th>\n",
       "      <th>report_card</th>\n",
       "    </tr>\n",
       "  </thead>\n",
       "  <tbody>\n",
       "    <tr>\n",
       "      <th>Tomas</th>\n",
       "      <td>45</td>\n",
       "      <td>34</td>\n",
       "      <td>FAILURE</td>\n",
       "    </tr>\n",
       "    <tr>\n",
       "      <th>Angel</th>\n",
       "      <td>56</td>\n",
       "      <td>35</td>\n",
       "      <td>FAILURE</td>\n",
       "    </tr>\n",
       "    <tr>\n",
       "      <th>Stacy</th>\n",
       "      <td>78</td>\n",
       "      <td>36</td>\n",
       "      <td>78</td>\n",
       "    </tr>\n",
       "    <tr>\n",
       "      <th>Michaela</th>\n",
       "      <td>89</td>\n",
       "      <td>37</td>\n",
       "      <td>89</td>\n",
       "    </tr>\n",
       "    <tr>\n",
       "      <th>Haden</th>\n",
       "      <td>90</td>\n",
       "      <td>38</td>\n",
       "      <td>90</td>\n",
       "    </tr>\n",
       "  </tbody>\n",
       "</table>\n",
       "</div>"
      ],
      "text/plain": [
       "          grade  height report_card\n",
       "Tomas        45      34     FAILURE\n",
       "Angel        56      35     FAILURE\n",
       "Stacy        78      36          78\n",
       "Michaela     89      37          89\n",
       "Haden        90      38          90"
      ]
     },
     "execution_count": 249,
     "metadata": {},
     "output_type": "execute_result"
    }
   ],
   "source": [
    "#Código:\n",
    "def calificar(valor):\n",
    "    if(valor < 60):\n",
    "        return 'FAILURE'\n",
    "    else:\n",
    "        return valor\n",
    "    \n",
    "students[\"report_card\"] = students[\"grade\"].apply(calificar);\n",
    "\n",
    "students[['grade','height', 'report_card']]\n",
    "\n"
   ]
  },
  {
   "cell_type": "markdown",
   "metadata": {},
   "source": [
    "### 33.- Crear una columna 'even_height' que muestre 'Even' si su estatura es un numero par, y que muestre 'odd' si su estatura es un número impar.\n",
    "\n",
    "```python\n",
    ">>> print(students[['grade','height', 'even_height']])\n",
    "          grade  height even_height\n",
    "Tomas        45      34        Even\n",
    "Angel        56      35         Odd\n",
    "Stacy        78      36        Even\n",
    "Michaela     89      37         Odd\n",
    "Haden        90      38        Even\n",
    "```"
   ]
  },
  {
   "cell_type": "code",
   "execution_count": 252,
   "metadata": {},
   "outputs": [
    {
     "data": {
      "text/html": [
       "<div>\n",
       "<style scoped>\n",
       "    .dataframe tbody tr th:only-of-type {\n",
       "        vertical-align: middle;\n",
       "    }\n",
       "\n",
       "    .dataframe tbody tr th {\n",
       "        vertical-align: top;\n",
       "    }\n",
       "\n",
       "    .dataframe thead th {\n",
       "        text-align: right;\n",
       "    }\n",
       "</style>\n",
       "<table border=\"1\" class=\"dataframe\">\n",
       "  <thead>\n",
       "    <tr style=\"text-align: right;\">\n",
       "      <th></th>\n",
       "      <th>grade</th>\n",
       "      <th>height</th>\n",
       "      <th>even_height</th>\n",
       "    </tr>\n",
       "  </thead>\n",
       "  <tbody>\n",
       "    <tr>\n",
       "      <th>Tomas</th>\n",
       "      <td>45</td>\n",
       "      <td>34</td>\n",
       "      <td>Even</td>\n",
       "    </tr>\n",
       "    <tr>\n",
       "      <th>Angel</th>\n",
       "      <td>56</td>\n",
       "      <td>35</td>\n",
       "      <td>Odd</td>\n",
       "    </tr>\n",
       "    <tr>\n",
       "      <th>Stacy</th>\n",
       "      <td>78</td>\n",
       "      <td>36</td>\n",
       "      <td>Even</td>\n",
       "    </tr>\n",
       "    <tr>\n",
       "      <th>Michaela</th>\n",
       "      <td>89</td>\n",
       "      <td>37</td>\n",
       "      <td>Odd</td>\n",
       "    </tr>\n",
       "    <tr>\n",
       "      <th>Haden</th>\n",
       "      <td>90</td>\n",
       "      <td>38</td>\n",
       "      <td>Even</td>\n",
       "    </tr>\n",
       "  </tbody>\n",
       "</table>\n",
       "</div>"
      ],
      "text/plain": [
       "          grade  height even_height\n",
       "Tomas        45      34        Even\n",
       "Angel        56      35         Odd\n",
       "Stacy        78      36        Even\n",
       "Michaela     89      37         Odd\n",
       "Haden        90      38        Even"
      ]
     },
     "execution_count": 252,
     "metadata": {},
     "output_type": "execute_result"
    }
   ],
   "source": [
    "#Código:\n",
    "def esPar(x):\n",
    "    if(x % 2 == 0):\n",
    "        return 'Even'\n",
    "    else:\n",
    "        return 'Odd'\n",
    "    \n",
    "students[\"even_height\"] = students[\"height\"].apply(esPar);\n",
    "\n",
    "students[['grade','height', 'even_height']]\n",
    "\n",
    "    \n"
   ]
  },
  {
   "cell_type": "markdown",
   "metadata": {},
   "source": [
    "## Agregaciones"
   ]
  },
  {
   "cell_type": "markdown",
   "metadata": {},
   "source": [
    "Existen MUCHOS métodos disponibles para nosotros dentro de cada dataframe. Algunos de ellos son agregaciones, al igual que en numpy."
   ]
  },
  {
   "cell_type": "code",
   "execution_count": 253,
   "metadata": {},
   "outputs": [
    {
     "data": {
      "text/plain": [
       "Date           14\n",
       "Outlook        14\n",
       "Temperature    14\n",
       "Humidity       14\n",
       "Windy          14\n",
       "Result         14\n",
       "TempHumid      14\n",
       "HeatIndex      14\n",
       "day            14\n",
       "dtype: int64"
      ]
     },
     "execution_count": 253,
     "metadata": {},
     "output_type": "execute_result"
    }
   ],
   "source": [
    "golf_df.count() #Cuenta items que no son None"
   ]
  },
  {
   "cell_type": "code",
   "execution_count": 256,
   "metadata": {},
   "outputs": [
    {
     "data": {
      "text/plain": [
       "0     9\n",
       "1     9\n",
       "2     9\n",
       "3     9\n",
       "4     9\n",
       "5     9\n",
       "6     9\n",
       "7     9\n",
       "8     9\n",
       "9     9\n",
       "10    9\n",
       "11    9\n",
       "12    9\n",
       "13    9\n",
       "dtype: int64"
      ]
     },
     "execution_count": 256,
     "metadata": {},
     "output_type": "execute_result"
    }
   ],
   "source": [
    "golf_df.count(axis=1)"
   ]
  },
  {
   "cell_type": "code",
   "execution_count": 257,
   "metadata": {},
   "outputs": [
    {
     "name": "stderr",
     "output_type": "stream",
     "text": [
      "C:\\Users\\NGALAZ\\AppData\\Local\\Temp\\ipykernel_44020\\4288686865.py:1: FutureWarning: Dropping of nuisance columns in DataFrame reductions (with 'numeric_only=None') is deprecated; in a future version this will raise TypeError.  Select only valid columns before calling the reduction.\n",
      "  golf_df.mean()\n"
     ]
    },
    {
     "data": {
      "text/plain": [
       "Temperature    7.357143e+01\n",
       "Humidity       8.028571e+01\n",
       "Windy          4.285714e-01\n",
       "TempHumid      1.538571e+02\n",
       "HeatIndex      7.616314e+01\n",
       "day            8.818342e+16\n",
       "dtype: float64"
      ]
     },
     "execution_count": 257,
     "metadata": {},
     "output_type": "execute_result"
    }
   ],
   "source": [
    "golf_df.mean()"
   ]
  },
  {
   "cell_type": "code",
   "execution_count": 258,
   "metadata": {},
   "outputs": [
    {
     "data": {
      "text/plain": [
       "Date           7/1/147/2/147/3/147/4/147/5/147/6/147/7/147/8/...\n",
       "Outlook        sunnysunnyovercastrainrainrainovercastsunnysun...\n",
       "Temperature                                                 1030\n",
       "Humidity                                                    1124\n",
       "Windy                                                          6\n",
       "Result         Don't PlayDon't PlayPlayPlayPlayDon't PlayPlay...\n",
       "TempHumid                                                   2154\n",
       "HeatIndex                                            1066.283922\n",
       "day                                          1234567891011121314\n",
       "dtype: object"
      ]
     },
     "execution_count": 258,
     "metadata": {},
     "output_type": "execute_result"
    }
   ],
   "source": [
    "golf_df.sum()"
   ]
  },
  {
   "cell_type": "code",
   "execution_count": 259,
   "metadata": {},
   "outputs": [
    {
     "data": {
      "text/plain": [
       "Date               7/1/14\n",
       "Outlook          overcast\n",
       "Temperature            64\n",
       "Humidity               65\n",
       "Windy               False\n",
       "Result         Don't Play\n",
       "TempHumid             129\n",
       "HeatIndex       62.847024\n",
       "day                     1\n",
       "dtype: object"
      ]
     },
     "execution_count": 259,
     "metadata": {},
     "output_type": "execute_result"
    }
   ],
   "source": [
    "golf_df.aggregate(min)"
   ]
  },
  {
   "cell_type": "markdown",
   "metadata": {},
   "source": [
    "¿Qué pasa si queremos calcular la temperatura mínima en días nublados, lluviosos o soleados? \n",
    "\n",
    "¡Usamos una sentencia groupby! Como en sql."
   ]
  },
  {
   "cell_type": "code",
   "execution_count": 260,
   "metadata": {},
   "outputs": [
    {
     "data": {
      "text/html": [
       "<div>\n",
       "<style scoped>\n",
       "    .dataframe tbody tr th:only-of-type {\n",
       "        vertical-align: middle;\n",
       "    }\n",
       "\n",
       "    .dataframe tbody tr th {\n",
       "        vertical-align: top;\n",
       "    }\n",
       "\n",
       "    .dataframe thead th {\n",
       "        text-align: right;\n",
       "    }\n",
       "</style>\n",
       "<table border=\"1\" class=\"dataframe\">\n",
       "  <thead>\n",
       "    <tr style=\"text-align: right;\">\n",
       "      <th></th>\n",
       "      <th>Date</th>\n",
       "      <th>Temperature</th>\n",
       "      <th>Humidity</th>\n",
       "      <th>Windy</th>\n",
       "      <th>Result</th>\n",
       "      <th>TempHumid</th>\n",
       "      <th>HeatIndex</th>\n",
       "      <th>day</th>\n",
       "    </tr>\n",
       "    <tr>\n",
       "      <th>Outlook</th>\n",
       "      <th></th>\n",
       "      <th></th>\n",
       "      <th></th>\n",
       "      <th></th>\n",
       "      <th></th>\n",
       "      <th></th>\n",
       "      <th></th>\n",
       "      <th></th>\n",
       "    </tr>\n",
       "  </thead>\n",
       "  <tbody>\n",
       "    <tr>\n",
       "      <th>overcast</th>\n",
       "      <td>7/12/14</td>\n",
       "      <td>64</td>\n",
       "      <td>65</td>\n",
       "      <td>False</td>\n",
       "      <td>Play</td>\n",
       "      <td>129</td>\n",
       "      <td>68.106944</td>\n",
       "      <td>12</td>\n",
       "    </tr>\n",
       "    <tr>\n",
       "      <th>rain</th>\n",
       "      <td>7/10/14</td>\n",
       "      <td>65</td>\n",
       "      <td>70</td>\n",
       "      <td>False</td>\n",
       "      <td>Don't Play</td>\n",
       "      <td>135</td>\n",
       "      <td>62.847024</td>\n",
       "      <td>10</td>\n",
       "    </tr>\n",
       "    <tr>\n",
       "      <th>sunny</th>\n",
       "      <td>7/1/14</td>\n",
       "      <td>69</td>\n",
       "      <td>70</td>\n",
       "      <td>False</td>\n",
       "      <td>Don't Play</td>\n",
       "      <td>139</td>\n",
       "      <td>66.247396</td>\n",
       "      <td>1</td>\n",
       "    </tr>\n",
       "  </tbody>\n",
       "</table>\n",
       "</div>"
      ],
      "text/plain": [
       "             Date  Temperature  Humidity  Windy      Result  TempHumid  \\\n",
       "Outlook                                                                  \n",
       "overcast  7/12/14           64        65  False        Play        129   \n",
       "rain      7/10/14           65        70  False  Don't Play        135   \n",
       "sunny      7/1/14           69        70  False  Don't Play        139   \n",
       "\n",
       "          HeatIndex day  \n",
       "Outlook                  \n",
       "overcast  68.106944  12  \n",
       "rain      62.847024  10  \n",
       "sunny     66.247396   1  "
      ]
     },
     "execution_count": 260,
     "metadata": {},
     "output_type": "execute_result"
    }
   ],
   "source": [
    "golf_df.groupby('Outlook').aggregate(min)"
   ]
  },
  {
   "cell_type": "markdown",
   "metadata": {},
   "source": [
    "Esto toma el mínimo de cada __Outlook__ de *cada* otra columna. ¡Y ahora __Outlook__ es el índice! \n",
    "\n",
    "Veamos lo que nos interesa, la temperatura."
   ]
  },
  {
   "cell_type": "code",
   "execution_count": 261,
   "metadata": {},
   "outputs": [
    {
     "data": {
      "text/html": [
       "<div>\n",
       "<style scoped>\n",
       "    .dataframe tbody tr th:only-of-type {\n",
       "        vertical-align: middle;\n",
       "    }\n",
       "\n",
       "    .dataframe tbody tr th {\n",
       "        vertical-align: top;\n",
       "    }\n",
       "\n",
       "    .dataframe thead th {\n",
       "        text-align: right;\n",
       "    }\n",
       "</style>\n",
       "<table border=\"1\" class=\"dataframe\">\n",
       "  <thead>\n",
       "    <tr style=\"text-align: right;\">\n",
       "      <th></th>\n",
       "      <th>Temperature</th>\n",
       "    </tr>\n",
       "    <tr>\n",
       "      <th>Outlook</th>\n",
       "      <th></th>\n",
       "    </tr>\n",
       "  </thead>\n",
       "  <tbody>\n",
       "    <tr>\n",
       "      <th>overcast</th>\n",
       "      <td>64</td>\n",
       "    </tr>\n",
       "    <tr>\n",
       "      <th>rain</th>\n",
       "      <td>65</td>\n",
       "    </tr>\n",
       "    <tr>\n",
       "      <th>sunny</th>\n",
       "      <td>69</td>\n",
       "    </tr>\n",
       "  </tbody>\n",
       "</table>\n",
       "</div>"
      ],
      "text/plain": [
       "          Temperature\n",
       "Outlook              \n",
       "overcast           64\n",
       "rain               65\n",
       "sunny              69"
      ]
     },
     "execution_count": 261,
     "metadata": {},
     "output_type": "execute_result"
    }
   ],
   "source": [
    "golf_df.groupby('Outlook').aggregate(min)[['Temperature']]"
   ]
  },
  {
   "cell_type": "markdown",
   "metadata": {},
   "source": [
    "### 34.- Calcular los datos promedio de clima para cada Outlook.\n",
    "\n",
    "```python\n",
    "          Temperature  Humidity  Windy  TempHumid  HeatIndex\n",
    "Outlook                                                     \n",
    "overcast         75.0      77.0    0.5      152.0  79.571853\n",
    "rain             69.8      81.2    0.4      151.0  70.129762\n",
    "sunny            76.2      82.0    0.4      158.2  79.469540\n",
    "```"
   ]
  },
  {
   "cell_type": "code",
   "execution_count": 263,
   "metadata": {},
   "outputs": [
    {
     "data": {
      "text/html": [
       "<div>\n",
       "<style scoped>\n",
       "    .dataframe tbody tr th:only-of-type {\n",
       "        vertical-align: middle;\n",
       "    }\n",
       "\n",
       "    .dataframe tbody tr th {\n",
       "        vertical-align: top;\n",
       "    }\n",
       "\n",
       "    .dataframe thead th {\n",
       "        text-align: right;\n",
       "    }\n",
       "</style>\n",
       "<table border=\"1\" class=\"dataframe\">\n",
       "  <thead>\n",
       "    <tr style=\"text-align: right;\">\n",
       "      <th></th>\n",
       "      <th>Temperature</th>\n",
       "      <th>Humidity</th>\n",
       "      <th>Windy</th>\n",
       "      <th>TempHumid</th>\n",
       "      <th>HeatIndex</th>\n",
       "    </tr>\n",
       "    <tr>\n",
       "      <th>Outlook</th>\n",
       "      <th></th>\n",
       "      <th></th>\n",
       "      <th></th>\n",
       "      <th></th>\n",
       "      <th></th>\n",
       "    </tr>\n",
       "  </thead>\n",
       "  <tbody>\n",
       "    <tr>\n",
       "      <th>overcast</th>\n",
       "      <td>75.0</td>\n",
       "      <td>77.0</td>\n",
       "      <td>0.5</td>\n",
       "      <td>152.0</td>\n",
       "      <td>79.571853</td>\n",
       "    </tr>\n",
       "    <tr>\n",
       "      <th>rain</th>\n",
       "      <td>69.8</td>\n",
       "      <td>81.2</td>\n",
       "      <td>0.4</td>\n",
       "      <td>151.0</td>\n",
       "      <td>70.129762</td>\n",
       "    </tr>\n",
       "    <tr>\n",
       "      <th>sunny</th>\n",
       "      <td>76.2</td>\n",
       "      <td>82.0</td>\n",
       "      <td>0.4</td>\n",
       "      <td>158.2</td>\n",
       "      <td>79.469540</td>\n",
       "    </tr>\n",
       "  </tbody>\n",
       "</table>\n",
       "</div>"
      ],
      "text/plain": [
       "          Temperature  Humidity  Windy  TempHumid  HeatIndex\n",
       "Outlook                                                     \n",
       "overcast         75.0      77.0    0.5      152.0  79.571853\n",
       "rain             69.8      81.2    0.4      151.0  70.129762\n",
       "sunny            76.2      82.0    0.4      158.2  79.469540"
      ]
     },
     "execution_count": 263,
     "metadata": {},
     "output_type": "execute_result"
    }
   ],
   "source": [
    "#Código:\n",
    "golf_df.groupby('Outlook').mean()\n"
   ]
  },
  {
   "cell_type": "markdown",
   "metadata": {},
   "source": [
    "### 35.- Calcular la temperatura Máxima en días windy y non-windy\n",
    "\n",
    "```python\n",
    "Windy\n",
    "False    85\n",
    "True     80\n",
    "```"
   ]
  },
  {
   "cell_type": "code",
   "execution_count": 270,
   "metadata": {},
   "outputs": [
    {
     "data": {
      "text/html": [
       "<div>\n",
       "<style scoped>\n",
       "    .dataframe tbody tr th:only-of-type {\n",
       "        vertical-align: middle;\n",
       "    }\n",
       "\n",
       "    .dataframe tbody tr th {\n",
       "        vertical-align: top;\n",
       "    }\n",
       "\n",
       "    .dataframe thead th {\n",
       "        text-align: right;\n",
       "    }\n",
       "</style>\n",
       "<table border=\"1\" class=\"dataframe\">\n",
       "  <thead>\n",
       "    <tr style=\"text-align: right;\">\n",
       "      <th></th>\n",
       "      <th>Temperature</th>\n",
       "    </tr>\n",
       "    <tr>\n",
       "      <th>Windy</th>\n",
       "      <th></th>\n",
       "    </tr>\n",
       "  </thead>\n",
       "  <tbody>\n",
       "    <tr>\n",
       "      <th>False</th>\n",
       "      <td>85</td>\n",
       "    </tr>\n",
       "    <tr>\n",
       "      <th>True</th>\n",
       "      <td>80</td>\n",
       "    </tr>\n",
       "  </tbody>\n",
       "</table>\n",
       "</div>"
      ],
      "text/plain": [
       "       Temperature\n",
       "Windy             \n",
       "False           85\n",
       "True            80"
      ]
     },
     "execution_count": 270,
     "metadata": {},
     "output_type": "execute_result"
    }
   ],
   "source": [
    "#Código:\n",
    "\n",
    "golf_df.groupby('Windy').max()[['Temperature']]\n"
   ]
  },
  {
   "cell_type": "markdown",
   "metadata": {},
   "source": [
    "Documentación de ayuda para groupby: http://pandas.pydata.org/pandas-docs/stable/groupby.html\n",
    "\n"
   ]
  },
  {
   "cell_type": "markdown",
   "metadata": {},
   "source": [
    "## Summaries"
   ]
  },
  {
   "cell_type": "markdown",
   "metadata": {},
   "source": [
    "`info` funciona para revisar los tipos de datos por columna y revisar al mismo tiempo si existen NaN's"
   ]
  },
  {
   "cell_type": "code",
   "execution_count": 271,
   "metadata": {},
   "outputs": [
    {
     "name": "stdout",
     "output_type": "stream",
     "text": [
      "<class 'pandas.core.frame.DataFrame'>\n",
      "RangeIndex: 14 entries, 0 to 13\n",
      "Data columns (total 9 columns):\n",
      " #   Column       Non-Null Count  Dtype  \n",
      "---  ------       --------------  -----  \n",
      " 0   Date         14 non-null     object \n",
      " 1   Outlook      14 non-null     object \n",
      " 2   Temperature  14 non-null     int64  \n",
      " 3   Humidity     14 non-null     int64  \n",
      " 4   Windy        14 non-null     bool   \n",
      " 5   Result       14 non-null     object \n",
      " 6   TempHumid    14 non-null     int64  \n",
      " 7   HeatIndex    14 non-null     float64\n",
      " 8   day          14 non-null     object \n",
      "dtypes: bool(1), float64(1), int64(3), object(4)\n",
      "memory usage: 1.0+ KB\n"
     ]
    }
   ],
   "source": [
    "golf_df.info()"
   ]
  },
  {
   "cell_type": "markdown",
   "metadata": {},
   "source": [
    "`describe` brinda un análisis descriptivo básico"
   ]
  },
  {
   "cell_type": "code",
   "execution_count": 272,
   "metadata": {},
   "outputs": [
    {
     "data": {
      "text/html": [
       "<div>\n",
       "<style scoped>\n",
       "    .dataframe tbody tr th:only-of-type {\n",
       "        vertical-align: middle;\n",
       "    }\n",
       "\n",
       "    .dataframe tbody tr th {\n",
       "        vertical-align: top;\n",
       "    }\n",
       "\n",
       "    .dataframe thead th {\n",
       "        text-align: right;\n",
       "    }\n",
       "</style>\n",
       "<table border=\"1\" class=\"dataframe\">\n",
       "  <thead>\n",
       "    <tr style=\"text-align: right;\">\n",
       "      <th></th>\n",
       "      <th>Temperature</th>\n",
       "      <th>Humidity</th>\n",
       "      <th>TempHumid</th>\n",
       "      <th>HeatIndex</th>\n",
       "    </tr>\n",
       "  </thead>\n",
       "  <tbody>\n",
       "    <tr>\n",
       "      <th>count</th>\n",
       "      <td>14.000000</td>\n",
       "      <td>14.000000</td>\n",
       "      <td>14.000000</td>\n",
       "      <td>14.000000</td>\n",
       "    </tr>\n",
       "    <tr>\n",
       "      <th>mean</th>\n",
       "      <td>73.571429</td>\n",
       "      <td>80.285714</td>\n",
       "      <td>153.857143</td>\n",
       "      <td>76.163137</td>\n",
       "    </tr>\n",
       "    <tr>\n",
       "      <th>std</th>\n",
       "      <td>6.571667</td>\n",
       "      <td>9.840486</td>\n",
       "      <td>13.242456</td>\n",
       "      <td>9.771440</td>\n",
       "    </tr>\n",
       "    <tr>\n",
       "      <th>min</th>\n",
       "      <td>64.000000</td>\n",
       "      <td>65.000000</td>\n",
       "      <td>129.000000</td>\n",
       "      <td>62.847024</td>\n",
       "    </tr>\n",
       "    <tr>\n",
       "      <th>25%</th>\n",
       "      <td>69.250000</td>\n",
       "      <td>71.250000</td>\n",
       "      <td>145.750000</td>\n",
       "      <td>69.439078</td>\n",
       "    </tr>\n",
       "    <tr>\n",
       "      <th>50%</th>\n",
       "      <td>72.000000</td>\n",
       "      <td>80.000000</td>\n",
       "      <td>155.500000</td>\n",
       "      <td>74.112513</td>\n",
       "    </tr>\n",
       "    <tr>\n",
       "      <th>75%</th>\n",
       "      <td>78.750000</td>\n",
       "      <td>88.750000</td>\n",
       "      <td>165.000000</td>\n",
       "      <td>82.352579</td>\n",
       "    </tr>\n",
       "    <tr>\n",
       "      <th>max</th>\n",
       "      <td>85.000000</td>\n",
       "      <td>96.000000</td>\n",
       "      <td>170.000000</td>\n",
       "      <td>98.004631</td>\n",
       "    </tr>\n",
       "  </tbody>\n",
       "</table>\n",
       "</div>"
      ],
      "text/plain": [
       "       Temperature   Humidity   TempHumid  HeatIndex\n",
       "count    14.000000  14.000000   14.000000  14.000000\n",
       "mean     73.571429  80.285714  153.857143  76.163137\n",
       "std       6.571667   9.840486   13.242456   9.771440\n",
       "min      64.000000  65.000000  129.000000  62.847024\n",
       "25%      69.250000  71.250000  145.750000  69.439078\n",
       "50%      72.000000  80.000000  155.500000  74.112513\n",
       "75%      78.750000  88.750000  165.000000  82.352579\n",
       "max      85.000000  96.000000  170.000000  98.004631"
      ]
     },
     "execution_count": 272,
     "metadata": {},
     "output_type": "execute_result"
    }
   ],
   "source": [
    "golf_df.describe()"
   ]
  },
  {
   "cell_type": "markdown",
   "metadata": {},
   "source": [
    "### 36.- Qué columna de wine_quality_white tiene la mayor desviación estándar?"
   ]
  },
  {
   "cell_type": "code",
   "execution_count": 278,
   "metadata": {},
   "outputs": [
    {
     "data": {
      "text/plain": [
       "'TempHumid'"
      ]
     },
     "execution_count": 278,
     "metadata": {},
     "output_type": "execute_result"
    }
   ],
   "source": [
    "#Código:\n",
    "\n",
    "golf_df.describe().loc['std'].idxmax();"
   ]
  },
  {
   "cell_type": "markdown",
   "metadata": {},
   "source": [
    "### 37.- Qué columnas son enteros en wine_quality_white?\n"
   ]
  },
  {
   "cell_type": "code",
   "execution_count": 295,
   "metadata": {},
   "outputs": [],
   "source": [
    "#Código:\n"
   ]
  },
  {
   "cell_type": "markdown",
   "metadata": {},
   "source": [
    "### 38.- Qué columna tiene el percentil 75 más bajo?"
   ]
  },
  {
   "cell_type": "code",
   "execution_count": null,
   "metadata": {},
   "outputs": [],
   "source": [
    "\n"
   ]
  },
  {
   "cell_type": "markdown",
   "metadata": {},
   "source": [
    "## Crosstab"
   ]
  },
  {
   "cell_type": "markdown",
   "metadata": {},
   "source": [
    "`crosstab` devuelve un conteo de frecuencia entre dos columnas"
   ]
  },
  {
   "cell_type": "code",
   "execution_count": 296,
   "metadata": {},
   "outputs": [
    {
     "data": {
      "text/html": [
       "<div>\n",
       "<style scoped>\n",
       "    .dataframe tbody tr th:only-of-type {\n",
       "        vertical-align: middle;\n",
       "    }\n",
       "\n",
       "    .dataframe tbody tr th {\n",
       "        vertical-align: top;\n",
       "    }\n",
       "\n",
       "    .dataframe thead th {\n",
       "        text-align: right;\n",
       "    }\n",
       "</style>\n",
       "<table border=\"1\" class=\"dataframe\">\n",
       "  <thead>\n",
       "    <tr style=\"text-align: right;\">\n",
       "      <th>Result</th>\n",
       "      <th>Don't Play</th>\n",
       "      <th>Play</th>\n",
       "    </tr>\n",
       "    <tr>\n",
       "      <th>Outlook</th>\n",
       "      <th></th>\n",
       "      <th></th>\n",
       "    </tr>\n",
       "  </thead>\n",
       "  <tbody>\n",
       "    <tr>\n",
       "      <th>overcast</th>\n",
       "      <td>0</td>\n",
       "      <td>4</td>\n",
       "    </tr>\n",
       "    <tr>\n",
       "      <th>rain</th>\n",
       "      <td>2</td>\n",
       "      <td>3</td>\n",
       "    </tr>\n",
       "    <tr>\n",
       "      <th>sunny</th>\n",
       "      <td>3</td>\n",
       "      <td>2</td>\n",
       "    </tr>\n",
       "  </tbody>\n",
       "</table>\n",
       "</div>"
      ],
      "text/plain": [
       "Result    Don't Play  Play\n",
       "Outlook                   \n",
       "overcast           0     4\n",
       "rain               2     3\n",
       "sunny              3     2"
      ]
     },
     "execution_count": 296,
     "metadata": {},
     "output_type": "execute_result"
    }
   ],
   "source": [
    "pd.crosstab(golf_df['Outlook'], golf_df['Result'])"
   ]
  },
  {
   "cell_type": "markdown",
   "metadata": {},
   "source": [
    "## DateTimes"
   ]
  },
  {
   "cell_type": "markdown",
   "metadata": {},
   "source": [
    "Para convertir cadenas de texto a una columna de tipo fecha se utiliza la función `to_datetime`"
   ]
  },
  {
   "cell_type": "code",
   "execution_count": 297,
   "metadata": {},
   "outputs": [
    {
     "data": {
      "text/plain": [
       "0    2014-07-01\n",
       "1    2014-07-02\n",
       "2    2014-07-03\n",
       "3    2014-07-04\n",
       "4    2014-07-05\n",
       "5    2014-07-06\n",
       "6    2014-07-07\n",
       "7    2014-07-08\n",
       "8    2014-07-09\n",
       "9    2014-07-10\n",
       "10   2014-07-11\n",
       "11   2014-07-12\n",
       "12   2014-07-13\n",
       "13   2014-07-14\n",
       "Name: DateTime, dtype: datetime64[ns]"
      ]
     },
     "execution_count": 297,
     "metadata": {},
     "output_type": "execute_result"
    }
   ],
   "source": [
    "golf_df['DateTime'] = pd.to_datetime(golf_df['Date'])\n",
    "golf_df['DateTime']"
   ]
  },
  {
   "cell_type": "markdown",
   "metadata": {},
   "source": [
    "`day` vs `dayofweek` "
   ]
  },
  {
   "cell_type": "code",
   "execution_count": 298,
   "metadata": {},
   "outputs": [
    {
     "data": {
      "text/plain": [
       "0      1\n",
       "1      2\n",
       "2      3\n",
       "3      4\n",
       "4      5\n",
       "5      6\n",
       "6      7\n",
       "7      8\n",
       "8      9\n",
       "9     10\n",
       "10    11\n",
       "11    12\n",
       "12    13\n",
       "13    14\n",
       "Name: DateTime, dtype: int64"
      ]
     },
     "execution_count": 298,
     "metadata": {},
     "output_type": "execute_result"
    }
   ],
   "source": [
    "golf_df['DateTime'].dt.day"
   ]
  },
  {
   "cell_type": "code",
   "execution_count": 299,
   "metadata": {},
   "outputs": [
    {
     "data": {
      "text/plain": [
       "0     1\n",
       "1     2\n",
       "2     3\n",
       "3     4\n",
       "4     5\n",
       "5     6\n",
       "6     0\n",
       "7     1\n",
       "8     2\n",
       "9     3\n",
       "10    4\n",
       "11    5\n",
       "12    6\n",
       "13    0\n",
       "Name: DateTime, dtype: int64"
      ]
     },
     "execution_count": 299,
     "metadata": {},
     "output_type": "execute_result"
    }
   ],
   "source": [
    "golf_df['DateTime'].dt.dayofweek"
   ]
  },
  {
   "cell_type": "markdown",
   "metadata": {},
   "source": [
    "Month"
   ]
  },
  {
   "cell_type": "code",
   "execution_count": 300,
   "metadata": {},
   "outputs": [
    {
     "data": {
      "text/plain": [
       "0     7\n",
       "1     7\n",
       "2     7\n",
       "3     7\n",
       "4     7\n",
       "5     7\n",
       "6     7\n",
       "7     7\n",
       "8     7\n",
       "9     7\n",
       "10    7\n",
       "11    7\n",
       "12    7\n",
       "13    7\n",
       "Name: DateTime, dtype: int64"
      ]
     },
     "execution_count": 300,
     "metadata": {},
     "output_type": "execute_result"
    }
   ],
   "source": [
    "golf_df['DateTime'].dt.month"
   ]
  },
  {
   "cell_type": "markdown",
   "metadata": {},
   "source": [
    "Operaciones"
   ]
  },
  {
   "cell_type": "code",
   "execution_count": 301,
   "metadata": {},
   "outputs": [
    {
     "data": {
      "text/plain": [
       "Timedelta('-5 days +00:00:00')"
      ]
     },
     "execution_count": 301,
     "metadata": {},
     "output_type": "execute_result"
    }
   ],
   "source": [
    "golf_df['DateTime'][0] - golf_df['DateTime'][5]"
   ]
  },
  {
   "cell_type": "code",
   "execution_count": 302,
   "metadata": {},
   "outputs": [
    {
     "data": {
      "text/plain": [
       "0    0 days\n",
       "1    0 days\n",
       "2    0 days\n",
       "3    0 days\n",
       "4    0 days\n",
       "5    0 days\n",
       "6    0 days\n",
       "7    0 days\n",
       "8    0 days\n",
       "9    0 days\n",
       "10   0 days\n",
       "11   0 days\n",
       "12   0 days\n",
       "13   0 days\n",
       "Name: DateTime, dtype: timedelta64[ns]"
      ]
     },
     "execution_count": 302,
     "metadata": {},
     "output_type": "execute_result"
    }
   ],
   "source": [
    "golf_df['DateTime'] - golf_df['DateTime']"
   ]
  },
  {
   "cell_type": "markdown",
   "metadata": {},
   "source": [
    "### 39.- Calcular el último día de la semana con y sin juego\n",
    "\n",
    "```python\n",
    "Result\n",
    "Don't Play    6\n",
    "Play          6\n",
    "Name: dayofweek, dtype: int64\n",
    "```"
   ]
  },
  {
   "cell_type": "code",
   "execution_count": 323,
   "metadata": {},
   "outputs": [
    {
     "data": {
      "text/plain": [
       "Result\n",
       "Don't Play    6\n",
       "Play          6\n",
       "Name: dayOfWeek, dtype: int64"
      ]
     },
     "execution_count": 323,
     "metadata": {},
     "output_type": "execute_result"
    }
   ],
   "source": [
    "#Código:\n",
    "golf_df['dayOfWeek'] = golf_df[\"DateTime\"].dt.dayofweek\n",
    "\n",
    "golf_df.groupby('Result').max(\"dayOfWeek\")[\"dayOfWeek\"]"
   ]
  },
  {
   "cell_type": "markdown",
   "metadata": {},
   "source": [
    "## Cambio de índice"
   ]
  },
  {
   "cell_type": "markdown",
   "metadata": {},
   "source": [
    "Para configurar una columna existente como índice"
   ]
  },
  {
   "cell_type": "code",
   "execution_count": null,
   "metadata": {},
   "outputs": [],
   "source": [
    "date_df = golf_df.set_index('DateTime')\n",
    "date_df"
   ]
  },
  {
   "cell_type": "code",
   "execution_count": null,
   "metadata": {},
   "outputs": [],
   "source": [
    "date_df.index"
   ]
  },
  {
   "cell_type": "markdown",
   "metadata": {},
   "source": [
    "Si el índice es de tipo datetime se puede utilizar `resample` para hacer agregaciones o cortes"
   ]
  },
  {
   "cell_type": "code",
   "execution_count": null,
   "metadata": {},
   "outputs": [],
   "source": [
    "# W de weekly.\n",
    "date_df.resample('W').mean()"
   ]
  },
  {
   "cell_type": "markdown",
   "metadata": {},
   "source": [
    "## Escribir Datos"
   ]
  },
  {
   "cell_type": "markdown",
   "metadata": {},
   "source": [
    "En un archivo csv.\n",
    "\n",
    "```python \n",
    ">>> golf_df.to_csv('new_playgolf.csv', index=False)\n",
    "\n",
    ">>> !cat new_playgolf.csv \n",
    "\n",
    "Date,Outlook,Temperature,Humidity,Windy,Result,TempHumid,HeatIndex,day,DateTime\n",
    "7/1/14,sunny,85,85,False,Don't Play,170,98.0046312500001,1,2014-07-01\n",
    "7/2/14,sunny,80,90,True,Don't Play,170,84.47439999999996,2,2014-07-02\n",
    "7/3/14,overcast,83,78,False,Play,161,89.66991075999985,3,2014-07-03\n",
    "7/4/14,rain,70,96,False,Play,166,62.84702400000019,4,2014-07-04\n",
    "7/5/14,rain,68,80,False,Play,148,69.08977600000006,5,2014-07-05\n",
    "7/6/14,rain,65,70,True,Don't Play,135,73.66802499999999,6,2014-07-06\n",
    "7/7/14,overcast,64,65,True,Play,129,75.9871160000001,7,2014-07-07\n",
    "7/8/14,sunny,72,95,False,Don't Play,167,66.2473960000001,8,2014-07-08\n",
    "7/9/14,sunny,69,70,False,Play,139,72.84364900000003,9,2014-07-09\n",
    "7/10/14,rain,75,80,False,Play,155,74.55700000000012,10,2014-07-10\n",
    "7/11/14,sunny,75,70,True,Play,145,75.777625,11,2014-07-11\n",
    "7/12/14,overcast,72,90,True,Play,162,68.10694399999996,12,2014-07-12\n",
    "7/13/14,overcast,81,75,False,Play,156,84.52344124999973,13,2014-07-13\n",
    "7/14/14,rain,71,80,True,Don't Play,151,70.48698400000002,14,2014-07-14\n",
    "```"
   ]
  },
  {
   "cell_type": "markdown",
   "metadata": {},
   "source": [
    "## Análisis Exploratorio de los Datos"
   ]
  },
  {
   "cell_type": "markdown",
   "metadata": {},
   "source": [
    "### 40.- Efectuar un Análisis Exploratorio (EDA)\n",
    "\n",
    "Abrir el archivo chess_games.csv y responder las siguientes preguntas en cuadros de código separados:\n",
    "\n",
    "1. ¿Cuántas filas de datos tiene?\n",
    "2. ¿Qué representa cada fila?\n",
    "3. ¿Quién ganó más, los blancos o los negros?\n",
    "4. ¿Cuántas jugadas por partida hay en promedio?\n",
    "5. ¿Cuál fue la \"primera jugada\" más probable?\n",
    "6. ¿Cuántas partidas terminan en jaque mate? (la alternativa es la rendición o el tiempo muerto)\n",
    "7. ¿Qué porcentaje de partidas es?\n",
    "8. ¿Cuánto duró la partida media?\n",
    "9. ¿Cuánto duró la partida media que ganaron las blancas? \n",
    "10. ¿Cuánto duró la partida media que fue un empate?\n",
    "11. ¿Qué es un código de incremento?\n",
    "12. Haz tres preguntas propias *por escrito*. Luego contéstalas. (escribimos nuestras preguntas porque si vuelves más tarde olvidarás qué pregunta estabas respondiendo)"
   ]
  },
  {
   "cell_type": "code",
   "execution_count": 326,
   "metadata": {},
   "outputs": [],
   "source": [
    "chess_df = pd.read_csv('C:/Users/NGALAZ/Documents/Repositorios/Review2-Files/chess_games.csv',delimiter=\",\")\n"
   ]
  },
  {
   "cell_type": "code",
   "execution_count": 328,
   "metadata": {},
   "outputs": [
    {
     "name": "stdout",
     "output_type": "stream",
     "text": [
      "20058\n"
     ]
    }
   ],
   "source": [
    "#¿Cuántas filas de datos tiene?\n",
    "print(chess_df.shape[0])"
   ]
  },
  {
   "cell_type": "code",
   "execution_count": 329,
   "metadata": {},
   "outputs": [],
   "source": [
    "#¿Qué representa cada fila?\n",
    "#R.- Representan las partidas jugadas"
   ]
  },
  {
   "cell_type": "code",
   "execution_count": 331,
   "metadata": {},
   "outputs": [
    {
     "data": {
      "text/plain": [
       "'Los negros ganaron más'"
      ]
     },
     "execution_count": 331,
     "metadata": {},
     "output_type": "execute_result"
    }
   ],
   "source": [
    "#¿Quién ganó más, los blancos o los negros?\n",
    "ganador = \"\"\n",
    "if chess_df[chess_df[\"winner\"]==\"white\"].shape[0] > chess_df[chess_df[\"winner\"]==\"black\"].shape[0]:\n",
    "    ganador = \"Los negros ganaron más\"\n",
    "else:\n",
    "    ganador= \"Los blancos ganaron más\"\n",
    "\n",
    "ganador"
   ]
  },
  {
   "cell_type": "code",
   "execution_count": 333,
   "metadata": {},
   "outputs": [
    {
     "name": "stdout",
     "output_type": "stream",
     "text": [
      "60.46599860404826\n"
     ]
    }
   ],
   "source": [
    "#¿Cuántas jugadas por partida hay en promedio?\n",
    "print(chess_df[\"turns\"].mean())\n"
   ]
  },
  {
   "cell_type": "code",
   "execution_count": 335,
   "metadata": {},
   "outputs": [
    {
     "name": "stdout",
     "output_type": "stream",
     "text": [
      "Zukertort Opening: Wade Defense\n"
     ]
    }
   ],
   "source": [
    "#¿Cuál fue la \"primera jugada\" más probable?\n",
    "print(chess_df[\"opening_name\"].max())\n"
   ]
  },
  {
   "cell_type": "code",
   "execution_count": 340,
   "metadata": {},
   "outputs": [],
   "source": [
    "total_partidas = chess_df.shape[0]\n",
    "total_partidas = chess_df.shape[0]\n",
    "partidas_jaque = chess_df[chess_df[\"victory_status\"]==\"mate\"].shape[0]\n",
    "partidas_rendicion = chess_df[chess_df[\"victory_status\"]==\"resign\"].shape[0]\n",
    "partidas_t_muerto = chess_df[chess_df[\"victory_status\"]==\"outoftime\"].shape[0]\n",
    "\n"
   ]
  },
  {
   "cell_type": "code",
   "execution_count": 343,
   "metadata": {},
   "outputs": [
    {
     "name": "stdout",
     "output_type": "stream",
     "text": [
      "6325\n"
     ]
    }
   ],
   "source": [
    "#¿Cuántas partidas terminan en jaque mate?\n",
    "print(partidas_jaque)\n"
   ]
  },
  {
   "cell_type": "code",
   "execution_count": 344,
   "metadata": {},
   "outputs": [
    {
     "name": "stdout",
     "output_type": "stream",
     "text": [
      "31.533552697178184\n"
     ]
    }
   ],
   "source": [
    "#¿Qué porcentaje de partidas es?\n",
    "print(partidas_jaque * 100.0 / total_partidas)"
   ]
  },
  {
   "cell_type": "code",
   "execution_count": 346,
   "metadata": {},
   "outputs": [
    {
     "name": "stdout",
     "output_type": "stream",
     "text": [
      "60.46599860404826\n"
     ]
    }
   ],
   "source": [
    "#¿Cuánto duró la partida media?\n",
    "print(chess_df[\"turns\"].mean())"
   ]
  },
  {
   "cell_type": "code",
   "execution_count": 347,
   "metadata": {},
   "outputs": [
    {
     "name": "stdout",
     "output_type": "stream",
     "text": [
      "57.79022097790221\n"
     ]
    }
   ],
   "source": [
    "#¿Cuánto duró la partida media que ganaron las blancas?\n",
    "print(chess_df[chess_df[\"winner\"]==\"white\"][\"turns\"].mean())"
   ]
  },
  {
   "cell_type": "code",
   "execution_count": 349,
   "metadata": {},
   "outputs": [
    {
     "name": "stdout",
     "output_type": "stream",
     "text": [
      "83.78145695364239\n"
     ]
    }
   ],
   "source": [
    "#¿Cuánto duró la partida media que fue un empate?\n",
    "print(chess_df[chess_df[\"victory_status\"]==\"draw\"][\"turns\"].mean())"
   ]
  },
  {
   "cell_type": "code",
   "execution_count": 350,
   "metadata": {},
   "outputs": [],
   "source": [
    "#¿Qué es un código de incremento?\n",
    "#R.-cantidad de tiempo que se agrega al reloj después de cada movimiento"
   ]
  },
  {
   "cell_type": "markdown",
   "metadata": {},
   "source": [
    "### 41.- Efectuar un análisis exploratorio\n",
    "\n",
    "Abrir el archivo exo.csv, https://exoplanetarchive.ipac.caltech.edu/docs/API_kepcandidate_columns.html y contestar las siguientes preguntas escribiendo headers, divisiones de celdas e identaciones necesarias\n",
    "\n",
    "1. ¿cuántas filas de datos tiene?\n",
    "2. ¿Qué representa cada fila?\n",
    "3. ¿Cuántos planetas están confirmados?\n",
    "4. ¿Cuál es la temperatura máxima de los planetas?\n",
    "5. ¿Cuál es la temperatura máxima de las estrellas?\n",
    "6. ¿Cuál es la distancia entre el planeta y la estrella?\n",
    "7. ¿Cuántos planetas hay en cada sistema?\n",
    "8. ¿Cuánto varía la temperatura de los planetas?\n",
    "9. ¿Cuánto varían las temperaturas de las estrellas?\n",
    "10. ¿Cuántos NaN hay en cada categoría?\n",
    "11. Haz tres preguntas propias *por escrito*. Luego contéstalas. (escribimos nuestras preguntas porque si vuelves más tarde olvidarás qué pregunta estabas respondiendo)"
   ]
  },
  {
   "cell_type": "code",
   "execution_count": 353,
   "metadata": {},
   "outputs": [],
   "source": [
    "planet_df = pd.read_csv('C:/Users/NGALAZ/Documents/Repositorios/Review2-Files/exo_planet.csv',delimiter=\",\")"
   ]
  },
  {
   "cell_type": "code",
   "execution_count": 357,
   "metadata": {},
   "outputs": [
    {
     "data": {
      "text/plain": [
       "9564"
      ]
     },
     "execution_count": 357,
     "metadata": {},
     "output_type": "execute_result"
    }
   ],
   "source": [
    "#¿cuántas filas de datos tiene?\n",
    "planet_df.shape[0]"
   ]
  },
  {
   "cell_type": "code",
   "execution_count": 359,
   "metadata": {},
   "outputs": [],
   "source": [
    "#¿Qué representa cada fila?\n",
    "#R.- representan planetas"
   ]
  },
  {
   "cell_type": "code",
   "execution_count": 366,
   "metadata": {},
   "outputs": [
    {
     "data": {
      "text/plain": [
       "2293"
      ]
     },
     "execution_count": 366,
     "metadata": {},
     "output_type": "execute_result"
    }
   ],
   "source": [
    "#¿Cuántos planetas están confirmados?\n",
    "planet_df[planet_df[\"koi_disposition\"]==\"CONFIRMED\"].shape[0]"
   ]
  },
  {
   "cell_type": "code",
   "execution_count": 371,
   "metadata": {},
   "outputs": [
    {
     "name": "stdout",
     "output_type": "stream",
     "text": [
      "14667.0  Grados Kelvin\n"
     ]
    }
   ],
   "source": [
    "#¿Cuál es la temperatura máxima de los planetas?\n",
    "print (planet_df[\"koi_teq\"].max(), \" Grados Kelvin\")"
   ]
  },
  {
   "cell_type": "code",
   "execution_count": 374,
   "metadata": {},
   "outputs": [
    {
     "name": "stdout",
     "output_type": "stream",
     "text": [
      "15896.0  Grados Kelvin\n"
     ]
    }
   ],
   "source": [
    "#¿Cuál es la temperatura máxima de las estrellas?\n",
    "print (planet_df[\"koi_steff\"].max(),\" Grados Kelvin\")"
   ]
  },
  {
   "cell_type": "code",
   "execution_count": 387,
   "metadata": {},
   "outputs": [
    {
     "data": {
      "text/html": [
       "<div>\n",
       "<style scoped>\n",
       "    .dataframe tbody tr th:only-of-type {\n",
       "        vertical-align: middle;\n",
       "    }\n",
       "\n",
       "    .dataframe tbody tr th {\n",
       "        vertical-align: top;\n",
       "    }\n",
       "\n",
       "    .dataframe thead th {\n",
       "        text-align: right;\n",
       "    }\n",
       "</style>\n",
       "<table border=\"1\" class=\"dataframe\">\n",
       "  <thead>\n",
       "    <tr style=\"text-align: right;\">\n",
       "      <th></th>\n",
       "      <th>koi_impact</th>\n",
       "    </tr>\n",
       "  </thead>\n",
       "  <tbody>\n",
       "    <tr>\n",
       "      <th>0</th>\n",
       "      <td>0.146</td>\n",
       "    </tr>\n",
       "    <tr>\n",
       "      <th>1</th>\n",
       "      <td>0.586</td>\n",
       "    </tr>\n",
       "    <tr>\n",
       "      <th>2</th>\n",
       "      <td>0.969</td>\n",
       "    </tr>\n",
       "    <tr>\n",
       "      <th>3</th>\n",
       "      <td>1.276</td>\n",
       "    </tr>\n",
       "    <tr>\n",
       "      <th>4</th>\n",
       "      <td>0.701</td>\n",
       "    </tr>\n",
       "    <tr>\n",
       "      <th>...</th>\n",
       "      <td>...</td>\n",
       "    </tr>\n",
       "    <tr>\n",
       "      <th>9559</th>\n",
       "      <td>0.765</td>\n",
       "    </tr>\n",
       "    <tr>\n",
       "      <th>9560</th>\n",
       "      <td>1.252</td>\n",
       "    </tr>\n",
       "    <tr>\n",
       "      <th>9561</th>\n",
       "      <td>0.043</td>\n",
       "    </tr>\n",
       "    <tr>\n",
       "      <th>9562</th>\n",
       "      <td>0.147</td>\n",
       "    </tr>\n",
       "    <tr>\n",
       "      <th>9563</th>\n",
       "      <td>0.134</td>\n",
       "    </tr>\n",
       "  </tbody>\n",
       "</table>\n",
       "<p>9564 rows × 1 columns</p>\n",
       "</div>"
      ],
      "text/plain": [
       "      koi_impact\n",
       "0          0.146\n",
       "1          0.586\n",
       "2          0.969\n",
       "3          1.276\n",
       "4          0.701\n",
       "...          ...\n",
       "9559       0.765\n",
       "9560       1.252\n",
       "9561       0.043\n",
       "9562       0.147\n",
       "9563       0.134\n",
       "\n",
       "[9564 rows x 1 columns]"
      ]
     },
     "execution_count": 387,
     "metadata": {},
     "output_type": "execute_result"
    }
   ],
   "source": [
    "#¿Cuál es la distancia entre el planeta y la estrella?\n",
    "planet_df[[\"koi_impact\"]]"
   ]
  },
  {
   "cell_type": "code",
   "execution_count": 396,
   "metadata": {},
   "outputs": [
    {
     "data": {
      "text/plain": [
       "kepid\n",
       "757450      1\n",
       "892772      1\n",
       "1025986     1\n",
       "1026032     1\n",
       "1026957     1\n",
       "           ..\n",
       "12833566    1\n",
       "12834874    1\n",
       "12835139    1\n",
       "12885212    2\n",
       "12935144    1\n",
       "Name: rowid, Length: 8214, dtype: int64"
      ]
     },
     "execution_count": 396,
     "metadata": {},
     "output_type": "execute_result"
    }
   ],
   "source": [
    "#¿Cuántos planetas hay en cada sistema?\n",
    "planet_df.groupby(\"kepid\").count()[\"rowid\"]"
   ]
  },
  {
   "cell_type": "code",
   "execution_count": 398,
   "metadata": {},
   "outputs": [
    {
     "data": {
      "text/plain": [
       "856.3511614828553"
      ]
     },
     "execution_count": 398,
     "metadata": {},
     "output_type": "execute_result"
    }
   ],
   "source": [
    "#¿Cuánto varía la temperatura de los planetas?\n",
    "planet_df[\"koi_teq\"].std()"
   ]
  },
  {
   "cell_type": "code",
   "execution_count": 399,
   "metadata": {},
   "outputs": [
    {
     "data": {
      "text/plain": [
       "796.857947398336"
      ]
     },
     "execution_count": 399,
     "metadata": {},
     "output_type": "execute_result"
    }
   ],
   "source": [
    "#¿Cuánto varía la temperatura de los estrellas?\n",
    "planet_df[\"koi_steff\"].std()"
   ]
  },
  {
   "cell_type": "code",
   "execution_count": 405,
   "metadata": {},
   "outputs": [
    {
     "data": {
      "text/plain": [
       "rowid                   0\n",
       "kepid                   0\n",
       "kepoi_name              0\n",
       "kepler_name          7270\n",
       "koi_disposition         0\n",
       "koi_pdisposition        0\n",
       "koi_score            1510\n",
       "koi_fpflag_nt           0\n",
       "koi_fpflag_ss           0\n",
       "koi_fpflag_co           0\n",
       "koi_fpflag_ec           0\n",
       "koi_period              0\n",
       "koi_period_err1       454\n",
       "koi_period_err2       454\n",
       "koi_time0bk             0\n",
       "koi_time0bk_err1      454\n",
       "koi_time0bk_err2      454\n",
       "koi_impact            363\n",
       "koi_impact_err1       454\n",
       "koi_impact_err2       454\n",
       "koi_duration            0\n",
       "koi_duration_err1     454\n",
       "koi_duration_err2     454\n",
       "koi_depth             363\n",
       "koi_depth_err1        454\n",
       "koi_depth_err2        454\n",
       "koi_prad              363\n",
       "koi_prad_err1         363\n",
       "koi_prad_err2         363\n",
       "koi_teq               363\n",
       "koi_teq_err1         9564\n",
       "koi_teq_err2         9564\n",
       "koi_insol             321\n",
       "koi_insol_err1        321\n",
       "koi_insol_err2        321\n",
       "koi_model_snr         363\n",
       "koi_tce_plnt_num      346\n",
       "koi_tce_delivname     346\n",
       "koi_steff             363\n",
       "koi_steff_err1        468\n",
       "koi_steff_err2        483\n",
       "koi_slogg             363\n",
       "koi_slogg_err1        468\n",
       "koi_slogg_err2        468\n",
       "koi_srad              363\n",
       "koi_srad_err1         468\n",
       "koi_srad_err2         468\n",
       "ra                      0\n",
       "dec                     0\n",
       "koi_kepmag              1\n",
       "dtype: int64"
      ]
     },
     "execution_count": 405,
     "metadata": {},
     "output_type": "execute_result"
    }
   ],
   "source": [
    "#¿Cuántos NaN hay en cada categoría?\n",
    "planet_df.isna().sum()"
   ]
  },
  {
   "cell_type": "markdown",
   "metadata": {},
   "source": [
    "## Unión de DataFrames\n",
    "\n",
    "Es posible unir DataFrames como se haría en SQL."
   ]
  },
  {
   "cell_type": "markdown",
   "metadata": {},
   "source": [
    "Ejemplo"
   ]
  },
  {
   "cell_type": "code",
   "execution_count": 406,
   "metadata": {},
   "outputs": [
    {
     "data": {
      "text/html": [
       "<div>\n",
       "<style scoped>\n",
       "    .dataframe tbody tr th:only-of-type {\n",
       "        vertical-align: middle;\n",
       "    }\n",
       "\n",
       "    .dataframe tbody tr th {\n",
       "        vertical-align: top;\n",
       "    }\n",
       "\n",
       "    .dataframe thead th {\n",
       "        text-align: right;\n",
       "    }\n",
       "</style>\n",
       "<table border=\"1\" class=\"dataframe\">\n",
       "  <thead>\n",
       "    <tr style=\"text-align: right;\">\n",
       "      <th></th>\n",
       "      <th>Weather</th>\n",
       "      <th>Mood</th>\n",
       "    </tr>\n",
       "  </thead>\n",
       "  <tbody>\n",
       "    <tr>\n",
       "      <th>0</th>\n",
       "      <td>overcast</td>\n",
       "      <td>sad</td>\n",
       "    </tr>\n",
       "    <tr>\n",
       "      <th>1</th>\n",
       "      <td>rainy</td>\n",
       "      <td>sad</td>\n",
       "    </tr>\n",
       "    <tr>\n",
       "      <th>2</th>\n",
       "      <td>sunny</td>\n",
       "      <td>happy</td>\n",
       "    </tr>\n",
       "  </tbody>\n",
       "</table>\n",
       "</div>"
      ],
      "text/plain": [
       "    Weather   Mood\n",
       "0  overcast    sad\n",
       "1     rainy    sad\n",
       "2     sunny  happy"
      ]
     },
     "execution_count": 406,
     "metadata": {},
     "output_type": "execute_result"
    }
   ],
   "source": [
    "mood_df = pd.DataFrame([['overcast', 'sad'], ['rainy', 'sad'], ['sunny', 'happy']],\n",
    "                       columns=['Weather', 'Mood'])\n",
    "\n",
    "mood_df"
   ]
  },
  {
   "cell_type": "code",
   "execution_count": 407,
   "metadata": {},
   "outputs": [
    {
     "data": {
      "text/html": [
       "<div>\n",
       "<style scoped>\n",
       "    .dataframe tbody tr th:only-of-type {\n",
       "        vertical-align: middle;\n",
       "    }\n",
       "\n",
       "    .dataframe tbody tr th {\n",
       "        vertical-align: top;\n",
       "    }\n",
       "\n",
       "    .dataframe thead th {\n",
       "        text-align: right;\n",
       "    }\n",
       "</style>\n",
       "<table border=\"1\" class=\"dataframe\">\n",
       "  <thead>\n",
       "    <tr style=\"text-align: right;\">\n",
       "      <th></th>\n",
       "      <th>Date</th>\n",
       "      <th>Outlook</th>\n",
       "      <th>Temperature</th>\n",
       "      <th>Humidity</th>\n",
       "      <th>Windy</th>\n",
       "      <th>Result</th>\n",
       "      <th>TempHumid</th>\n",
       "      <th>HeatIndex</th>\n",
       "      <th>day</th>\n",
       "      <th>DateTime</th>\n",
       "      <th>dayOfWeek</th>\n",
       "      <th>Weather</th>\n",
       "      <th>Mood</th>\n",
       "    </tr>\n",
       "  </thead>\n",
       "  <tbody>\n",
       "    <tr>\n",
       "      <th>0</th>\n",
       "      <td>7/1/14</td>\n",
       "      <td>sunny</td>\n",
       "      <td>85</td>\n",
       "      <td>85</td>\n",
       "      <td>False</td>\n",
       "      <td>Don't Play</td>\n",
       "      <td>170</td>\n",
       "      <td>98.004631</td>\n",
       "      <td>1</td>\n",
       "      <td>2014-07-01</td>\n",
       "      <td>1</td>\n",
       "      <td>sunny</td>\n",
       "      <td>happy</td>\n",
       "    </tr>\n",
       "    <tr>\n",
       "      <th>1</th>\n",
       "      <td>7/2/14</td>\n",
       "      <td>sunny</td>\n",
       "      <td>80</td>\n",
       "      <td>90</td>\n",
       "      <td>True</td>\n",
       "      <td>Don't Play</td>\n",
       "      <td>170</td>\n",
       "      <td>84.474400</td>\n",
       "      <td>2</td>\n",
       "      <td>2014-07-02</td>\n",
       "      <td>2</td>\n",
       "      <td>sunny</td>\n",
       "      <td>happy</td>\n",
       "    </tr>\n",
       "    <tr>\n",
       "      <th>2</th>\n",
       "      <td>7/8/14</td>\n",
       "      <td>sunny</td>\n",
       "      <td>72</td>\n",
       "      <td>95</td>\n",
       "      <td>False</td>\n",
       "      <td>Don't Play</td>\n",
       "      <td>167</td>\n",
       "      <td>66.247396</td>\n",
       "      <td>8</td>\n",
       "      <td>2014-07-08</td>\n",
       "      <td>1</td>\n",
       "      <td>sunny</td>\n",
       "      <td>happy</td>\n",
       "    </tr>\n",
       "    <tr>\n",
       "      <th>3</th>\n",
       "      <td>7/9/14</td>\n",
       "      <td>sunny</td>\n",
       "      <td>69</td>\n",
       "      <td>70</td>\n",
       "      <td>False</td>\n",
       "      <td>Play</td>\n",
       "      <td>139</td>\n",
       "      <td>72.843649</td>\n",
       "      <td>9</td>\n",
       "      <td>2014-07-09</td>\n",
       "      <td>2</td>\n",
       "      <td>sunny</td>\n",
       "      <td>happy</td>\n",
       "    </tr>\n",
       "    <tr>\n",
       "      <th>4</th>\n",
       "      <td>7/11/14</td>\n",
       "      <td>sunny</td>\n",
       "      <td>75</td>\n",
       "      <td>70</td>\n",
       "      <td>True</td>\n",
       "      <td>Play</td>\n",
       "      <td>145</td>\n",
       "      <td>75.777625</td>\n",
       "      <td>11</td>\n",
       "      <td>2014-07-11</td>\n",
       "      <td>4</td>\n",
       "      <td>sunny</td>\n",
       "      <td>happy</td>\n",
       "    </tr>\n",
       "    <tr>\n",
       "      <th>5</th>\n",
       "      <td>7/3/14</td>\n",
       "      <td>overcast</td>\n",
       "      <td>83</td>\n",
       "      <td>78</td>\n",
       "      <td>False</td>\n",
       "      <td>Play</td>\n",
       "      <td>161</td>\n",
       "      <td>89.669911</td>\n",
       "      <td>3</td>\n",
       "      <td>2014-07-03</td>\n",
       "      <td>3</td>\n",
       "      <td>overcast</td>\n",
       "      <td>sad</td>\n",
       "    </tr>\n",
       "    <tr>\n",
       "      <th>6</th>\n",
       "      <td>7/7/14</td>\n",
       "      <td>overcast</td>\n",
       "      <td>64</td>\n",
       "      <td>65</td>\n",
       "      <td>True</td>\n",
       "      <td>Play</td>\n",
       "      <td>129</td>\n",
       "      <td>75.987116</td>\n",
       "      <td>7</td>\n",
       "      <td>2014-07-07</td>\n",
       "      <td>0</td>\n",
       "      <td>overcast</td>\n",
       "      <td>sad</td>\n",
       "    </tr>\n",
       "    <tr>\n",
       "      <th>7</th>\n",
       "      <td>7/12/14</td>\n",
       "      <td>overcast</td>\n",
       "      <td>72</td>\n",
       "      <td>90</td>\n",
       "      <td>True</td>\n",
       "      <td>Play</td>\n",
       "      <td>162</td>\n",
       "      <td>68.106944</td>\n",
       "      <td>12</td>\n",
       "      <td>2014-07-12</td>\n",
       "      <td>5</td>\n",
       "      <td>overcast</td>\n",
       "      <td>sad</td>\n",
       "    </tr>\n",
       "    <tr>\n",
       "      <th>8</th>\n",
       "      <td>7/13/14</td>\n",
       "      <td>overcast</td>\n",
       "      <td>81</td>\n",
       "      <td>75</td>\n",
       "      <td>False</td>\n",
       "      <td>Play</td>\n",
       "      <td>156</td>\n",
       "      <td>84.523441</td>\n",
       "      <td>13</td>\n",
       "      <td>2014-07-13</td>\n",
       "      <td>6</td>\n",
       "      <td>overcast</td>\n",
       "      <td>sad</td>\n",
       "    </tr>\n",
       "  </tbody>\n",
       "</table>\n",
       "</div>"
      ],
      "text/plain": [
       "      Date   Outlook  Temperature  Humidity  Windy      Result  TempHumid  \\\n",
       "0   7/1/14     sunny           85        85  False  Don't Play        170   \n",
       "1   7/2/14     sunny           80        90   True  Don't Play        170   \n",
       "2   7/8/14     sunny           72        95  False  Don't Play        167   \n",
       "3   7/9/14     sunny           69        70  False        Play        139   \n",
       "4  7/11/14     sunny           75        70   True        Play        145   \n",
       "5   7/3/14  overcast           83        78  False        Play        161   \n",
       "6   7/7/14  overcast           64        65   True        Play        129   \n",
       "7  7/12/14  overcast           72        90   True        Play        162   \n",
       "8  7/13/14  overcast           81        75  False        Play        156   \n",
       "\n",
       "   HeatIndex day   DateTime  dayOfWeek   Weather   Mood  \n",
       "0  98.004631   1 2014-07-01          1     sunny  happy  \n",
       "1  84.474400   2 2014-07-02          2     sunny  happy  \n",
       "2  66.247396   8 2014-07-08          1     sunny  happy  \n",
       "3  72.843649   9 2014-07-09          2     sunny  happy  \n",
       "4  75.777625  11 2014-07-11          4     sunny  happy  \n",
       "5  89.669911   3 2014-07-03          3  overcast    sad  \n",
       "6  75.987116   7 2014-07-07          0  overcast    sad  \n",
       "7  68.106944  12 2014-07-12          5  overcast    sad  \n",
       "8  84.523441  13 2014-07-13          6  overcast    sad  "
      ]
     },
     "execution_count": 407,
     "metadata": {},
     "output_type": "execute_result"
    }
   ],
   "source": [
    "golf_df.merge(mood_df, how='inner', left_on='Outlook', right_on='Weather')"
   ]
  },
  {
   "cell_type": "markdown",
   "metadata": {},
   "source": [
    "## Concatenar\n",
    "\n",
    "Este método es equivalente a una unión de SQL"
   ]
  },
  {
   "cell_type": "code",
   "execution_count": 408,
   "metadata": {},
   "outputs": [],
   "source": [
    "df1 = pd.DataFrame(\n",
    "    {'Col3': range(5), 'Col2': range(5), 'Col1': range(5)},\n",
    "    index=range(0, 5))\n",
    "df2 = pd.DataFrame(\n",
    "    {'Col1': range(5), 'Col2': range(5), 'Col4': range(5)},\n",
    "    index=range(3, 8))"
   ]
  },
  {
   "cell_type": "code",
   "execution_count": 409,
   "metadata": {},
   "outputs": [
    {
     "data": {
      "text/html": [
       "<div>\n",
       "<style scoped>\n",
       "    .dataframe tbody tr th:only-of-type {\n",
       "        vertical-align: middle;\n",
       "    }\n",
       "\n",
       "    .dataframe tbody tr th {\n",
       "        vertical-align: top;\n",
       "    }\n",
       "\n",
       "    .dataframe thead th {\n",
       "        text-align: right;\n",
       "    }\n",
       "</style>\n",
       "<table border=\"1\" class=\"dataframe\">\n",
       "  <thead>\n",
       "    <tr style=\"text-align: right;\">\n",
       "      <th></th>\n",
       "      <th>Col3</th>\n",
       "      <th>Col2</th>\n",
       "      <th>Col1</th>\n",
       "    </tr>\n",
       "  </thead>\n",
       "  <tbody>\n",
       "    <tr>\n",
       "      <th>0</th>\n",
       "      <td>0</td>\n",
       "      <td>0</td>\n",
       "      <td>0</td>\n",
       "    </tr>\n",
       "    <tr>\n",
       "      <th>1</th>\n",
       "      <td>1</td>\n",
       "      <td>1</td>\n",
       "      <td>1</td>\n",
       "    </tr>\n",
       "    <tr>\n",
       "      <th>2</th>\n",
       "      <td>2</td>\n",
       "      <td>2</td>\n",
       "      <td>2</td>\n",
       "    </tr>\n",
       "    <tr>\n",
       "      <th>3</th>\n",
       "      <td>3</td>\n",
       "      <td>3</td>\n",
       "      <td>3</td>\n",
       "    </tr>\n",
       "    <tr>\n",
       "      <th>4</th>\n",
       "      <td>4</td>\n",
       "      <td>4</td>\n",
       "      <td>4</td>\n",
       "    </tr>\n",
       "  </tbody>\n",
       "</table>\n",
       "</div>"
      ],
      "text/plain": [
       "   Col3  Col2  Col1\n",
       "0     0     0     0\n",
       "1     1     1     1\n",
       "2     2     2     2\n",
       "3     3     3     3\n",
       "4     4     4     4"
      ]
     },
     "execution_count": 409,
     "metadata": {},
     "output_type": "execute_result"
    }
   ],
   "source": [
    "df1"
   ]
  },
  {
   "cell_type": "code",
   "execution_count": 410,
   "metadata": {},
   "outputs": [
    {
     "data": {
      "text/html": [
       "<div>\n",
       "<style scoped>\n",
       "    .dataframe tbody tr th:only-of-type {\n",
       "        vertical-align: middle;\n",
       "    }\n",
       "\n",
       "    .dataframe tbody tr th {\n",
       "        vertical-align: top;\n",
       "    }\n",
       "\n",
       "    .dataframe thead th {\n",
       "        text-align: right;\n",
       "    }\n",
       "</style>\n",
       "<table border=\"1\" class=\"dataframe\">\n",
       "  <thead>\n",
       "    <tr style=\"text-align: right;\">\n",
       "      <th></th>\n",
       "      <th>Col1</th>\n",
       "      <th>Col2</th>\n",
       "      <th>Col4</th>\n",
       "    </tr>\n",
       "  </thead>\n",
       "  <tbody>\n",
       "    <tr>\n",
       "      <th>3</th>\n",
       "      <td>0</td>\n",
       "      <td>0</td>\n",
       "      <td>0</td>\n",
       "    </tr>\n",
       "    <tr>\n",
       "      <th>4</th>\n",
       "      <td>1</td>\n",
       "      <td>1</td>\n",
       "      <td>1</td>\n",
       "    </tr>\n",
       "    <tr>\n",
       "      <th>5</th>\n",
       "      <td>2</td>\n",
       "      <td>2</td>\n",
       "      <td>2</td>\n",
       "    </tr>\n",
       "    <tr>\n",
       "      <th>6</th>\n",
       "      <td>3</td>\n",
       "      <td>3</td>\n",
       "      <td>3</td>\n",
       "    </tr>\n",
       "    <tr>\n",
       "      <th>7</th>\n",
       "      <td>4</td>\n",
       "      <td>4</td>\n",
       "      <td>4</td>\n",
       "    </tr>\n",
       "  </tbody>\n",
       "</table>\n",
       "</div>"
      ],
      "text/plain": [
       "   Col1  Col2  Col4\n",
       "3     0     0     0\n",
       "4     1     1     1\n",
       "5     2     2     2\n",
       "6     3     3     3\n",
       "7     4     4     4"
      ]
     },
     "execution_count": 410,
     "metadata": {},
     "output_type": "execute_result"
    }
   ],
   "source": [
    "df2"
   ]
  },
  {
   "cell_type": "markdown",
   "metadata": {},
   "source": [
    "#### Vertical\n",
    "`sort` controla el orden de las columnas"
   ]
  },
  {
   "cell_type": "code",
   "execution_count": null,
   "metadata": {},
   "outputs": [],
   "source": [
    "pd.concat([df1, df2], axis=0, join='outer', sort=True)"
   ]
  },
  {
   "cell_type": "markdown",
   "metadata": {},
   "source": [
    "`inner` limita las columnas de ambas entradas"
   ]
  },
  {
   "cell_type": "code",
   "execution_count": null,
   "metadata": {},
   "outputs": [],
   "source": [
    "pd.concat([df1, df2], axis=0, join='inner', sort=True)"
   ]
  },
  {
   "cell_type": "markdown",
   "metadata": {},
   "source": [
    "#### Horizontal"
   ]
  },
  {
   "cell_type": "code",
   "execution_count": null,
   "metadata": {},
   "outputs": [],
   "source": [
    "pd.concat([df1, df2], axis=1)"
   ]
  },
  {
   "cell_type": "markdown",
   "metadata": {},
   "source": [
    "**Extra:** Por qué algunos números son flotantes y otros no?"
   ]
  },
  {
   "cell_type": "markdown",
   "metadata": {},
   "source": [
    "Documentación: https://pandas.pydata.org/pandas-docs/stable/merging.html"
   ]
  },
  {
   "cell_type": "code",
   "execution_count": null,
   "metadata": {},
   "outputs": [],
   "source": []
  }
 ],
 "metadata": {
  "anaconda-cloud": {},
  "kernelspec": {
   "display_name": "Python 3 (ipykernel)",
   "language": "python",
   "name": "python3"
  },
  "language_info": {
   "codemirror_mode": {
    "name": "ipython",
    "version": 3
   },
   "file_extension": ".py",
   "mimetype": "text/x-python",
   "name": "python",
   "nbconvert_exporter": "python",
   "pygments_lexer": "ipython3",
   "version": "3.9.12"
  },
  "toc": {
   "base_numbering": 1,
   "nav_menu": {},
   "number_sections": true,
   "sideBar": true,
   "skip_h1_title": false,
   "title_cell": "Table of Contents",
   "title_sidebar": "Contents",
   "toc_cell": false,
   "toc_position": {
    "height": "calc(100% - 180px)",
    "left": "10px",
    "top": "150px",
    "width": "256px"
   },
   "toc_section_display": true,
   "toc_window_display": true
  }
 },
 "nbformat": 4,
 "nbformat_minor": 4
}
