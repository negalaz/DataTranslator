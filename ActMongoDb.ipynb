{
 "cells": [
  {
   "cell_type": "code",
   "execution_count": 28,
   "id": "479e0bbc",
   "metadata": {},
   "outputs": [],
   "source": [
    "import pymongo \n",
    "import pandas as pd"
   ]
  },
  {
   "cell_type": "code",
   "execution_count": 4,
   "id": "0fbed68e",
   "metadata": {},
   "outputs": [
    {
     "name": "stdout",
     "output_type": "stream",
     "text": [
      "{'version': '6.0.2', 'gitVersion': '94fb7dfc8b974f1f5343e7ea394d0d9deedba50e', 'targetMinOS': 'Windows 7/Windows Server 2008 R2', 'modules': [], 'allocator': 'tcmalloc', 'javascriptEngine': 'mozjs', 'sysInfo': 'deprecated', 'versionArray': [6, 0, 2, 0], 'openssl': {'running': 'Windows SChannel'}, 'buildEnvironment': {'distmod': 'windows', 'distarch': 'x86_64', 'cc': 'cl: Microsoft (R) C/C++ Optimizing Compiler Version 19.31.31107 for x64', 'ccflags': '/nologo /WX /FImongo/platform/basic.h /fp:strict /EHsc /W3 /wd4068 /wd4244 /wd4267 /wd4290 /wd4351 /wd4355 /wd4373 /wd4800 /wd4251 /wd4291 /we4013 /we4099 /we4930 /errorReport:none /MD /O2 /Oy- /bigobj /utf-8 /permissive- /Zc:__cplusplus /Zc:sizedDealloc /volatile:iso /diagnostics:caret /std:c++17 /Gw /Gy /Zc:inline', 'cxx': 'cl: Microsoft (R) C/C++ Optimizing Compiler Version 19.31.31107 for x64', 'cxxflags': '/TP', 'linkflags': '/nologo /DEBUG /INCREMENTAL:NO /LARGEADDRESSAWARE /OPT:REF', 'target_arch': 'x86_64', 'target_os': 'windows', 'cppdefines': 'SAFEINT_USE_INTRINSICS 0 PCRE_STATIC NDEBUG BOOST_ALL_NO_LIB _UNICODE UNICODE _SILENCE_CXX17_ALLOCATOR_VOID_DEPRECATION_WARNING _SILENCE_CXX17_OLD_ALLOCATOR_MEMBERS_DEPRECATION_WARNING _SILENCE_CXX17_CODECVT_HEADER_DEPRECATION_WARNING _SILENCE_ALL_CXX20_DEPRECATION_WARNINGS _CONSOLE _CRT_SECURE_NO_WARNINGS _ENABLE_EXTENDED_ALIGNED_STORAGE _SCL_SECURE_NO_WARNINGS _WIN32_WINNT 0x0A00 BOOST_USE_WINAPI_VERSION 0x0A00 NTDDI_VERSION 0x0A000000 BOOST_THREAD_VERSION 5 BOOST_THREAD_USES_DATETIME BOOST_SYSTEM_NO_DEPRECATED BOOST_MATH_NO_LONG_DOUBLE_MATH_FUNCTIONS BOOST_ENABLE_ASSERT_DEBUG_HANDLER BOOST_LOG_NO_SHORTHAND_NAMES BOOST_LOG_USE_NATIVE_SYSLOG BOOST_LOG_WITHOUT_THREAD_ATTR ABSL_FORCE_ALIGNED_ACCESS'}, 'bits': 64, 'debug': False, 'maxBsonObjectSize': 16777216, 'storageEngines': ['devnull', 'ephemeralForTest', 'wiredTiger'], 'ok': 1.0}\n"
     ]
    }
   ],
   "source": [
    "conn_str = \"mongodb://localhost:27017\"\n",
    "client = pymongo.MongoClient(conn_str,serverSelectionTimeoutMS=5000)\n",
    "try:\n",
    "    print(client.server_info())\n",
    "except Exception:\n",
    "    print(\"No conectado\")"
   ]
  },
  {
   "cell_type": "code",
   "execution_count": 56,
   "id": "6afc3ce6",
   "metadata": {},
   "outputs": [],
   "source": [
    "db = client[\"actMongoDb\"]\n",
    "clics = db[\"Clics\"]\n",
    "tweets=db[\"Tweets\"]"
   ]
  },
  {
   "cell_type": "code",
   "execution_count": 27,
   "id": "ece1353f",
   "metadata": {},
   "outputs": [
    {
     "name": "stdout",
     "output_type": "stream",
     "text": [
      "{'_id': ObjectId('6386954e1a5173884db15ed4'), 'a': 'UCWEB/2.0 (Linux; U; Adr 4.1.1; en-US; GT-P3100) U2/1.0.0 UCBrowser/8.2.0.242 U2/1.0.0 Mobile'}\n",
      "{'_id': ObjectId('6386954e1a5173884db15ed1'), 'a': 'Opera/9.80 (VRE; Opera Mini/4.2/29.3594; U; en) Presto/2.8.119 Version/11.10'}\n",
      "{'_id': ObjectId('6386954e1a5173884db15ecf')}\n"
     ]
    }
   ],
   "source": [
    "\"\"\"Seleccionar las columnas “_id”, “a”, y “cy” de clics\n",
    "    Ordenar por cy en orden descendente\n",
    "    Obtener sólo 3 filas\n",
    "    Omitir la primera\n",
    "\"\"\" \n",
    "\n",
    "qry = clics.find({},{\"a\":1,\"cy\":1}).sort(\"cy\").limit(3)\n",
    "\n",
    "for x in qry:\n",
    "    print(x)"
   ]
  },
  {
   "cell_type": "code",
   "execution_count": 35,
   "id": "99e078a9",
   "metadata": {},
   "outputs": [
    {
     "name": "stdout",
     "output_type": "stream",
     "text": [
      "0      0 Opera/9.80 (J2ME/MIDP; Opera Mini/6.5.27891/...\n",
      "1      BlackBerry8520/5.0.0.1075 Profile/MIDP-2.1 Con...\n",
      "2      BlackBerry8520/5.0.0.592 Profile/MIDP-2.1 Conf...\n",
      "3      BlackBerry8520/5.0.0.592 Profile/MIDP-2.1 Conf...\n",
      "4      BlackBerry8900/5.0.0.1036 Profile/MIDP-2.1 Con...\n",
      "                             ...                        \n",
      "554                               Xenu Link Sleuth/1.3.8\n",
      "555    Yes Streamer 1.5.7.2 Indexer (powered by TVers...\n",
      "556    findlinks/2.6 (+http://wortschatz.uni-leipzig....\n",
      "557    iCoreService (unknown version) CFNetwork/520.5...\n",
      "558    ichiro/3.0 (http://search.goo.ne.jp/option/use...\n",
      "Length: 559, dtype: object\n"
     ]
    }
   ],
   "source": [
    "\"\"\"Crear una serie con todos los valores únicos de “a”.\"\"\"\n",
    "cursor_a = clics.find({},{\"a\":1}).distinct(\"a\")\n",
    "serie_a = pd.Series(list(cursor_a))\n"
   ]
  },
  {
   "cell_type": "code",
   "execution_count": 36,
   "id": "ab17ba95",
   "metadata": {},
   "outputs": [
    {
     "data": {
      "text/html": [
       "<div>\n",
       "<style scoped>\n",
       "    .dataframe tbody tr th:only-of-type {\n",
       "        vertical-align: middle;\n",
       "    }\n",
       "\n",
       "    .dataframe tbody tr th {\n",
       "        vertical-align: top;\n",
       "    }\n",
       "\n",
       "    .dataframe thead th {\n",
       "        text-align: right;\n",
       "    }\n",
       "</style>\n",
       "<table border=\"1\" class=\"dataframe\">\n",
       "  <thead>\n",
       "    <tr style=\"text-align: right;\">\n",
       "      <th></th>\n",
       "      <th>a</th>\n",
       "    </tr>\n",
       "  </thead>\n",
       "  <tbody>\n",
       "    <tr>\n",
       "      <th>0</th>\n",
       "      <td>2830</td>\n",
       "    </tr>\n",
       "  </tbody>\n",
       "</table>\n",
       "</div>"
      ],
      "text/plain": [
       "      a\n",
       "0  2830"
      ]
     },
     "execution_count": 36,
     "metadata": {},
     "output_type": "execute_result"
    }
   ],
   "source": [
    "\"\"\"\"Contar los usuarios de Opera y Mozilla utilizando el campo \"a\"\n",
    "Crear una serie a partir de los resultados\n",
    "\"\"\"\n",
    "\n",
    "Usr_Mozilla_Opera = pd.DataFrame(clics.aggregate([\n",
    "    {\n",
    "        \"$match\":{\n",
    "            \"$or\":[ {\"a\":{\"$regex\":\"Opera\"}}\n",
    "                   ,{\"a\":{\"$regex\":\"Mozilla\"}}\n",
    "                  ]\n",
    "        }\n",
    "    },\n",
    "    {\"$count\":\"a\"}\n",
    "]))\n",
    "\n",
    "Usr_Mozilla_Opera"
   ]
  },
  {
   "cell_type": "code",
   "execution_count": 52,
   "id": "bae7a6c6",
   "metadata": {},
   "outputs": [
    {
     "data": {
      "text/plain": [
       "1278"
      ]
     },
     "execution_count": 52,
     "metadata": {},
     "output_type": "execute_result"
    }
   ],
   "source": [
    "'''Encontrar cuantos usuarios hablan inglés'''\n",
    "\n",
    "usr_ingles = clics.count_documents({\"al\":{\"$regex\":\"en\"}}) \n",
    "\n",
    "usr_ingles"
   ]
  },
  {
   "cell_type": "code",
   "execution_count": 54,
   "id": "b60cc28d",
   "metadata": {},
   "outputs": [
    {
     "data": {
      "text/plain": [
       "6"
      ]
     },
     "execution_count": 54,
     "metadata": {},
     "output_type": "execute_result"
    }
   ],
   "source": [
    "'''Encontrar cuántos usuarios son de Seoul.'''\n",
    "\n",
    "usr_seoul = clics.count_documents({\"cy\":{\"$regex\":\"Seoul\"}}) \n",
    "usr_seoul"
   ]
  },
  {
   "cell_type": "code",
   "execution_count": 59,
   "id": "59d08bdd",
   "metadata": {},
   "outputs": [
    {
     "data": {
      "text/plain": [
       "122"
      ]
     },
     "execution_count": 59,
     "metadata": {},
     "output_type": "execute_result"
    }
   ],
   "source": [
    "'''Tweets'''\n",
    "'''¿Cuántas filas contiene la collección?'''\n",
    "tweets.count_documents({})"
   ]
  },
  {
   "cell_type": "code",
   "execution_count": 60,
   "id": "43e1f30b",
   "metadata": {},
   "outputs": [
    {
     "data": {
      "text/html": [
       "<div>\n",
       "<style scoped>\n",
       "    .dataframe tbody tr th:only-of-type {\n",
       "        vertical-align: middle;\n",
       "    }\n",
       "\n",
       "    .dataframe tbody tr th {\n",
       "        vertical-align: top;\n",
       "    }\n",
       "\n",
       "    .dataframe thead th {\n",
       "        text-align: right;\n",
       "    }\n",
       "</style>\n",
       "<table border=\"1\" class=\"dataframe\">\n",
       "  <thead>\n",
       "    <tr style=\"text-align: right;\">\n",
       "      <th></th>\n",
       "      <th>_id</th>\n",
       "      <th>conteo</th>\n",
       "    </tr>\n",
       "  </thead>\n",
       "  <tbody>\n",
       "    <tr>\n",
       "      <th>0</th>\n",
       "      <td>SoyLatte</td>\n",
       "      <td>2</td>\n",
       "    </tr>\n",
       "    <tr>\n",
       "      <th>1</th>\n",
       "      <td>arianaskittles</td>\n",
       "      <td>2</td>\n",
       "    </tr>\n",
       "  </tbody>\n",
       "</table>\n",
       "</div>"
      ],
      "text/plain": [
       "              _id  conteo\n",
       "0        SoyLatte       2\n",
       "1  arianaskittles       2"
      ]
     },
     "execution_count": 60,
     "metadata": {},
     "output_type": "execute_result"
    }
   ],
   "source": [
    "'''Enumerar los screen_names de los usuarios que han tuiteado más de una vez'''\n",
    "pd.DataFrame(tweets.aggregate(\n",
    "    [ \n",
    "        { \"$group\":  { \"_id\": \"$user.screen_name\", \"conteo\": { \"$sum\": 1 } } },\n",
    "        {\"$match\": {\"conteo\": {\"$gt\": 1}}} \n",
    "    ]\n",
    "))\n",
    "\n"
   ]
  },
  {
   "cell_type": "code",
   "execution_count": 61,
   "id": "c6cbf77c",
   "metadata": {},
   "outputs": [
    {
     "data": {
      "text/plain": [
       "10"
      ]
     },
     "execution_count": 61,
     "metadata": {},
     "output_type": "execute_result"
    }
   ],
   "source": [
    "'''¿Cuántos tweets son sobre Starbucks?'''\n",
    "tweets.count_documents({\"text\":{\"$regex\":\"Starbucks\"}})"
   ]
  },
  {
   "cell_type": "code",
   "execution_count": 62,
   "id": "9ef68722",
   "metadata": {},
   "outputs": [
    {
     "data": {
      "text/plain": [
       "17"
      ]
     },
     "execution_count": 62,
     "metadata": {},
     "output_type": "execute_result"
    }
   ],
   "source": [
    "'''Enumerar los tweets en español'''\n",
    "tweets.count_documents({\"lang\":{\"$regex\":\"es\"}})"
   ]
  },
  {
   "cell_type": "code",
   "execution_count": null,
   "id": "8b5ba87a",
   "metadata": {},
   "outputs": [],
   "source": []
  }
 ],
 "metadata": {
  "kernelspec": {
   "display_name": "Python 3 (ipykernel)",
   "language": "python",
   "name": "python3"
  },
  "language_info": {
   "codemirror_mode": {
    "name": "ipython",
    "version": 3
   },
   "file_extension": ".py",
   "mimetype": "text/x-python",
   "name": "python",
   "nbconvert_exporter": "python",
   "pygments_lexer": "ipython3",
   "version": "3.9.12"
  }
 },
 "nbformat": 4,
 "nbformat_minor": 5
}
