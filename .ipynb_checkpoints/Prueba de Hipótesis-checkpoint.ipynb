{
 "cells": [
  {
   "cell_type": "markdown",
   "id": "76dc86b1",
   "metadata": {},
   "source": [
    "# Prueba de Hipótesis"
   ]
  },
  {
   "cell_type": "markdown",
   "id": "3e515a90",
   "metadata": {},
   "source": [
    "## Imports iniciales"
   ]
  },
  {
   "cell_type": "code",
   "execution_count": 1,
   "id": "ba2cd667",
   "metadata": {},
   "outputs": [],
   "source": [
    "import numpy as np\n",
    "import pandas as pd\n",
    "import scipy.stats as stats\n",
    "import matplotlib.pyplot as plt\n",
    "%matplotlib inline"
   ]
  },
  {
   "cell_type": "markdown",
   "id": "6ec17a40",
   "metadata": {},
   "source": [
    "Crear dos distribuciones t de Student\n",
    "\n",
    "1.- Personalizada con 20 GL, con una media igual a 10 y a una desviación estándar igual a 5\n",
    "\n",
    "2.- Estándar con 20 GL"
   ]
  },
  {
   "cell_type": "code",
   "execution_count": 2,
   "id": "3030e5eb",
   "metadata": {},
   "outputs": [],
   "source": [
    "t_dist= stats.t(df=20, loc=10, scale=5)\n",
    "standard_t= stats.t(df=20)"
   ]
  },
  {
   "cell_type": "markdown",
   "id": "9a3f88b1",
   "metadata": {},
   "source": [
    "Crear dos distribuciones normales\n",
    "\n",
    "1.- Personalizada con una media igual a 10 y una desviación estándar igual a 5\n",
    "\n",
    "2.- Estándar"
   ]
  },
  {
   "cell_type": "code",
   "execution_count": 3,
   "id": "98d9d7e0",
   "metadata": {},
   "outputs": [],
   "source": [
    "normal_dist= stats.norm(10,5)\n",
    "standard_normal= stats.norm(0,1)\n",
    "standard_normal= stats.norm()"
   ]
  },
  {
   "cell_type": "markdown",
   "id": "67d2e619",
   "metadata": {},
   "source": [
    "Prueba Z\n",
    "En una distribución normal estándar para el 2.5%"
   ]
  },
  {
   "cell_type": "code",
   "execution_count": 4,
   "id": "4101985f",
   "metadata": {},
   "outputs": [
    {
     "data": {
      "text/plain": [
       "-1.9599639845400545"
      ]
     },
     "execution_count": 4,
     "metadata": {},
     "output_type": "execute_result"
    }
   ],
   "source": [
    "stats.norm(0,1).ppf(0.025)"
   ]
  },
  {
   "cell_type": "markdown",
   "id": "11b3475c",
   "metadata": {},
   "source": [
    "Prueba t\n",
    "En una distribución t estándar con 10 GL para el 2.5%"
   ]
  },
  {
   "cell_type": "code",
   "execution_count": 5,
   "id": "bd117b1c",
   "metadata": {},
   "outputs": [
    {
     "data": {
      "text/plain": [
       "-2.2281388519649385"
      ]
     },
     "execution_count": 5,
     "metadata": {},
     "output_type": "execute_result"
    }
   ],
   "source": [
    "stats.t(df=10).ppf(0.025)"
   ]
  },
  {
   "cell_type": "markdown",
   "id": "221b4d88",
   "metadata": {},
   "source": [
    "## Prueba t para dos muestras independientes"
   ]
  },
  {
   "cell_type": "markdown",
   "id": "539f7e2e",
   "metadata": {},
   "source": [
    "Importar un dataframe"
   ]
  },
  {
   "cell_type": "code",
   "execution_count": 8,
   "id": "aa5500ba",
   "metadata": {},
   "outputs": [
    {
     "name": "stdout",
     "output_type": "stream",
     "text": [
      "<class 'pandas.core.frame.DataFrame'>\n",
      "RangeIndex: 120 entries, 0 to 119\n",
      "Data columns (total 5 columns):\n",
      " #   Column     Non-Null Count  Dtype \n",
      "---  ------     --------------  ----- \n",
      " 0   patient    120 non-null    int64 \n",
      " 1   sex        120 non-null    object\n",
      " 2   agegrp     120 non-null    object\n",
      " 3   bp_before  120 non-null    int64 \n",
      " 4   bp_after   120 non-null    int64 \n",
      "dtypes: int64(3), object(2)\n",
      "memory usage: 4.8+ KB\n"
     ]
    }
   ],
   "source": [
    "df = pd.read_csv(\"https://raw.githubusercontent.com/researchpy/Data-sets/master/blood_pressure.csv\")\n",
    "df.info()"
   ]
  },
  {
   "cell_type": "code",
   "execution_count": 9,
   "id": "d4e1c2a3",
   "metadata": {},
   "outputs": [
    {
     "data": {
      "text/html": [
       "<div>\n",
       "<style scoped>\n",
       "    .dataframe tbody tr th:only-of-type {\n",
       "        vertical-align: middle;\n",
       "    }\n",
       "\n",
       "    .dataframe tbody tr th {\n",
       "        vertical-align: top;\n",
       "    }\n",
       "\n",
       "    .dataframe thead th {\n",
       "        text-align: right;\n",
       "    }\n",
       "</style>\n",
       "<table border=\"1\" class=\"dataframe\">\n",
       "  <thead>\n",
       "    <tr style=\"text-align: right;\">\n",
       "      <th></th>\n",
       "      <th>patient</th>\n",
       "      <th>sex</th>\n",
       "      <th>agegrp</th>\n",
       "      <th>bp_before</th>\n",
       "      <th>bp_after</th>\n",
       "    </tr>\n",
       "  </thead>\n",
       "  <tbody>\n",
       "    <tr>\n",
       "      <th>0</th>\n",
       "      <td>1</td>\n",
       "      <td>Male</td>\n",
       "      <td>30-45</td>\n",
       "      <td>143</td>\n",
       "      <td>153</td>\n",
       "    </tr>\n",
       "    <tr>\n",
       "      <th>1</th>\n",
       "      <td>2</td>\n",
       "      <td>Male</td>\n",
       "      <td>30-45</td>\n",
       "      <td>163</td>\n",
       "      <td>170</td>\n",
       "    </tr>\n",
       "    <tr>\n",
       "      <th>2</th>\n",
       "      <td>3</td>\n",
       "      <td>Male</td>\n",
       "      <td>30-45</td>\n",
       "      <td>153</td>\n",
       "      <td>168</td>\n",
       "    </tr>\n",
       "    <tr>\n",
       "      <th>3</th>\n",
       "      <td>4</td>\n",
       "      <td>Male</td>\n",
       "      <td>30-45</td>\n",
       "      <td>153</td>\n",
       "      <td>142</td>\n",
       "    </tr>\n",
       "    <tr>\n",
       "      <th>4</th>\n",
       "      <td>5</td>\n",
       "      <td>Male</td>\n",
       "      <td>30-45</td>\n",
       "      <td>146</td>\n",
       "      <td>141</td>\n",
       "    </tr>\n",
       "    <tr>\n",
       "      <th>...</th>\n",
       "      <td>...</td>\n",
       "      <td>...</td>\n",
       "      <td>...</td>\n",
       "      <td>...</td>\n",
       "      <td>...</td>\n",
       "    </tr>\n",
       "    <tr>\n",
       "      <th>115</th>\n",
       "      <td>116</td>\n",
       "      <td>Female</td>\n",
       "      <td>60+</td>\n",
       "      <td>152</td>\n",
       "      <td>152</td>\n",
       "    </tr>\n",
       "    <tr>\n",
       "      <th>116</th>\n",
       "      <td>117</td>\n",
       "      <td>Female</td>\n",
       "      <td>60+</td>\n",
       "      <td>161</td>\n",
       "      <td>152</td>\n",
       "    </tr>\n",
       "    <tr>\n",
       "      <th>117</th>\n",
       "      <td>118</td>\n",
       "      <td>Female</td>\n",
       "      <td>60+</td>\n",
       "      <td>165</td>\n",
       "      <td>174</td>\n",
       "    </tr>\n",
       "    <tr>\n",
       "      <th>118</th>\n",
       "      <td>119</td>\n",
       "      <td>Female</td>\n",
       "      <td>60+</td>\n",
       "      <td>149</td>\n",
       "      <td>151</td>\n",
       "    </tr>\n",
       "    <tr>\n",
       "      <th>119</th>\n",
       "      <td>120</td>\n",
       "      <td>Female</td>\n",
       "      <td>60+</td>\n",
       "      <td>185</td>\n",
       "      <td>163</td>\n",
       "    </tr>\n",
       "  </tbody>\n",
       "</table>\n",
       "<p>120 rows × 5 columns</p>\n",
       "</div>"
      ],
      "text/plain": [
       "     patient     sex agegrp  bp_before  bp_after\n",
       "0          1    Male  30-45        143       153\n",
       "1          2    Male  30-45        163       170\n",
       "2          3    Male  30-45        153       168\n",
       "3          4    Male  30-45        153       142\n",
       "4          5    Male  30-45        146       141\n",
       "..       ...     ...    ...        ...       ...\n",
       "115      116  Female    60+        152       152\n",
       "116      117  Female    60+        161       152\n",
       "117      118  Female    60+        165       174\n",
       "118      119  Female    60+        149       151\n",
       "119      120  Female    60+        185       163\n",
       "\n",
       "[120 rows x 5 columns]"
      ]
     },
     "execution_count": 9,
     "metadata": {},
     "output_type": "execute_result"
    }
   ],
   "source": [
    "df"
   ]
  },
  {
   "cell_type": "markdown",
   "id": "ed16afa2",
   "metadata": {},
   "source": [
    "Probar la hipótesis de que las presiones barométricas (bp_after) de hombres y mujeres tienen la misma media."
   ]
  },
  {
   "cell_type": "code",
   "execution_count": 10,
   "id": "c8cbb018",
   "metadata": {},
   "outputs": [
    {
     "data": {
      "text/plain": [
       "Ttest_indResult(statistic=3.3479506182111387, pvalue=0.0010930222986154283)"
      ]
     },
     "execution_count": 10,
     "metadata": {},
     "output_type": "execute_result"
    }
   ],
   "source": [
    "stats.ttest_ind(df['bp_after'][df['sex'] == 'Male'],\n",
    "                df['bp_after'][df['sex'] == 'Female'])"
   ]
  },
  {
   "cell_type": "markdown",
   "id": "93f6d822",
   "metadata": {},
   "source": [
    "El resultado indica que existe una diferencia significativa.\n",
    "\n",
    "Elaborar un gráfico para confirmar el resultado."
   ]
  },
  {
   "cell_type": "markdown",
   "id": "0dca4696",
   "metadata": {},
   "source": [
    "## Gráfico"
   ]
  },
  {
   "cell_type": "code",
   "execution_count": 12,
   "id": "ff5dc392",
   "metadata": {
    "scrolled": true
   },
   "outputs": [
    {
     "data": {
      "image/png": "[encoded data removed]",
      "text/plain": [
       "<Figure size 1440x720 with 1 Axes>"
      ]
     },
     "metadata": {
      "needs_background": "light"
     },
     "output_type": "display_data"
    }
   ],
   "source": [
    "fig = plt.figure(figsize= (20, 10))\n",
    "ax = fig.add_subplot(111)\n",
    "\n",
    "\n",
    "p_bp_male = plt.hist(df['bp_after'][df['sex'] == 'Male'], label= \"Hombres\",\n",
    "                     density= True,\n",
    "                     alpha=0.75)\n",
    "p_bp_female = plt.hist(df['bp_after'][df['sex'] == 'Female'], label= \"Mujeres\",\n",
    "                       density= True,\n",
    "                       alpha=0.75)\n",
    "\n",
    "\n",
    "plt.suptitle(\"Distribución de la presión sanguínea \\n de hombres y mujeres\", fontsize= 20)\n",
    "plt.xlabel(\"Presión sanguínea\", fontsize= 16)\n",
    "plt.ylabel(\"Densidad de probabilidad\", fontsize= 16)\n",
    "\n",
    "plt.text(133, .025,\n",
    "         f\"$\\mu= {df['bp_after'][df['sex'] == 'Female'].mean(): .1f}, \\ \\sigma= {df['bp_after'][df['sex'] == 'Female'].std(): .1f}$\")\n",
    "plt.text(160, .025,\n",
    "         f\"$\\mu= {df['bp_after'][df['sex'] == 'Male'].mean(): .1f}, \\ \\sigma= {df['bp_after'][df['sex'] == 'Male'].std(): .1f}$\")\n",
    "\n",
    "\n",
    "plt.show()"
   ]
  },
  {
   "cell_type": "markdown",
   "id": "8fbfc3d6",
   "metadata": {},
   "source": [
    "En caso de que la varianza sea diferente, esto se puede considerar dentro de la prueba t como sigue:"
   ]
  },
  {
   "cell_type": "code",
   "execution_count": 13,
   "id": "3e8c357f",
   "metadata": {},
   "outputs": [
    {
     "data": {
      "text/plain": [
       "Ttest_indResult(statistic=3.3479506182111387, pvalue=0.0011129010557490865)"
      ]
     },
     "execution_count": 13,
     "metadata": {},
     "output_type": "execute_result"
    }
   ],
   "source": [
    "stats.ttest_ind(df['bp_after'][df['sex'] == 'Male'],\n",
    "                df['bp_after'][df['sex'] == 'Female'],\n",
    "               equal_var=False)"
   ]
  },
  {
   "cell_type": "code",
   "execution_count": null,
   "id": "9f69bae0",
   "metadata": {},
   "outputs": [],
   "source": []
  }
 ],
 "metadata": {
  "kernelspec": {
   "display_name": "Python 3 (ipykernel)",
   "language": "python",
   "name": "python3"
  },
  "language_info": {
   "codemirror_mode": {
    "name": "ipython",
    "version": 3
   },
   "file_extension": ".py",
   "mimetype": "text/x-python",
   "name": "python",
   "nbconvert_exporter": "python",
   "pygments_lexer": "ipython3",
   "version": "3.9.12"
  }
 },
 "nbformat": 4,
 "nbformat_minor": 5
}
