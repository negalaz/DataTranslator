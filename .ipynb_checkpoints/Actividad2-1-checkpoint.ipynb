{
 "cells": [
  {
   "cell_type": "code",
   "execution_count": 1,
   "id": "ba5e8151",
   "metadata": {},
   "outputs": [],
   "source": [
    "##!type C:\\Users\\NGALAZ\\Documents\\Repositorios\\Archivos-DataIngestion\\Machine-readable-business-employment-data-sep-2021-quarter.csv"
   ]
  },
  {
   "cell_type": "code",
   "execution_count": 2,
   "id": "b76ceb97",
   "metadata": {
    "scrolled": false
   },
   "outputs": [],
   "source": [
    "##!type C:\\Users\\NGALAZ\\Documents\\Repositorios\\Archivos-DataIngestion\\annual-enterprise-survey-2020-financial-year-provisional-csv.csv"
   ]
  },
  {
   "cell_type": "code",
   "execution_count": 3,
   "id": "bcd485db",
   "metadata": {},
   "outputs": [],
   "source": [
    "#!type C:\\Users\\NGALAZ\\Documents\\Repositorios\\Archivos-DataIngestion\\electronic-card-transactions-november-2021-csv-tables.csv"
   ]
  },
  {
   "cell_type": "code",
   "execution_count": 4,
   "id": "f7af636a",
   "metadata": {},
   "outputs": [],
   "source": [
    "import pandas as pd\n",
    "import numpy as np\n",
    "import requests \n",
    "import pickle\n",
    "\n",
    "machine_df = pd.read_csv('C:/Users/NGALAZ/Documents/Repositorios/Archivos-DataIngestion/Machine-readable-business-employment-data-sep-2021-quarter.csv', delimiter=',')\n",
    "annual_df = pd.read_csv('C:/Users/NGALAZ/Documents/Repositorios/Archivos-DataIngestion/annual-enterprise-survey-2020-financial-year-provisional-csv.csv', delimiter=',')\n",
    "electronic_df = pd.read_csv('C:/Users/NGALAZ/Documents/Repositorios/Archivos-DataIngestion/electronic-card-transactions-november-2021-csv-tables.csv', delimiter=',')"
   ]
  },
  {
   "cell_type": "code",
   "execution_count": 5,
   "id": "c630aa44",
   "metadata": {},
   "outputs": [],
   "source": [
    "sampleData_df = pd.read_excel('C:/Users/NGALAZ/Documents/Repositorios/Archivos-DataIngestion/SampleData.xlsx')\n",
    "food_df = pd.read_excel('C:/Users/NGALAZ/Documents/Repositorios/Archivos-DataIngestion/sampledatafoodsales.xlsx')\n",
    "insurance_df = pd.read_excel('C:/Users/NGALAZ/Documents/Repositorios/Archivos-DataIngestion/sampledatainsurance.xlsx')\n"
   ]
  },
  {
   "cell_type": "code",
   "execution_count": 6,
   "id": "d511caac",
   "metadata": {},
   "outputs": [
    {
     "data": {
      "text/html": [
       "<div>\n",
       "<style scoped>\n",
       "    .dataframe tbody tr th:only-of-type {\n",
       "        vertical-align: middle;\n",
       "    }\n",
       "\n",
       "    .dataframe tbody tr th {\n",
       "        vertical-align: top;\n",
       "    }\n",
       "\n",
       "    .dataframe thead th {\n",
       "        text-align: right;\n",
       "    }\n",
       "</style>\n",
       "<table border=\"1\" class=\"dataframe\">\n",
       "  <thead>\n",
       "    <tr style=\"text-align: right;\">\n",
       "      <th></th>\n",
       "      <th>userId</th>\n",
       "      <th>id</th>\n",
       "      <th>title</th>\n",
       "      <th>completed</th>\n",
       "    </tr>\n",
       "  </thead>\n",
       "  <tbody>\n",
       "    <tr>\n",
       "      <th>0</th>\n",
       "      <td>1</td>\n",
       "      <td>1</td>\n",
       "      <td>delectus aut autem</td>\n",
       "      <td>False</td>\n",
       "    </tr>\n",
       "    <tr>\n",
       "      <th>1</th>\n",
       "      <td>1</td>\n",
       "      <td>2</td>\n",
       "      <td>quis ut nam facilis et officia qui</td>\n",
       "      <td>False</td>\n",
       "    </tr>\n",
       "    <tr>\n",
       "      <th>2</th>\n",
       "      <td>1</td>\n",
       "      <td>3</td>\n",
       "      <td>fugiat veniam minus</td>\n",
       "      <td>False</td>\n",
       "    </tr>\n",
       "  </tbody>\n",
       "</table>\n",
       "</div>"
      ],
      "text/plain": [
       "   userId  id                               title  completed\n",
       "0       1   1                  delectus aut autem      False\n",
       "1       1   2  quis ut nam facilis et officia qui      False\n",
       "2       1   3                 fugiat veniam minus      False"
      ]
     },
     "execution_count": 6,
     "metadata": {},
     "output_type": "execute_result"
    }
   ],
   "source": [
    "todos_json = requests.get('https://jsonplaceholder.typicode.com/todos').json()\n",
    "fotos_json = requests.get('https://jsonplaceholder.typicode.com/photos').json()\n",
    "albums_json = requests.get('https://jsonplaceholder.typicode.com/albums').json()\n",
    "\n",
    "todos_df = pd.json_normalize(todos_json);\n",
    "fotos_df = pd.json_normalize(fotos_json);\n",
    "albums_df = pd.json_normalize(albums_json);\n",
    "\n",
    "todos_df.head(3)\n"
   ]
  },
  {
   "cell_type": "code",
   "execution_count": null,
   "id": "31a54524",
   "metadata": {},
   "outputs": [],
   "source": [
    "for i, df in enumerate([machine_df,annual_df,electronic_df,sampleData_df,food_df,insurance_df,todos_df,fotos_df,albums_df]):\n",
    "    df.to_csv(f\"C:/Users/NGALAZ/Documents/Repositorios/DataTranslator/{i}.csv\")\n",
    "    df.to_excel(f\"C:/Users/NGALAZ/Documents/Repositorios/DataTranslator/{i}.xlsx\")\n",
    "    df.to_json(f\"C:/Users/NGALAZ/Documents/Repositorios/DataTranslator/{i}.json\")\n"
   ]
  },
  {
   "cell_type": "code",
   "execution_count": null,
   "id": "2ece47b9",
   "metadata": {},
   "outputs": [],
   "source": [
    "for i, df in enumerate([machine_df,annual_df,electronic_df,sampleData_df,food_df,insurance_df,todos_df,fotos_df,albums_df]):\n",
    "    with open(f\"C:/Users/NGALAZ/Documents/Repositorios/DataTranslator/{i}.pickle\", 'wb') as f:\n",
    "        pickle.dump(df,f,protocol = 5)"
   ]
  },
  {
   "cell_type": "code",
   "execution_count": null,
   "id": "ba5704b9",
   "metadata": {},
   "outputs": [],
   "source": [
    "for i, df in enumerate([machine_df,annual_df,electronic_df,sampleData_df,food_df,insurance_df,todos_df,fotos_df,albums_df]):\n",
    "    with open(f\"C:/Users/NGALAZ/Documents/Repositorios/DataTranslator/{i}.pickle\", 'rb') as f:\n",
    "       print(pickle.load(f).shape)"
   ]
  },
  {
   "cell_type": "code",
   "execution_count": null,
   "id": "31af4f5c",
   "metadata": {},
   "outputs": [],
   "source": []
  }
 ],
 "metadata": {
  "kernelspec": {
   "display_name": "Python 3 (ipykernel)",
   "language": "python",
   "name": "python3"
  },
  "language_info": {
   "codemirror_mode": {
    "name": "ipython",
    "version": 3
   },
   "file_extension": ".py",
   "mimetype": "text/x-python",
   "name": "python",
   "nbconvert_exporter": "python",
   "pygments_lexer": "ipython3",
   "version": "3.9.12"
  }
 },
 "nbformat": 4,
 "nbformat_minor": 5
}
