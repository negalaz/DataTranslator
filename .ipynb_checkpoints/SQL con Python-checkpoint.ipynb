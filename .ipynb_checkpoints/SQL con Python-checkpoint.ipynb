{
 "cells": [
  {
   "cell_type": "markdown",
   "id": "c557b675",
   "metadata": {},
   "source": [
    "# SQL con Python"
   ]
  },
  {
   "cell_type": "markdown",
   "id": "44f537bf",
   "metadata": {},
   "source": [
    "## Imports iniciales"
   ]
  },
  {
   "cell_type": "code",
   "execution_count": 1,
   "id": "964ddd9a-78ba-4abe-908f-89ff9ce1b0e6",
   "metadata": {},
   "outputs": [],
   "source": [
    "import numpy as np\n",
    "import pandas as pd\n",
    "import sqlite3 # <-- Interactuar con BD SQLite\n",
    "import matplotlib.pyplot as plt\n",
    "%matplotlib inline"
   ]
  },
  {
   "cell_type": "markdown",
   "id": "cc203f2e-e976-4788-9d32-a295a5b4b632",
   "metadata": {},
   "source": [
    "# Crear una conexión a la BD"
   ]
  },
  {
   "cell_type": "code",
   "execution_count": 2,
   "id": "d51df454-5219-4bec-a6a4-4f7e476a8555",
   "metadata": {},
   "outputs": [
    {
     "data": {
      "text/plain": [
       "<sqlite3.Connection at 0x250839758a0>"
      ]
     },
     "execution_count": 2,
     "metadata": {},
     "output_type": "execute_result"
    }
   ],
   "source": [
    "conn = sqlite3.connect(\"chinook.sqlite\"); conn"
   ]
  },
  {
   "cell_type": "markdown",
   "id": "2068b65a",
   "metadata": {},
   "source": [
    "## Querys\n",
    "\n",
    "Una vez conectados a la BD SQLite es posible hacer querys de sql directamente desde el Jupyter Notebook.\n",
    "\n",
    "### Existen dos maneras de hacer un query:"
   ]
  },
  {
   "cell_type": "markdown",
   "id": "66441a46-358c-4faa-bb9d-6336ee16910a",
   "metadata": {},
   "source": [
    "# Query SQL\n",
    "\n",
    "Definir el query y almacenarlo en una variable y ejecutarlo hacia la conexión."
   ]
  },
  {
   "cell_type": "code",
   "execution_count": 3,
   "id": "f41c16bd-3450-4c13-aa13-db80b2e8af84",
   "metadata": {},
   "outputs": [
    {
     "data": {
      "text/html": [
       "<div>\n",
       "<style scoped>\n",
       "    .dataframe tbody tr th:only-of-type {\n",
       "        vertical-align: middle;\n",
       "    }\n",
       "\n",
       "    .dataframe tbody tr th {\n",
       "        vertical-align: top;\n",
       "    }\n",
       "\n",
       "    .dataframe thead th {\n",
       "        text-align: right;\n",
       "    }\n",
       "</style>\n",
       "<table border=\"1\" class=\"dataframe\">\n",
       "  <thead>\n",
       "    <tr style=\"text-align: right;\">\n",
       "      <th></th>\n",
       "      <th>Title</th>\n",
       "      <th>Name</th>\n",
       "    </tr>\n",
       "  </thead>\n",
       "  <tbody>\n",
       "    <tr>\n",
       "      <th>0</th>\n",
       "      <td>...And Justice For All</td>\n",
       "      <td>Metallica</td>\n",
       "    </tr>\n",
       "    <tr>\n",
       "      <th>1</th>\n",
       "      <td>20th Century Masters - The Millennium Collecti...</td>\n",
       "      <td>Scorpions</td>\n",
       "    </tr>\n",
       "    <tr>\n",
       "      <th>2</th>\n",
       "      <td>A Copland Celebration, Vol. I</td>\n",
       "      <td>Aaron Copland &amp; London Symphony Orchestra</td>\n",
       "    </tr>\n",
       "  </tbody>\n",
       "</table>\n",
       "</div>"
      ],
      "text/plain": [
       "                                               Title  \\\n",
       "0                             ...And Justice For All   \n",
       "1  20th Century Masters - The Millennium Collecti...   \n",
       "2                      A Copland Celebration, Vol. I   \n",
       "\n",
       "                                        Name  \n",
       "0                                  Metallica  \n",
       "1                                  Scorpions  \n",
       "2  Aaron Copland & London Symphony Orchestra  "
      ]
     },
     "execution_count": 3,
     "metadata": {},
     "output_type": "execute_result"
    }
   ],
   "source": [
    "sql = \"\"\"\n",
    "select al.Title, ar.Name\n",
    "from albums al\n",
    "inner join artists ar on ar.ArtistId = al.ArtistId\n",
    "order by al.Title asc\n",
    "limit 3\n",
    "\"\"\"\n",
    "pd.read_sql_query(sql, conn)"
   ]
  },
  {
   "cell_type": "markdown",
   "id": "6fe79b72-a03a-4089-acfe-376bc62c1ee6",
   "metadata": {},
   "source": [
    "# Manipulación mediante Pandas\n",
    "\n",
    "Crear sub-dataframes a partir de pequeños querys"
   ]
  },
  {
   "cell_type": "code",
   "execution_count": 4,
   "id": "bf9c5e47-1328-4541-bc7e-93c9083817c5",
   "metadata": {},
   "outputs": [
    {
     "data": {
      "text/html": [
       "<div>\n",
       "<style scoped>\n",
       "    .dataframe tbody tr th:only-of-type {\n",
       "        vertical-align: middle;\n",
       "    }\n",
       "\n",
       "    .dataframe tbody tr th {\n",
       "        vertical-align: top;\n",
       "    }\n",
       "\n",
       "    .dataframe thead th {\n",
       "        text-align: right;\n",
       "    }\n",
       "</style>\n",
       "<table border=\"1\" class=\"dataframe\">\n",
       "  <thead>\n",
       "    <tr style=\"text-align: right;\">\n",
       "      <th></th>\n",
       "      <th>AlbumId</th>\n",
       "      <th>Title</th>\n",
       "      <th>ArtistId</th>\n",
       "    </tr>\n",
       "  </thead>\n",
       "  <tbody>\n",
       "    <tr>\n",
       "      <th>0</th>\n",
       "      <td>1</td>\n",
       "      <td>For Those About To Rock We Salute You</td>\n",
       "      <td>1</td>\n",
       "    </tr>\n",
       "    <tr>\n",
       "      <th>1</th>\n",
       "      <td>2</td>\n",
       "      <td>Balls to the Wall</td>\n",
       "      <td>2</td>\n",
       "    </tr>\n",
       "  </tbody>\n",
       "</table>\n",
       "</div>"
      ],
      "text/plain": [
       "   AlbumId                                  Title  ArtistId\n",
       "0        1  For Those About To Rock We Salute You         1\n",
       "1        2                      Balls to the Wall         2"
      ]
     },
     "execution_count": 4,
     "metadata": {},
     "output_type": "execute_result"
    }
   ],
   "source": [
    "df1 = pd.read_sql_query(\"select * from albums\", conn); df1.head(2)"
   ]
  },
  {
   "cell_type": "code",
   "execution_count": 5,
   "id": "1b18c5f2-7e2c-4c4a-b357-8b217c9fc301",
   "metadata": {},
   "outputs": [
    {
     "data": {
      "text/html": [
       "<div>\n",
       "<style scoped>\n",
       "    .dataframe tbody tr th:only-of-type {\n",
       "        vertical-align: middle;\n",
       "    }\n",
       "\n",
       "    .dataframe tbody tr th {\n",
       "        vertical-align: top;\n",
       "    }\n",
       "\n",
       "    .dataframe thead th {\n",
       "        text-align: right;\n",
       "    }\n",
       "</style>\n",
       "<table border=\"1\" class=\"dataframe\">\n",
       "  <thead>\n",
       "    <tr style=\"text-align: right;\">\n",
       "      <th></th>\n",
       "      <th>ArtistId</th>\n",
       "      <th>Name</th>\n",
       "    </tr>\n",
       "  </thead>\n",
       "  <tbody>\n",
       "    <tr>\n",
       "      <th>0</th>\n",
       "      <td>1</td>\n",
       "      <td>AC/DC</td>\n",
       "    </tr>\n",
       "    <tr>\n",
       "      <th>1</th>\n",
       "      <td>2</td>\n",
       "      <td>Accept</td>\n",
       "    </tr>\n",
       "  </tbody>\n",
       "</table>\n",
       "</div>"
      ],
      "text/plain": [
       "   ArtistId    Name\n",
       "0         1   AC/DC\n",
       "1         2  Accept"
      ]
     },
     "execution_count": 5,
     "metadata": {},
     "output_type": "execute_result"
    }
   ],
   "source": [
    "df2 = pd.read_sql_query(\"select * from artists\", conn); df2.head(2)"
   ]
  },
  {
   "cell_type": "code",
   "execution_count": 6,
   "id": "f22d3c75-ad59-4d0c-b493-01ae096410c1",
   "metadata": {},
   "outputs": [
    {
     "data": {
      "text/html": [
       "<div>\n",
       "<style scoped>\n",
       "    .dataframe tbody tr th:only-of-type {\n",
       "        vertical-align: middle;\n",
       "    }\n",
       "\n",
       "    .dataframe tbody tr th {\n",
       "        vertical-align: top;\n",
       "    }\n",
       "\n",
       "    .dataframe thead th {\n",
       "        text-align: right;\n",
       "    }\n",
       "</style>\n",
       "<table border=\"1\" class=\"dataframe\">\n",
       "  <thead>\n",
       "    <tr style=\"text-align: right;\">\n",
       "      <th></th>\n",
       "      <th>Title</th>\n",
       "      <th>Name</th>\n",
       "    </tr>\n",
       "  </thead>\n",
       "  <tbody>\n",
       "    <tr>\n",
       "      <th>0</th>\n",
       "      <td>...And Justice For All</td>\n",
       "      <td>Metallica</td>\n",
       "    </tr>\n",
       "    <tr>\n",
       "      <th>1</th>\n",
       "      <td>20th Century Masters - The Millennium Collecti...</td>\n",
       "      <td>Scorpions</td>\n",
       "    </tr>\n",
       "    <tr>\n",
       "      <th>2</th>\n",
       "      <td>A Copland Celebration, Vol. I</td>\n",
       "      <td>Aaron Copland &amp; London Symphony Orchestra</td>\n",
       "    </tr>\n",
       "  </tbody>\n",
       "</table>\n",
       "</div>"
      ],
      "text/plain": [
       "                                               Title  \\\n",
       "0                             ...And Justice For All   \n",
       "1  20th Century Masters - The Millennium Collecti...   \n",
       "2                      A Copland Celebration, Vol. I   \n",
       "\n",
       "                                        Name  \n",
       "0                                  Metallica  \n",
       "1                                  Scorpions  \n",
       "2  Aaron Copland & London Symphony Orchestra  "
      ]
     },
     "execution_count": 6,
     "metadata": {},
     "output_type": "execute_result"
    }
   ],
   "source": [
    "df1.merge(df2, on='ArtistId')[['Title', 'Name']].sort_values(by='Title')[:3].reset_index().iloc[:,-2:]"
   ]
  },
  {
   "cell_type": "markdown",
   "id": "de78d4dc-2442-4151-b227-9b837f35868e",
   "metadata": {},
   "source": [
    "# Gráficos"
   ]
  },
  {
   "cell_type": "code",
   "execution_count": 7,
   "id": "a032dd52-a98d-44eb-8bc2-1c693f31b377",
   "metadata": {},
   "outputs": [
    {
     "data": {
      "text/html": [
       "<div>\n",
       "<style scoped>\n",
       "    .dataframe tbody tr th:only-of-type {\n",
       "        vertical-align: middle;\n",
       "    }\n",
       "\n",
       "    .dataframe tbody tr th {\n",
       "        vertical-align: top;\n",
       "    }\n",
       "\n",
       "    .dataframe thead th {\n",
       "        text-align: right;\n",
       "    }\n",
       "</style>\n",
       "<table border=\"1\" class=\"dataframe\">\n",
       "  <thead>\n",
       "    <tr style=\"text-align: right;\">\n",
       "      <th></th>\n",
       "      <th>InvoiceId</th>\n",
       "      <th>CustomerId</th>\n",
       "      <th>InvoiceDate</th>\n",
       "      <th>BillingAddress</th>\n",
       "      <th>BillingCity</th>\n",
       "      <th>BillingState</th>\n",
       "      <th>BillingCountry</th>\n",
       "      <th>BillingPostalCode</th>\n",
       "      <th>Total</th>\n",
       "    </tr>\n",
       "  </thead>\n",
       "  <tbody>\n",
       "    <tr>\n",
       "      <th>0</th>\n",
       "      <td>1</td>\n",
       "      <td>2</td>\n",
       "      <td>2009-01-01 00:00:00</td>\n",
       "      <td>Theodor-Heuss-Straße 34</td>\n",
       "      <td>Stuttgart</td>\n",
       "      <td>None</td>\n",
       "      <td>Germany</td>\n",
       "      <td>70174</td>\n",
       "      <td>1.98</td>\n",
       "    </tr>\n",
       "    <tr>\n",
       "      <th>1</th>\n",
       "      <td>2</td>\n",
       "      <td>4</td>\n",
       "      <td>2009-01-02 00:00:00</td>\n",
       "      <td>Ullevålsveien 14</td>\n",
       "      <td>Oslo</td>\n",
       "      <td>None</td>\n",
       "      <td>Norway</td>\n",
       "      <td>0171</td>\n",
       "      <td>3.96</td>\n",
       "    </tr>\n",
       "    <tr>\n",
       "      <th>2</th>\n",
       "      <td>3</td>\n",
       "      <td>8</td>\n",
       "      <td>2009-01-03 00:00:00</td>\n",
       "      <td>Grétrystraat 63</td>\n",
       "      <td>Brussels</td>\n",
       "      <td>None</td>\n",
       "      <td>Belgium</td>\n",
       "      <td>1000</td>\n",
       "      <td>5.94</td>\n",
       "    </tr>\n",
       "    <tr>\n",
       "      <th>3</th>\n",
       "      <td>4</td>\n",
       "      <td>14</td>\n",
       "      <td>2009-01-06 00:00:00</td>\n",
       "      <td>8210 111 ST NW</td>\n",
       "      <td>Edmonton</td>\n",
       "      <td>AB</td>\n",
       "      <td>Canada</td>\n",
       "      <td>T6G 2C7</td>\n",
       "      <td>8.91</td>\n",
       "    </tr>\n",
       "    <tr>\n",
       "      <th>4</th>\n",
       "      <td>5</td>\n",
       "      <td>23</td>\n",
       "      <td>2009-01-11 00:00:00</td>\n",
       "      <td>69 Salem Street</td>\n",
       "      <td>Boston</td>\n",
       "      <td>MA</td>\n",
       "      <td>USA</td>\n",
       "      <td>2113</td>\n",
       "      <td>13.86</td>\n",
       "    </tr>\n",
       "  </tbody>\n",
       "</table>\n",
       "</div>"
      ],
      "text/plain": [
       "   InvoiceId  CustomerId          InvoiceDate           BillingAddress  \\\n",
       "0          1           2  2009-01-01 00:00:00  Theodor-Heuss-Straße 34   \n",
       "1          2           4  2009-01-02 00:00:00         Ullevålsveien 14   \n",
       "2          3           8  2009-01-03 00:00:00          Grétrystraat 63   \n",
       "3          4          14  2009-01-06 00:00:00           8210 111 ST NW   \n",
       "4          5          23  2009-01-11 00:00:00          69 Salem Street   \n",
       "\n",
       "  BillingCity BillingState BillingCountry BillingPostalCode  Total  \n",
       "0   Stuttgart         None        Germany             70174   1.98  \n",
       "1        Oslo         None         Norway              0171   3.96  \n",
       "2    Brussels         None        Belgium              1000   5.94  \n",
       "3    Edmonton           AB         Canada           T6G 2C7   8.91  \n",
       "4      Boston           MA            USA              2113  13.86  "
      ]
     },
     "execution_count": 7,
     "metadata": {},
     "output_type": "execute_result"
    }
   ],
   "source": [
    "df3 = pd.read_sql_query(\"select * from invoices\", conn); df3.head()"
   ]
  },
  {
   "cell_type": "code",
   "execution_count": 8,
   "id": "de434613-d846-4e64-9dea-4146f2c7f22d",
   "metadata": {
    "scrolled": true
   },
   "outputs": [
    {
     "data": {
      "image/png": "[encoded data removed]",
      "text/plain": [
       "<Figure size 864x360 with 1 Axes>"
      ]
     },
     "metadata": {
      "needs_background": "light"
     },
     "output_type": "display_data"
    }
   ],
   "source": [
    "plt.figure(figsize=(12,5))\n",
    "plt.hist(df3.Total, density=True, color='#ff33cc')\n",
    "plt.title('Histograma de Compras')\n",
    "plt.xlabel('Monto')\n",
    "plt.ylabel('Probabilidad');"
   ]
  },
  {
   "cell_type": "markdown",
   "id": "d4053c61-8100-4c48-8a76-faf30252c11d",
   "metadata": {},
   "source": [
    "# Agrupación con SQL"
   ]
  },
  {
   "cell_type": "code",
   "execution_count": 9,
   "id": "d40ff3f3-2cb6-4931-96bc-184197dcf9a8",
   "metadata": {},
   "outputs": [
    {
     "data": {
      "text/html": [
       "<div>\n",
       "<style scoped>\n",
       "    .dataframe tbody tr th:only-of-type {\n",
       "        vertical-align: middle;\n",
       "    }\n",
       "\n",
       "    .dataframe tbody tr th {\n",
       "        vertical-align: top;\n",
       "    }\n",
       "\n",
       "    .dataframe thead th {\n",
       "        text-align: right;\n",
       "    }\n",
       "</style>\n",
       "<table border=\"1\" class=\"dataframe\">\n",
       "  <thead>\n",
       "    <tr style=\"text-align: right;\">\n",
       "      <th></th>\n",
       "      <th>Country</th>\n",
       "      <th>Amount</th>\n",
       "    </tr>\n",
       "  </thead>\n",
       "  <tbody>\n",
       "    <tr>\n",
       "      <th>0</th>\n",
       "      <td>Brazil</td>\n",
       "      <td>190.10</td>\n",
       "    </tr>\n",
       "    <tr>\n",
       "      <th>1</th>\n",
       "      <td>Canada</td>\n",
       "      <td>303.96</td>\n",
       "    </tr>\n",
       "    <tr>\n",
       "      <th>2</th>\n",
       "      <td>France</td>\n",
       "      <td>195.10</td>\n",
       "    </tr>\n",
       "    <tr>\n",
       "      <th>3</th>\n",
       "      <td>Germany</td>\n",
       "      <td>156.48</td>\n",
       "    </tr>\n",
       "    <tr>\n",
       "      <th>4</th>\n",
       "      <td>USA</td>\n",
       "      <td>523.06</td>\n",
       "    </tr>\n",
       "    <tr>\n",
       "      <th>5</th>\n",
       "      <td>United Kingdom</td>\n",
       "      <td>112.86</td>\n",
       "    </tr>\n",
       "  </tbody>\n",
       "</table>\n",
       "</div>"
      ],
      "text/plain": [
       "          Country  Amount\n",
       "0          Brazil  190.10\n",
       "1          Canada  303.96\n",
       "2          France  195.10\n",
       "3         Germany  156.48\n",
       "4             USA  523.06\n",
       "5  United Kingdom  112.86"
      ]
     },
     "execution_count": 9,
     "metadata": {},
     "output_type": "execute_result"
    }
   ],
   "source": [
    "sql = \"\"\"\n",
    "select BillingCountry as Country, sum(Total) as Amount\n",
    "from invoices\n",
    "group by BillingCountry\n",
    "having Amount > 100\n",
    "\"\"\"\n",
    "pd.read_sql_query(sql, conn)"
   ]
  },
  {
   "cell_type": "markdown",
   "id": "0e004705-38af-487e-8992-a929c040454c",
   "metadata": {},
   "source": [
    "# Agrupación con Pandas"
   ]
  },
  {
   "cell_type": "code",
   "execution_count": 10,
   "id": "46f941ce-d613-4645-b46c-5421bdf4e97a",
   "metadata": {},
   "outputs": [
    {
     "data": {
      "text/html": [
       "<div>\n",
       "<style scoped>\n",
       "    .dataframe tbody tr th:only-of-type {\n",
       "        vertical-align: middle;\n",
       "    }\n",
       "\n",
       "    .dataframe tbody tr th {\n",
       "        vertical-align: top;\n",
       "    }\n",
       "\n",
       "    .dataframe thead th {\n",
       "        text-align: right;\n",
       "    }\n",
       "</style>\n",
       "<table border=\"1\" class=\"dataframe\">\n",
       "  <thead>\n",
       "    <tr style=\"text-align: right;\">\n",
       "      <th></th>\n",
       "      <th>Country</th>\n",
       "      <th>Amount</th>\n",
       "    </tr>\n",
       "  </thead>\n",
       "  <tbody>\n",
       "    <tr>\n",
       "      <th>0</th>\n",
       "      <td>Brazil</td>\n",
       "      <td>190.10</td>\n",
       "    </tr>\n",
       "    <tr>\n",
       "      <th>1</th>\n",
       "      <td>Canada</td>\n",
       "      <td>303.96</td>\n",
       "    </tr>\n",
       "    <tr>\n",
       "      <th>2</th>\n",
       "      <td>France</td>\n",
       "      <td>195.10</td>\n",
       "    </tr>\n",
       "    <tr>\n",
       "      <th>3</th>\n",
       "      <td>Germany</td>\n",
       "      <td>156.48</td>\n",
       "    </tr>\n",
       "    <tr>\n",
       "      <th>4</th>\n",
       "      <td>USA</td>\n",
       "      <td>523.06</td>\n",
       "    </tr>\n",
       "    <tr>\n",
       "      <th>5</th>\n",
       "      <td>United Kingdom</td>\n",
       "      <td>112.86</td>\n",
       "    </tr>\n",
       "  </tbody>\n",
       "</table>\n",
       "</div>"
      ],
      "text/plain": [
       "          Country  Amount\n",
       "0          Brazil  190.10\n",
       "1          Canada  303.96\n",
       "2          France  195.10\n",
       "3         Germany  156.48\n",
       "4             USA  523.06\n",
       "5  United Kingdom  112.86"
      ]
     },
     "execution_count": 10,
     "metadata": {},
     "output_type": "execute_result"
    }
   ],
   "source": [
    "df3.groupby('BillingCountry').sum()[['Total']].query('Total > 100').reset_index().rename(columns={\"BillingCountry\": \"Country\", \"Total\": \"Amount\"})"
   ]
  },
  {
   "cell_type": "markdown",
   "id": "cfedd757-99e4-4784-bcfb-4cda7e827f13",
   "metadata": {},
   "source": [
    "# Datos de tiempo"
   ]
  },
  {
   "cell_type": "code",
   "execution_count": 10,
   "id": "32fc5a6f-5939-4678-b989-e0a54069ca53",
   "metadata": {},
   "outputs": [
    {
     "name": "stdout",
     "output_type": "stream",
     "text": [
      "<class 'pandas.core.frame.DataFrame'>\n",
      "RangeIndex: 412 entries, 0 to 411\n",
      "Data columns (total 9 columns):\n",
      " #   Column             Non-Null Count  Dtype  \n",
      "---  ------             --------------  -----  \n",
      " 0   InvoiceId          412 non-null    int64  \n",
      " 1   CustomerId         412 non-null    int64  \n",
      " 2   InvoiceDate        412 non-null    object \n",
      " 3   BillingAddress     412 non-null    object \n",
      " 4   BillingCity        412 non-null    object \n",
      " 5   BillingState       210 non-null    object \n",
      " 6   BillingCountry     412 non-null    object \n",
      " 7   BillingPostalCode  384 non-null    object \n",
      " 8   Total              412 non-null    float64\n",
      "dtypes: float64(1), int64(2), object(6)\n",
      "memory usage: 29.1+ KB\n"
     ]
    }
   ],
   "source": [
    "# Revisar el tipo de dato por columna\n",
    "df3.info()"
   ]
  },
  {
   "cell_type": "markdown",
   "id": "4f19d7ca",
   "metadata": {},
   "source": [
    "InvoiceDate contiene información sobre el día y la hora, sin embargo es una cadena de caracteres $(string)$"
   ]
  },
  {
   "cell_type": "code",
   "execution_count": 11,
   "id": "7b644cb4-9dd7-4609-a71f-55b44c3edf1b",
   "metadata": {},
   "outputs": [
    {
     "data": {
      "text/plain": [
       "0      2009-01-01 00:00:00\n",
       "1      2009-01-02 00:00:00\n",
       "2      2009-01-03 00:00:00\n",
       "3      2009-01-06 00:00:00\n",
       "4      2009-01-11 00:00:00\n",
       "              ...         \n",
       "407    2013-12-05 00:00:00\n",
       "408    2013-12-06 00:00:00\n",
       "409    2013-12-09 00:00:00\n",
       "410    2013-12-14 00:00:00\n",
       "411    2013-12-22 00:00:00\n",
       "Name: InvoiceDate, Length: 412, dtype: object"
      ]
     },
     "execution_count": 11,
     "metadata": {},
     "output_type": "execute_result"
    }
   ],
   "source": [
    "df3.InvoiceDate"
   ]
  },
  {
   "cell_type": "markdown",
   "id": "362542a5",
   "metadata": {},
   "source": [
    "### Cambiar el tipo de datos de string a $datetime$"
   ]
  },
  {
   "cell_type": "code",
   "execution_count": 12,
   "id": "c24bd8f0-a43b-47f7-9f7d-7cf32c8021aa",
   "metadata": {},
   "outputs": [
    {
     "data": {
      "text/plain": [
       "0     2009-01-01\n",
       "1     2009-01-02\n",
       "2     2009-01-03\n",
       "3     2009-01-06\n",
       "4     2009-01-11\n",
       "         ...    \n",
       "407   2013-12-05\n",
       "408   2013-12-06\n",
       "409   2013-12-09\n",
       "410   2013-12-14\n",
       "411   2013-12-22\n",
       "Name: InvoiceDate, Length: 412, dtype: datetime64[ns]"
      ]
     },
     "execution_count": 12,
     "metadata": {},
     "output_type": "execute_result"
    }
   ],
   "source": [
    "pd.to_datetime(df3.InvoiceDate)"
   ]
  },
  {
   "cell_type": "code",
   "execution_count": 13,
   "id": "68b5e500-a1dc-4781-9a45-3af616c69db4",
   "metadata": {},
   "outputs": [],
   "source": [
    "df3['InvoiceDate'] = pd.to_datetime(df3.InvoiceDate) #guardar en columna InvoiceDate"
   ]
  },
  {
   "cell_type": "code",
   "execution_count": 15,
   "id": "e2313e1b",
   "metadata": {},
   "outputs": [
    {
     "name": "stdout",
     "output_type": "stream",
     "text": [
      "<class 'pandas.core.frame.DataFrame'>\n",
      "RangeIndex: 412 entries, 0 to 411\n",
      "Data columns (total 9 columns):\n",
      " #   Column             Non-Null Count  Dtype         \n",
      "---  ------             --------------  -----         \n",
      " 0   InvoiceId          412 non-null    int64         \n",
      " 1   CustomerId         412 non-null    int64         \n",
      " 2   InvoiceDate        412 non-null    datetime64[ns]\n",
      " 3   BillingAddress     412 non-null    object        \n",
      " 4   BillingCity        412 non-null    object        \n",
      " 5   BillingState       210 non-null    object        \n",
      " 6   BillingCountry     412 non-null    object        \n",
      " 7   BillingPostalCode  384 non-null    object        \n",
      " 8   Total              412 non-null    float64       \n",
      "dtypes: datetime64[ns](1), float64(1), int64(2), object(5)\n",
      "memory usage: 29.1+ KB\n"
     ]
    }
   ],
   "source": [
    "df3.info() #Confirmar el tipo de dato $DateTime$"
   ]
  },
  {
   "cell_type": "markdown",
   "id": "821f482d",
   "metadata": {},
   "source": [
    "### El tipo de datos DateTime permite realizar operaciones numéricas\n",
    "\n",
    "Por ejemplo, obtener los estadísticos descriptivos"
   ]
  },
  {
   "cell_type": "code",
   "execution_count": 16,
   "id": "d4fa835c-07e1-4de4-85d3-f84e584c1142",
   "metadata": {},
   "outputs": [
    {
     "data": {
      "text/plain": [
       "count                              412\n",
       "mean     2011-06-26 08:05:49.514563072\n",
       "min                2009-01-01 00:00:00\n",
       "25%                2010-03-27 00:00:00\n",
       "50%                2011-06-22 12:00:00\n",
       "75%                2012-09-26 06:00:00\n",
       "max                2013-12-22 00:00:00\n",
       "Name: InvoiceDate, dtype: object"
      ]
     },
     "execution_count": 16,
     "metadata": {},
     "output_type": "execute_result"
    }
   ],
   "source": [
    "df3.InvoiceDate.describe(datetime_is_numeric=True)"
   ]
  },
  {
   "cell_type": "markdown",
   "id": "eae2724e",
   "metadata": {},
   "source": [
    "Encontrar fechas mas recuientes a un día en específico (1 de Enero de 2011)"
   ]
  },
  {
   "cell_type": "code",
   "execution_count": 18,
   "id": "a56d9335-0f33-4ad9-bddc-043fc452a56a",
   "metadata": {},
   "outputs": [
    {
     "data": {
      "text/plain": [
       "0      False\n",
       "1      False\n",
       "2      False\n",
       "3      False\n",
       "4      False\n",
       "       ...  \n",
       "407     True\n",
       "408     True\n",
       "409     True\n",
       "410     True\n",
       "411     True\n",
       "Name: InvoiceDate, Length: 412, dtype: bool"
      ]
     },
     "execution_count": 18,
     "metadata": {},
     "output_type": "execute_result"
    }
   ],
   "source": [
    "df3.InvoiceDate > '2011-01-01'"
   ]
  },
  {
   "cell_type": "markdown",
   "id": "519ee59b",
   "metadata": {},
   "source": [
    "Encontrar fechas entre dos días en específico (1 de Enero de 2009 y 1 de Junio de 2009)"
   ]
  },
  {
   "cell_type": "code",
   "execution_count": 19,
   "id": "b759dfb4-c549-4165-9d50-b6c6ef439b44",
   "metadata": {},
   "outputs": [
    {
     "data": {
      "text/plain": [
       "0       True\n",
       "1       True\n",
       "2       True\n",
       "3       True\n",
       "4       True\n",
       "       ...  \n",
       "407    False\n",
       "408    False\n",
       "409    False\n",
       "410    False\n",
       "411    False\n",
       "Name: InvoiceDate, Length: 412, dtype: bool"
      ]
     },
     "execution_count": 19,
     "metadata": {},
     "output_type": "execute_result"
    }
   ],
   "source": [
    "df3.InvoiceDate.between('2009-01-01', '2009-06-01')"
   ]
  },
  {
   "cell_type": "markdown",
   "id": "a6f39266",
   "metadata": {},
   "source": [
    "A finalizar la sesión es necesario terminar la conexión para detener la interacción con la BD"
   ]
  },
  {
   "cell_type": "markdown",
   "id": "3443a86b-e4c1-4fbf-8388-b67bc5941d49",
   "metadata": {},
   "source": [
    "# Terminar la conexión"
   ]
  },
  {
   "cell_type": "code",
   "execution_count": 21,
   "id": "64efba87-1e99-4a14-b7fb-8fb00a8cef36",
   "metadata": {},
   "outputs": [],
   "source": [
    "conn.close()"
   ]
  },
  {
   "cell_type": "code",
   "execution_count": null,
   "id": "dfaa607f-3f97-475b-8d82-eb192c6f7fd2",
   "metadata": {},
   "outputs": [],
   "source": []
  }
 ],
 "metadata": {
  "kernelspec": {
   "display_name": "Python 3 (ipykernel)",
   "language": "python",
   "name": "python3"
  },
  "language_info": {
   "codemirror_mode": {
    "name": "ipython",
    "version": 3
   },
   "file_extension": ".py",
   "mimetype": "text/x-python",
   "name": "python",
   "nbconvert_exporter": "python",
   "pygments_lexer": "ipython3",
   "version": "3.9.12"
  }
 },
 "nbformat": 4,
 "nbformat_minor": 5
}
