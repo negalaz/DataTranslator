{
 "cells": [
  {
   "cell_type": "code",
   "execution_count": 45,
   "id": "6f59c9d5",
   "metadata": {},
   "outputs": [
    {
     "name": "stdout",
     "output_type": "stream",
     "text": [
      "Hola Mundo\n"
     ]
    }
   ],
   "source": [
    "print(\"Hola Mundo\");"
   ]
  },
  {
   "cell_type": "code",
   "execution_count": 2,
   "id": "17f23485",
   "metadata": {},
   "outputs": [],
   "source": [
    "def holamundo():\n",
    "    print(\"Hola Mundo Funcion\");"
   ]
  },
  {
   "cell_type": "code",
   "execution_count": 47,
   "id": "d3c25694",
   "metadata": {},
   "outputs": [
    {
     "name": "stdout",
     "output_type": "stream",
     "text": [
      "Hola Mundo Funcion\n"
     ]
    }
   ],
   "source": [
    "holamundo();"
   ]
  },
  {
   "cell_type": "code",
   "execution_count": 51,
   "id": "e3382215",
   "metadata": {},
   "outputs": [
    {
     "name": "stdout",
     "output_type": "stream",
     "text": [
      "15\n"
     ]
    }
   ],
   "source": [
    "valorColores = {\"Negro\":0,\"Marron\":1,\"Rojo\":2,\"Naranja\":3,\"Amarillo\":4,\"Verde\":5,\"Azul\":6,\"Purpura\":7,\"Gris\":8,\"Blanco\":9}\n",
    "\n",
    "def resistencia(cadena):\n",
    "    colores = cadena.split('-');\n",
    "    respuesta = \"\";\n",
    "    \n",
    "    for color in colores:\n",
    "        respuesta = respuesta + str(valorColores[color]);\n",
    "    \n",
    "    print (respuesta);\n",
    "    \n",
    "resistencia(\"Marron-Verde\");\n"
   ]
  },
  {
   "cell_type": "code",
   "execution_count": 52,
   "id": "4fe9680a",
   "metadata": {},
   "outputs": [
    {
     "name": "stdout",
     "output_type": "stream",
     "text": [
      "Es biciesto\n",
      "No es biciesto\n",
      "No es biciesto\n",
      "No es biciesto\n",
      "Es biciesto\n"
     ]
    }
   ],
   "source": [
    "def biciesto(anio):\n",
    "    x = 0;\n",
    "    \n",
    "    if(anio % 4 == 0):\n",
    "        x=1;\n",
    "        if(anio % 100 == 0):\n",
    "            x=0;\n",
    "            if(anio % 400 == 0):\n",
    "                x=1;\n",
    "    if(x == 1):\n",
    "        print(\"Es biciesto\");\n",
    "    else:\n",
    "        print(\"No es biciesto\");\n",
    "        \n",
    "biciesto(2004);\n",
    "biciesto(2005);\n",
    "biciesto(2006);\n",
    "biciesto(2007);\n",
    "biciesto(2008);\n",
    "\n"
   ]
  },
  {
   "cell_type": "code",
   "execution_count": 53,
   "id": "01fa9f6b",
   "metadata": {},
   "outputs": [
    {
     "name": "stdout",
     "output_type": "stream",
     "text": [
      "280.88\n",
      "9.78\n",
      "31.69\n",
      "35.88\n",
      "2.41\n",
      "2.15\n",
      "0.46\n",
      "0.35\n"
     ]
    }
   ],
   "source": [
    "def edadPlaneta(edadSegundos,planeta):\n",
    "    anioSeg = 31557600;\n",
    "    aniosTierra = edadSegundos/anioSeg;\n",
    "    orbitas = {\"Mercurio\":.2408467,\"Venus\":.61519726,\"Marte\":1.8808158\n",
    "              ,\"Jupiter\":11.862615\n",
    "              ,\"Saturno\":29.447498\n",
    "              ,\"Urano\":84.016846\n",
    "              ,\"Neptuno\":164.79132};\n",
    "    \n",
    "    if(planeta == \"Tierra\"):\n",
    "        print (round(aniosTierra,2))\n",
    "    else:\n",
    "        print(round(aniosTierra / orbitas[planeta],2))\n",
    "        \n",
    "\n",
    "edadPlaneta(2134835688,\"Mercurio\");\n",
    "edadPlaneta(189839836,\"Venus\");\n",
    "edadPlaneta(1000000000,\"Tierra\");\n",
    "edadPlaneta(2129871239,\"Marte\");\n",
    "edadPlaneta(901876382,\"Jupiter\");\n",
    "edadPlaneta(2000000000,\"Saturno\");\n",
    "edadPlaneta(1210123456,\"Urano\");\n",
    "edadPlaneta(1821023456,\"Neptuno\");\n",
    "\n",
    "    \n",
    "    \n",
    "    \n",
    "    "
   ]
  },
  {
   "cell_type": "code",
   "execution_count": null,
   "id": "ceafb73f",
   "metadata": {},
   "outputs": [],
   "source": []
  }
 ],
 "metadata": {
  "kernelspec": {
   "display_name": "Python 3 (ipykernel)",
   "language": "python",
   "name": "python3"
  },
  "language_info": {
   "codemirror_mode": {
    "name": "ipython",
    "version": 3
   },
   "file_extension": ".py",
   "mimetype": "text/x-python",
   "name": "python",
   "nbconvert_exporter": "python",
   "pygments_lexer": "ipython3",
   "version": "3.9.12"
  }
 },
 "nbformat": 4,
 "nbformat_minor": 5
}
